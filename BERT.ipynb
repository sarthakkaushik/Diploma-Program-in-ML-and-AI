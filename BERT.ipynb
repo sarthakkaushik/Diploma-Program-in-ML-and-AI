{
  "nbformat": 4,
  "nbformat_minor": 0,
  "metadata": {
    "colab": {
      "name": "BERT.ipynb",
      "provenance": [],
      "collapsed_sections": [],
      "include_colab_link": true
    },
    "kernelspec": {
      "name": "python3",
      "display_name": "Python 3"
    },
    "widgets": {
      "application/vnd.jupyter.widget-state+json": {
        "cea4e7dd45bf470a929daf99ef9f11c8": {
          "model_module": "@jupyter-widgets/controls",
          "model_name": "HBoxModel",
          "state": {
            "_view_name": "HBoxView",
            "_dom_classes": [],
            "_model_name": "HBoxModel",
            "_view_module": "@jupyter-widgets/controls",
            "_model_module_version": "1.5.0",
            "_view_count": null,
            "_view_module_version": "1.5.0",
            "box_style": "",
            "layout": "IPY_MODEL_b9fc9b625bb84366ab63591fff20314e",
            "_model_module": "@jupyter-widgets/controls",
            "children": [
              "IPY_MODEL_4772da3260794d7ba2ad967f72e27120",
              "IPY_MODEL_1942161bc8cb45529825cba44e4ce27c"
            ]
          },
          "model_module_version": "1.5.0"
        },
        "b9fc9b625bb84366ab63591fff20314e": {
          "model_module": "@jupyter-widgets/base",
          "model_name": "LayoutModel",
          "state": {
            "_view_name": "LayoutView",
            "grid_template_rows": null,
            "right": null,
            "justify_content": null,
            "_view_module": "@jupyter-widgets/base",
            "overflow": null,
            "_model_module_version": "1.2.0",
            "_view_count": null,
            "flex_flow": null,
            "width": null,
            "min_width": null,
            "border": null,
            "align_items": null,
            "bottom": null,
            "_model_module": "@jupyter-widgets/base",
            "top": null,
            "grid_column": null,
            "overflow_y": null,
            "overflow_x": null,
            "grid_auto_flow": null,
            "grid_area": null,
            "grid_template_columns": null,
            "flex": null,
            "_model_name": "LayoutModel",
            "justify_items": null,
            "grid_row": null,
            "max_height": null,
            "align_content": null,
            "visibility": null,
            "align_self": null,
            "height": null,
            "min_height": null,
            "padding": null,
            "grid_auto_rows": null,
            "grid_gap": null,
            "max_width": null,
            "order": null,
            "_view_module_version": "1.2.0",
            "grid_template_areas": null,
            "object_position": null,
            "object_fit": null,
            "grid_auto_columns": null,
            "margin": null,
            "display": null,
            "left": null
          },
          "model_module_version": "1.2.0"
        },
        "4772da3260794d7ba2ad967f72e27120": {
          "model_module": "@jupyter-widgets/controls",
          "model_name": "FloatProgressModel",
          "state": {
            "_view_name": "ProgressView",
            "style": "IPY_MODEL_73e477ce83144fda8728cb508df8c419",
            "_dom_classes": [],
            "description": "Downloading: 100%",
            "_model_name": "FloatProgressModel",
            "bar_style": "success",
            "max": 213450,
            "_view_module": "@jupyter-widgets/controls",
            "_model_module_version": "1.5.0",
            "value": 213450,
            "_view_count": null,
            "_view_module_version": "1.5.0",
            "orientation": "horizontal",
            "min": 0,
            "description_tooltip": null,
            "_model_module": "@jupyter-widgets/controls",
            "layout": "IPY_MODEL_32fe01e95724406aa0577b2efe2aa177"
          },
          "model_module_version": "1.5.0"
        },
        "1942161bc8cb45529825cba44e4ce27c": {
          "model_module": "@jupyter-widgets/controls",
          "model_name": "HTMLModel",
          "state": {
            "_view_name": "HTMLView",
            "style": "IPY_MODEL_0cbcd0cc18714e038c9378b91d1372a2",
            "_dom_classes": [],
            "description": "",
            "_model_name": "HTMLModel",
            "placeholder": "​",
            "_view_module": "@jupyter-widgets/controls",
            "_model_module_version": "1.5.0",
            "value": " 213k/213k [00:00&lt;00:00, 1.27MB/s]",
            "_view_count": null,
            "_view_module_version": "1.5.0",
            "description_tooltip": null,
            "_model_module": "@jupyter-widgets/controls",
            "layout": "IPY_MODEL_d09ea7b3d1cf44558d3ce2406f3e2127"
          },
          "model_module_version": "1.5.0"
        },
        "73e477ce83144fda8728cb508df8c419": {
          "model_module": "@jupyter-widgets/controls",
          "model_name": "ProgressStyleModel",
          "state": {
            "_view_name": "StyleView",
            "_model_name": "ProgressStyleModel",
            "description_width": "initial",
            "_view_module": "@jupyter-widgets/base",
            "_model_module_version": "1.5.0",
            "_view_count": null,
            "_view_module_version": "1.2.0",
            "bar_color": null,
            "_model_module": "@jupyter-widgets/controls"
          },
          "model_module_version": "1.5.0"
        },
        "32fe01e95724406aa0577b2efe2aa177": {
          "model_module": "@jupyter-widgets/base",
          "model_name": "LayoutModel",
          "state": {
            "_view_name": "LayoutView",
            "grid_template_rows": null,
            "right": null,
            "justify_content": null,
            "_view_module": "@jupyter-widgets/base",
            "overflow": null,
            "_model_module_version": "1.2.0",
            "_view_count": null,
            "flex_flow": null,
            "width": null,
            "min_width": null,
            "border": null,
            "align_items": null,
            "bottom": null,
            "_model_module": "@jupyter-widgets/base",
            "top": null,
            "grid_column": null,
            "overflow_y": null,
            "overflow_x": null,
            "grid_auto_flow": null,
            "grid_area": null,
            "grid_template_columns": null,
            "flex": null,
            "_model_name": "LayoutModel",
            "justify_items": null,
            "grid_row": null,
            "max_height": null,
            "align_content": null,
            "visibility": null,
            "align_self": null,
            "height": null,
            "min_height": null,
            "padding": null,
            "grid_auto_rows": null,
            "grid_gap": null,
            "max_width": null,
            "order": null,
            "_view_module_version": "1.2.0",
            "grid_template_areas": null,
            "object_position": null,
            "object_fit": null,
            "grid_auto_columns": null,
            "margin": null,
            "display": null,
            "left": null
          },
          "model_module_version": "1.2.0"
        },
        "0cbcd0cc18714e038c9378b91d1372a2": {
          "model_module": "@jupyter-widgets/controls",
          "model_name": "DescriptionStyleModel",
          "state": {
            "_view_name": "StyleView",
            "_model_name": "DescriptionStyleModel",
            "description_width": "",
            "_view_module": "@jupyter-widgets/base",
            "_model_module_version": "1.5.0",
            "_view_count": null,
            "_view_module_version": "1.2.0",
            "_model_module": "@jupyter-widgets/controls"
          },
          "model_module_version": "1.5.0"
        },
        "d09ea7b3d1cf44558d3ce2406f3e2127": {
          "model_module": "@jupyter-widgets/base",
          "model_name": "LayoutModel",
          "state": {
            "_view_name": "LayoutView",
            "grid_template_rows": null,
            "right": null,
            "justify_content": null,
            "_view_module": "@jupyter-widgets/base",
            "overflow": null,
            "_model_module_version": "1.2.0",
            "_view_count": null,
            "flex_flow": null,
            "width": null,
            "min_width": null,
            "border": null,
            "align_items": null,
            "bottom": null,
            "_model_module": "@jupyter-widgets/base",
            "top": null,
            "grid_column": null,
            "overflow_y": null,
            "overflow_x": null,
            "grid_auto_flow": null,
            "grid_area": null,
            "grid_template_columns": null,
            "flex": null,
            "_model_name": "LayoutModel",
            "justify_items": null,
            "grid_row": null,
            "max_height": null,
            "align_content": null,
            "visibility": null,
            "align_self": null,
            "height": null,
            "min_height": null,
            "padding": null,
            "grid_auto_rows": null,
            "grid_gap": null,
            "max_width": null,
            "order": null,
            "_view_module_version": "1.2.0",
            "grid_template_areas": null,
            "object_position": null,
            "object_fit": null,
            "grid_auto_columns": null,
            "margin": null,
            "display": null,
            "left": null
          },
          "model_module_version": "1.2.0"
        },
        "0de421e5fe734ae5b4de8ac3d7493a0a": {
          "model_module": "@jupyter-widgets/controls",
          "model_name": "HBoxModel",
          "state": {
            "_view_name": "HBoxView",
            "_dom_classes": [],
            "_model_name": "HBoxModel",
            "_view_module": "@jupyter-widgets/controls",
            "_model_module_version": "1.5.0",
            "_view_count": null,
            "_view_module_version": "1.5.0",
            "box_style": "",
            "layout": "IPY_MODEL_2db052bd0ffb4ef2bc125379d272c548",
            "_model_module": "@jupyter-widgets/controls",
            "children": [
              "IPY_MODEL_7b1a4abf3cd14027b47b95fc4484fa8d",
              "IPY_MODEL_7cca122e88db4ff0becde5bda8d1e500"
            ]
          },
          "model_module_version": "1.5.0"
        },
        "2db052bd0ffb4ef2bc125379d272c548": {
          "model_module": "@jupyter-widgets/base",
          "model_name": "LayoutModel",
          "state": {
            "_view_name": "LayoutView",
            "grid_template_rows": null,
            "right": null,
            "justify_content": null,
            "_view_module": "@jupyter-widgets/base",
            "overflow": null,
            "_model_module_version": "1.2.0",
            "_view_count": null,
            "flex_flow": null,
            "width": null,
            "min_width": null,
            "border": null,
            "align_items": null,
            "bottom": null,
            "_model_module": "@jupyter-widgets/base",
            "top": null,
            "grid_column": null,
            "overflow_y": null,
            "overflow_x": null,
            "grid_auto_flow": null,
            "grid_area": null,
            "grid_template_columns": null,
            "flex": null,
            "_model_name": "LayoutModel",
            "justify_items": null,
            "grid_row": null,
            "max_height": null,
            "align_content": null,
            "visibility": null,
            "align_self": null,
            "height": null,
            "min_height": null,
            "padding": null,
            "grid_auto_rows": null,
            "grid_gap": null,
            "max_width": null,
            "order": null,
            "_view_module_version": "1.2.0",
            "grid_template_areas": null,
            "object_position": null,
            "object_fit": null,
            "grid_auto_columns": null,
            "margin": null,
            "display": null,
            "left": null
          },
          "model_module_version": "1.2.0"
        },
        "7b1a4abf3cd14027b47b95fc4484fa8d": {
          "model_module": "@jupyter-widgets/controls",
          "model_name": "FloatProgressModel",
          "state": {
            "_view_name": "ProgressView",
            "style": "IPY_MODEL_4a7375be7d024f8a9d8847f8b6588c60",
            "_dom_classes": [],
            "description": "Downloading: 100%",
            "_model_name": "FloatProgressModel",
            "bar_style": "success",
            "max": 231508,
            "_view_module": "@jupyter-widgets/controls",
            "_model_module_version": "1.5.0",
            "value": 231508,
            "_view_count": null,
            "_view_module_version": "1.5.0",
            "orientation": "horizontal",
            "min": 0,
            "description_tooltip": null,
            "_model_module": "@jupyter-widgets/controls",
            "layout": "IPY_MODEL_0c6a331d772b4c909cf2c20adc11572d"
          },
          "model_module_version": "1.5.0"
        },
        "7cca122e88db4ff0becde5bda8d1e500": {
          "model_module": "@jupyter-widgets/controls",
          "model_name": "HTMLModel",
          "state": {
            "_view_name": "HTMLView",
            "style": "IPY_MODEL_9caa3d156d2c4892ac7fbcbbf6d3c53e",
            "_dom_classes": [],
            "description": "",
            "_model_name": "HTMLModel",
            "placeholder": "​",
            "_view_module": "@jupyter-widgets/controls",
            "_model_module_version": "1.5.0",
            "value": " 232k/232k [00:00&lt;00:00, 1.53MB/s]",
            "_view_count": null,
            "_view_module_version": "1.5.0",
            "description_tooltip": null,
            "_model_module": "@jupyter-widgets/controls",
            "layout": "IPY_MODEL_3c68a24a9aa0416fb33142836814f44b"
          },
          "model_module_version": "1.5.0"
        },
        "4a7375be7d024f8a9d8847f8b6588c60": {
          "model_module": "@jupyter-widgets/controls",
          "model_name": "ProgressStyleModel",
          "state": {
            "_view_name": "StyleView",
            "_model_name": "ProgressStyleModel",
            "description_width": "initial",
            "_view_module": "@jupyter-widgets/base",
            "_model_module_version": "1.5.0",
            "_view_count": null,
            "_view_module_version": "1.2.0",
            "bar_color": null,
            "_model_module": "@jupyter-widgets/controls"
          },
          "model_module_version": "1.5.0"
        },
        "0c6a331d772b4c909cf2c20adc11572d": {
          "model_module": "@jupyter-widgets/base",
          "model_name": "LayoutModel",
          "state": {
            "_view_name": "LayoutView",
            "grid_template_rows": null,
            "right": null,
            "justify_content": null,
            "_view_module": "@jupyter-widgets/base",
            "overflow": null,
            "_model_module_version": "1.2.0",
            "_view_count": null,
            "flex_flow": null,
            "width": null,
            "min_width": null,
            "border": null,
            "align_items": null,
            "bottom": null,
            "_model_module": "@jupyter-widgets/base",
            "top": null,
            "grid_column": null,
            "overflow_y": null,
            "overflow_x": null,
            "grid_auto_flow": null,
            "grid_area": null,
            "grid_template_columns": null,
            "flex": null,
            "_model_name": "LayoutModel",
            "justify_items": null,
            "grid_row": null,
            "max_height": null,
            "align_content": null,
            "visibility": null,
            "align_self": null,
            "height": null,
            "min_height": null,
            "padding": null,
            "grid_auto_rows": null,
            "grid_gap": null,
            "max_width": null,
            "order": null,
            "_view_module_version": "1.2.0",
            "grid_template_areas": null,
            "object_position": null,
            "object_fit": null,
            "grid_auto_columns": null,
            "margin": null,
            "display": null,
            "left": null
          },
          "model_module_version": "1.2.0"
        },
        "9caa3d156d2c4892ac7fbcbbf6d3c53e": {
          "model_module": "@jupyter-widgets/controls",
          "model_name": "DescriptionStyleModel",
          "state": {
            "_view_name": "StyleView",
            "_model_name": "DescriptionStyleModel",
            "description_width": "",
            "_view_module": "@jupyter-widgets/base",
            "_model_module_version": "1.5.0",
            "_view_count": null,
            "_view_module_version": "1.2.0",
            "_model_module": "@jupyter-widgets/controls"
          },
          "model_module_version": "1.5.0"
        },
        "3c68a24a9aa0416fb33142836814f44b": {
          "model_module": "@jupyter-widgets/base",
          "model_name": "LayoutModel",
          "state": {
            "_view_name": "LayoutView",
            "grid_template_rows": null,
            "right": null,
            "justify_content": null,
            "_view_module": "@jupyter-widgets/base",
            "overflow": null,
            "_model_module_version": "1.2.0",
            "_view_count": null,
            "flex_flow": null,
            "width": null,
            "min_width": null,
            "border": null,
            "align_items": null,
            "bottom": null,
            "_model_module": "@jupyter-widgets/base",
            "top": null,
            "grid_column": null,
            "overflow_y": null,
            "overflow_x": null,
            "grid_auto_flow": null,
            "grid_area": null,
            "grid_template_columns": null,
            "flex": null,
            "_model_name": "LayoutModel",
            "justify_items": null,
            "grid_row": null,
            "max_height": null,
            "align_content": null,
            "visibility": null,
            "align_self": null,
            "height": null,
            "min_height": null,
            "padding": null,
            "grid_auto_rows": null,
            "grid_gap": null,
            "max_width": null,
            "order": null,
            "_view_module_version": "1.2.0",
            "grid_template_areas": null,
            "object_position": null,
            "object_fit": null,
            "grid_auto_columns": null,
            "margin": null,
            "display": null,
            "left": null
          },
          "model_module_version": "1.2.0"
        },
        "1a9b5d5982bc422bbdaa02cf8cc22557": {
          "model_module": "@jupyter-widgets/controls",
          "model_name": "HBoxModel",
          "state": {
            "_view_name": "HBoxView",
            "_dom_classes": [],
            "_model_name": "HBoxModel",
            "_view_module": "@jupyter-widgets/controls",
            "_model_module_version": "1.5.0",
            "_view_count": null,
            "_view_module_version": "1.5.0",
            "box_style": "",
            "layout": "IPY_MODEL_e272941122a84ca8a9f5141ddccdf6cc",
            "_model_module": "@jupyter-widgets/controls",
            "children": [
              "IPY_MODEL_0012389b0f8d4153a5eb2fa71996e342",
              "IPY_MODEL_2752033efbc84b469d6ff2ad0fcb4d0b"
            ]
          },
          "model_module_version": "1.5.0"
        },
        "e272941122a84ca8a9f5141ddccdf6cc": {
          "model_module": "@jupyter-widgets/base",
          "model_name": "LayoutModel",
          "state": {
            "_view_name": "LayoutView",
            "grid_template_rows": null,
            "right": null,
            "justify_content": null,
            "_view_module": "@jupyter-widgets/base",
            "overflow": null,
            "_model_module_version": "1.2.0",
            "_view_count": null,
            "flex_flow": null,
            "width": null,
            "min_width": null,
            "border": null,
            "align_items": null,
            "bottom": null,
            "_model_module": "@jupyter-widgets/base",
            "top": null,
            "grid_column": null,
            "overflow_y": null,
            "overflow_x": null,
            "grid_auto_flow": null,
            "grid_area": null,
            "grid_template_columns": null,
            "flex": null,
            "_model_name": "LayoutModel",
            "justify_items": null,
            "grid_row": null,
            "max_height": null,
            "align_content": null,
            "visibility": null,
            "align_self": null,
            "height": null,
            "min_height": null,
            "padding": null,
            "grid_auto_rows": null,
            "grid_gap": null,
            "max_width": null,
            "order": null,
            "_view_module_version": "1.2.0",
            "grid_template_areas": null,
            "object_position": null,
            "object_fit": null,
            "grid_auto_columns": null,
            "margin": null,
            "display": null,
            "left": null
          },
          "model_module_version": "1.2.0"
        },
        "0012389b0f8d4153a5eb2fa71996e342": {
          "model_module": "@jupyter-widgets/controls",
          "model_name": "FloatProgressModel",
          "state": {
            "_view_name": "ProgressView",
            "style": "IPY_MODEL_6c35328adf034e6292c6f0c5ea5fbc82",
            "_dom_classes": [],
            "description": "Downloading: 100%",
            "_model_name": "FloatProgressModel",
            "bar_style": "success",
            "max": 442,
            "_view_module": "@jupyter-widgets/controls",
            "_model_module_version": "1.5.0",
            "value": 442,
            "_view_count": null,
            "_view_module_version": "1.5.0",
            "orientation": "horizontal",
            "min": 0,
            "description_tooltip": null,
            "_model_module": "@jupyter-widgets/controls",
            "layout": "IPY_MODEL_adba1c0b3b754a9393f7ac78100803a9"
          },
          "model_module_version": "1.5.0"
        },
        "2752033efbc84b469d6ff2ad0fcb4d0b": {
          "model_module": "@jupyter-widgets/controls",
          "model_name": "HTMLModel",
          "state": {
            "_view_name": "HTMLView",
            "style": "IPY_MODEL_779572ab44f849e2a9154ffbf61d00a1",
            "_dom_classes": [],
            "description": "",
            "_model_name": "HTMLModel",
            "placeholder": "​",
            "_view_module": "@jupyter-widgets/controls",
            "_model_module_version": "1.5.0",
            "value": " 442/442 [00:06&lt;00:00, 70.0B/s]",
            "_view_count": null,
            "_view_module_version": "1.5.0",
            "description_tooltip": null,
            "_model_module": "@jupyter-widgets/controls",
            "layout": "IPY_MODEL_581705c7f9894abb8e73d6eada1a7bdf"
          },
          "model_module_version": "1.5.0"
        },
        "6c35328adf034e6292c6f0c5ea5fbc82": {
          "model_module": "@jupyter-widgets/controls",
          "model_name": "ProgressStyleModel",
          "state": {
            "_view_name": "StyleView",
            "_model_name": "ProgressStyleModel",
            "description_width": "initial",
            "_view_module": "@jupyter-widgets/base",
            "_model_module_version": "1.5.0",
            "_view_count": null,
            "_view_module_version": "1.2.0",
            "bar_color": null,
            "_model_module": "@jupyter-widgets/controls"
          },
          "model_module_version": "1.5.0"
        },
        "adba1c0b3b754a9393f7ac78100803a9": {
          "model_module": "@jupyter-widgets/base",
          "model_name": "LayoutModel",
          "state": {
            "_view_name": "LayoutView",
            "grid_template_rows": null,
            "right": null,
            "justify_content": null,
            "_view_module": "@jupyter-widgets/base",
            "overflow": null,
            "_model_module_version": "1.2.0",
            "_view_count": null,
            "flex_flow": null,
            "width": null,
            "min_width": null,
            "border": null,
            "align_items": null,
            "bottom": null,
            "_model_module": "@jupyter-widgets/base",
            "top": null,
            "grid_column": null,
            "overflow_y": null,
            "overflow_x": null,
            "grid_auto_flow": null,
            "grid_area": null,
            "grid_template_columns": null,
            "flex": null,
            "_model_name": "LayoutModel",
            "justify_items": null,
            "grid_row": null,
            "max_height": null,
            "align_content": null,
            "visibility": null,
            "align_self": null,
            "height": null,
            "min_height": null,
            "padding": null,
            "grid_auto_rows": null,
            "grid_gap": null,
            "max_width": null,
            "order": null,
            "_view_module_version": "1.2.0",
            "grid_template_areas": null,
            "object_position": null,
            "object_fit": null,
            "grid_auto_columns": null,
            "margin": null,
            "display": null,
            "left": null
          },
          "model_module_version": "1.2.0"
        },
        "779572ab44f849e2a9154ffbf61d00a1": {
          "model_module": "@jupyter-widgets/controls",
          "model_name": "DescriptionStyleModel",
          "state": {
            "_view_name": "StyleView",
            "_model_name": "DescriptionStyleModel",
            "description_width": "",
            "_view_module": "@jupyter-widgets/base",
            "_model_module_version": "1.5.0",
            "_view_count": null,
            "_view_module_version": "1.2.0",
            "_model_module": "@jupyter-widgets/controls"
          },
          "model_module_version": "1.5.0"
        },
        "581705c7f9894abb8e73d6eada1a7bdf": {
          "model_module": "@jupyter-widgets/base",
          "model_name": "LayoutModel",
          "state": {
            "_view_name": "LayoutView",
            "grid_template_rows": null,
            "right": null,
            "justify_content": null,
            "_view_module": "@jupyter-widgets/base",
            "overflow": null,
            "_model_module_version": "1.2.0",
            "_view_count": null,
            "flex_flow": null,
            "width": null,
            "min_width": null,
            "border": null,
            "align_items": null,
            "bottom": null,
            "_model_module": "@jupyter-widgets/base",
            "top": null,
            "grid_column": null,
            "overflow_y": null,
            "overflow_x": null,
            "grid_auto_flow": null,
            "grid_area": null,
            "grid_template_columns": null,
            "flex": null,
            "_model_name": "LayoutModel",
            "justify_items": null,
            "grid_row": null,
            "max_height": null,
            "align_content": null,
            "visibility": null,
            "align_self": null,
            "height": null,
            "min_height": null,
            "padding": null,
            "grid_auto_rows": null,
            "grid_gap": null,
            "max_width": null,
            "order": null,
            "_view_module_version": "1.2.0",
            "grid_template_areas": null,
            "object_position": null,
            "object_fit": null,
            "grid_auto_columns": null,
            "margin": null,
            "display": null,
            "left": null
          },
          "model_module_version": "1.2.0"
        },
        "5a577d5983ab4e87a401bee7c9986fb7": {
          "model_module": "@jupyter-widgets/controls",
          "model_name": "HBoxModel",
          "state": {
            "_view_name": "HBoxView",
            "_dom_classes": [],
            "_model_name": "HBoxModel",
            "_view_module": "@jupyter-widgets/controls",
            "_model_module_version": "1.5.0",
            "_view_count": null,
            "_view_module_version": "1.5.0",
            "box_style": "",
            "layout": "IPY_MODEL_819b6ade9ae549e48b497bbd5e7fc9be",
            "_model_module": "@jupyter-widgets/controls",
            "children": [
              "IPY_MODEL_083a21cfd34043fd884a21259b97e96c",
              "IPY_MODEL_92e9a4d0e77b4105a513144e01c6e7a2"
            ]
          },
          "model_module_version": "1.5.0"
        },
        "819b6ade9ae549e48b497bbd5e7fc9be": {
          "model_module": "@jupyter-widgets/base",
          "model_name": "LayoutModel",
          "state": {
            "_view_name": "LayoutView",
            "grid_template_rows": null,
            "right": null,
            "justify_content": null,
            "_view_module": "@jupyter-widgets/base",
            "overflow": null,
            "_model_module_version": "1.2.0",
            "_view_count": null,
            "flex_flow": null,
            "width": null,
            "min_width": null,
            "border": null,
            "align_items": null,
            "bottom": null,
            "_model_module": "@jupyter-widgets/base",
            "top": null,
            "grid_column": null,
            "overflow_y": null,
            "overflow_x": null,
            "grid_auto_flow": null,
            "grid_area": null,
            "grid_template_columns": null,
            "flex": null,
            "_model_name": "LayoutModel",
            "justify_items": null,
            "grid_row": null,
            "max_height": null,
            "align_content": null,
            "visibility": null,
            "align_self": null,
            "height": null,
            "min_height": null,
            "padding": null,
            "grid_auto_rows": null,
            "grid_gap": null,
            "max_width": null,
            "order": null,
            "_view_module_version": "1.2.0",
            "grid_template_areas": null,
            "object_position": null,
            "object_fit": null,
            "grid_auto_columns": null,
            "margin": null,
            "display": null,
            "left": null
          },
          "model_module_version": "1.2.0"
        },
        "083a21cfd34043fd884a21259b97e96c": {
          "model_module": "@jupyter-widgets/controls",
          "model_name": "FloatProgressModel",
          "state": {
            "_view_name": "ProgressView",
            "style": "IPY_MODEL_f3ea6c09bb624c84b2584afead1c9fa4",
            "_dom_classes": [],
            "description": "Downloading: 100%",
            "_model_name": "FloatProgressModel",
            "bar_style": "success",
            "max": 363423424,
            "_view_module": "@jupyter-widgets/controls",
            "_model_module_version": "1.5.0",
            "value": 363423424,
            "_view_count": null,
            "_view_module_version": "1.5.0",
            "orientation": "horizontal",
            "min": 0,
            "description_tooltip": null,
            "_model_module": "@jupyter-widgets/controls",
            "layout": "IPY_MODEL_a0945e0a049e4094b26276be592d5a8d"
          },
          "model_module_version": "1.5.0"
        },
        "92e9a4d0e77b4105a513144e01c6e7a2": {
          "model_module": "@jupyter-widgets/controls",
          "model_name": "HTMLModel",
          "state": {
            "_view_name": "HTMLView",
            "style": "IPY_MODEL_a4b0c9cb80f844cf96c67003b8d83a06",
            "_dom_classes": [],
            "description": "",
            "_model_name": "HTMLModel",
            "placeholder": "​",
            "_view_module": "@jupyter-widgets/controls",
            "_model_module_version": "1.5.0",
            "value": " 363M/363M [00:05&lt;00:00, 63.1MB/s]",
            "_view_count": null,
            "_view_module_version": "1.5.0",
            "description_tooltip": null,
            "_model_module": "@jupyter-widgets/controls",
            "layout": "IPY_MODEL_084cd570f21443bdba6e29a3e918788a"
          },
          "model_module_version": "1.5.0"
        },
        "f3ea6c09bb624c84b2584afead1c9fa4": {
          "model_module": "@jupyter-widgets/controls",
          "model_name": "ProgressStyleModel",
          "state": {
            "_view_name": "StyleView",
            "_model_name": "ProgressStyleModel",
            "description_width": "initial",
            "_view_module": "@jupyter-widgets/base",
            "_model_module_version": "1.5.0",
            "_view_count": null,
            "_view_module_version": "1.2.0",
            "bar_color": null,
            "_model_module": "@jupyter-widgets/controls"
          },
          "model_module_version": "1.5.0"
        },
        "a0945e0a049e4094b26276be592d5a8d": {
          "model_module": "@jupyter-widgets/base",
          "model_name": "LayoutModel",
          "state": {
            "_view_name": "LayoutView",
            "grid_template_rows": null,
            "right": null,
            "justify_content": null,
            "_view_module": "@jupyter-widgets/base",
            "overflow": null,
            "_model_module_version": "1.2.0",
            "_view_count": null,
            "flex_flow": null,
            "width": null,
            "min_width": null,
            "border": null,
            "align_items": null,
            "bottom": null,
            "_model_module": "@jupyter-widgets/base",
            "top": null,
            "grid_column": null,
            "overflow_y": null,
            "overflow_x": null,
            "grid_auto_flow": null,
            "grid_area": null,
            "grid_template_columns": null,
            "flex": null,
            "_model_name": "LayoutModel",
            "justify_items": null,
            "grid_row": null,
            "max_height": null,
            "align_content": null,
            "visibility": null,
            "align_self": null,
            "height": null,
            "min_height": null,
            "padding": null,
            "grid_auto_rows": null,
            "grid_gap": null,
            "max_width": null,
            "order": null,
            "_view_module_version": "1.2.0",
            "grid_template_areas": null,
            "object_position": null,
            "object_fit": null,
            "grid_auto_columns": null,
            "margin": null,
            "display": null,
            "left": null
          },
          "model_module_version": "1.2.0"
        },
        "a4b0c9cb80f844cf96c67003b8d83a06": {
          "model_module": "@jupyter-widgets/controls",
          "model_name": "DescriptionStyleModel",
          "state": {
            "_view_name": "StyleView",
            "_model_name": "DescriptionStyleModel",
            "description_width": "",
            "_view_module": "@jupyter-widgets/base",
            "_model_module_version": "1.5.0",
            "_view_count": null,
            "_view_module_version": "1.2.0",
            "_model_module": "@jupyter-widgets/controls"
          },
          "model_module_version": "1.5.0"
        },
        "084cd570f21443bdba6e29a3e918788a": {
          "model_module": "@jupyter-widgets/base",
          "model_name": "LayoutModel",
          "state": {
            "_view_name": "LayoutView",
            "grid_template_rows": null,
            "right": null,
            "justify_content": null,
            "_view_module": "@jupyter-widgets/base",
            "overflow": null,
            "_model_module_version": "1.2.0",
            "_view_count": null,
            "flex_flow": null,
            "width": null,
            "min_width": null,
            "border": null,
            "align_items": null,
            "bottom": null,
            "_model_module": "@jupyter-widgets/base",
            "top": null,
            "grid_column": null,
            "overflow_y": null,
            "overflow_x": null,
            "grid_auto_flow": null,
            "grid_area": null,
            "grid_template_columns": null,
            "flex": null,
            "_model_name": "LayoutModel",
            "justify_items": null,
            "grid_row": null,
            "max_height": null,
            "align_content": null,
            "visibility": null,
            "align_self": null,
            "height": null,
            "min_height": null,
            "padding": null,
            "grid_auto_rows": null,
            "grid_gap": null,
            "max_width": null,
            "order": null,
            "_view_module_version": "1.2.0",
            "grid_template_areas": null,
            "object_position": null,
            "object_fit": null,
            "grid_auto_columns": null,
            "margin": null,
            "display": null,
            "left": null
          },
          "model_module_version": "1.2.0"
        }
      }
    }
  },
  "cells": [
    {
      "cell_type": "markdown",
      "metadata": {
        "id": "view-in-github",
        "colab_type": "text"
      },
      "source": [
        "<a href=\"https://colab.research.google.com/github/sarthakkaushik/Diploma-Program-in-ML-and-AI/blob/main/BERT.ipynb\" target=\"_parent\"><img src=\"https://colab.research.google.com/assets/colab-badge.svg\" alt=\"Open In Colab\"/></a>"
      ]
    },
    {
      "cell_type": "code",
      "metadata": {
        "id": "i_TziN069euC",
        "outputId": "085ac2e0-4608-487b-e265-062e937d5248",
        "colab": {
          "base_uri": "https://localhost:8080/",
          "height": 621
        }
      },
      "source": [
        "# install huggingface Transformers [https://huggingface.co/transformers/installation.html]\n",
        "\n",
        "# Many transformer based models in a single library: https://github.com/huggingface/transformers#model-architectures\n",
        "! pip install transformers\n",
        "\n",
        "# This week: we will use HuggingFace BERT implementations.\n",
        "# Next sessions: Build an encoder-decoder seq-seq Transfomer from scratch using TF/Keras."
      ],
      "execution_count": null,
      "outputs": [
        {
          "output_type": "stream",
          "text": [
            "Collecting transformers\n",
            "\u001b[?25l  Downloading https://files.pythonhosted.org/packages/19/22/aff234f4a841f8999e68a7a94bdd4b60b4cebcfeca5d67d61cd08c9179de/transformers-3.3.1-py3-none-any.whl (1.1MB)\n",
            "\u001b[K     |████████████████████████████████| 1.1MB 3.4MB/s \n",
            "\u001b[?25hRequirement already satisfied: numpy in /usr/local/lib/python3.6/dist-packages (from transformers) (1.18.5)\n",
            "Collecting tokenizers==0.8.1.rc2\n",
            "\u001b[?25l  Downloading https://files.pythonhosted.org/packages/80/83/8b9fccb9e48eeb575ee19179e2bdde0ee9a1904f97de5f02d19016b8804f/tokenizers-0.8.1rc2-cp36-cp36m-manylinux1_x86_64.whl (3.0MB)\n",
            "\u001b[K     |████████████████████████████████| 3.0MB 16.1MB/s \n",
            "\u001b[?25hRequirement already satisfied: filelock in /usr/local/lib/python3.6/dist-packages (from transformers) (3.0.12)\n",
            "Requirement already satisfied: tqdm>=4.27 in /usr/local/lib/python3.6/dist-packages (from transformers) (4.41.1)\n",
            "Collecting sacremoses\n",
            "\u001b[?25l  Downloading https://files.pythonhosted.org/packages/7d/34/09d19aff26edcc8eb2a01bed8e98f13a1537005d31e95233fd48216eed10/sacremoses-0.0.43.tar.gz (883kB)\n",
            "\u001b[K     |████████████████████████████████| 890kB 45.1MB/s \n",
            "\u001b[?25hRequirement already satisfied: dataclasses; python_version < \"3.7\" in /usr/local/lib/python3.6/dist-packages (from transformers) (0.7)\n",
            "Collecting sentencepiece!=0.1.92\n",
            "\u001b[?25l  Downloading https://files.pythonhosted.org/packages/d4/a4/d0a884c4300004a78cca907a6ff9a5e9fe4f090f5d95ab341c53d28cbc58/sentencepiece-0.1.91-cp36-cp36m-manylinux1_x86_64.whl (1.1MB)\n",
            "\u001b[K     |████████████████████████████████| 1.1MB 37.8MB/s \n",
            "\u001b[?25hRequirement already satisfied: regex!=2019.12.17 in /usr/local/lib/python3.6/dist-packages (from transformers) (2019.12.20)\n",
            "Requirement already satisfied: packaging in /usr/local/lib/python3.6/dist-packages (from transformers) (20.4)\n",
            "Requirement already satisfied: requests in /usr/local/lib/python3.6/dist-packages (from transformers) (2.23.0)\n",
            "Requirement already satisfied: six in /usr/local/lib/python3.6/dist-packages (from sacremoses->transformers) (1.15.0)\n",
            "Requirement already satisfied: click in /usr/local/lib/python3.6/dist-packages (from sacremoses->transformers) (7.1.2)\n",
            "Requirement already satisfied: joblib in /usr/local/lib/python3.6/dist-packages (from sacremoses->transformers) (0.16.0)\n",
            "Requirement already satisfied: pyparsing>=2.0.2 in /usr/local/lib/python3.6/dist-packages (from packaging->transformers) (2.4.7)\n",
            "Requirement already satisfied: chardet<4,>=3.0.2 in /usr/local/lib/python3.6/dist-packages (from requests->transformers) (3.0.4)\n",
            "Requirement already satisfied: certifi>=2017.4.17 in /usr/local/lib/python3.6/dist-packages (from requests->transformers) (2020.6.20)\n",
            "Requirement already satisfied: urllib3!=1.25.0,!=1.25.1,<1.26,>=1.21.1 in /usr/local/lib/python3.6/dist-packages (from requests->transformers) (1.24.3)\n",
            "Requirement already satisfied: idna<3,>=2.5 in /usr/local/lib/python3.6/dist-packages (from requests->transformers) (2.10)\n",
            "Building wheels for collected packages: sacremoses\n",
            "  Building wheel for sacremoses (setup.py) ... \u001b[?25l\u001b[?25hdone\n",
            "  Created wheel for sacremoses: filename=sacremoses-0.0.43-cp36-none-any.whl size=893257 sha256=884f5221c93a48b92810df45739c5d2f8bfad36a39f6e62a49d0247d9f41c33e\n",
            "  Stored in directory: /root/.cache/pip/wheels/29/3c/fd/7ce5c3f0666dab31a50123635e6fb5e19ceb42ce38d4e58f45\n",
            "Successfully built sacremoses\n",
            "Installing collected packages: tokenizers, sacremoses, sentencepiece, transformers\n",
            "Successfully installed sacremoses-0.0.43 sentencepiece-0.1.91 tokenizers-0.8.1rc2 transformers-3.3.1\n"
          ],
          "name": "stdout"
        }
      ]
    },
    {
      "cell_type": "code",
      "metadata": {
        "id": "M4O7AVSr-GA1"
      },
      "source": [
        "# Reference: https://medium.com/tensorflow/using-tensorflow-2-for-state-of-the-art-natural-language-processing-102445cda54a\n",
        "# Ref: https://huggingface.co/transformers/notebooks.html"
      ],
      "execution_count": null,
      "outputs": []
    },
    {
      "cell_type": "code",
      "metadata": {
        "id": "BMvKYmV48aHi",
        "outputId": "51d62c28-fb89-4045-95df-f48ba4fe0312",
        "colab": {
          "base_uri": "https://localhost:8080/",
          "height": 35
        }
      },
      "source": [
        "%tensorflow_version 2.x\n",
        "import tensorflow as tf\n",
        "print(tf.__version__)"
      ],
      "execution_count": null,
      "outputs": [
        {
          "output_type": "stream",
          "text": [
            "2.3.0\n"
          ],
          "name": "stdout"
        }
      ]
    },
    {
      "cell_type": "markdown",
      "metadata": {
        "id": "sBkJIsJzBDLb"
      },
      "source": [
        "## Tokenization"
      ]
    },
    {
      "cell_type": "code",
      "metadata": {
        "id": "8aihC2QV6IXk",
        "outputId": "edfa4e1c-f597-452b-9ac4-7ee37c34125b",
        "colab": {
          "base_uri": "https://localhost:8080/",
          "height": 35
        }
      },
      "source": [
        "# Tokenization: map words to ids\n",
        "# Refer: https://colab.research.google.com/github/huggingface/transformers/blob/master/notebooks/01-training-tokenizers.ipynb#scrollTo=LgktNYt7ADPS\n",
        "\n",
        "# simple example\n",
        "s = \"very long corpus...\"\n",
        "words = s.split(\" \")  # Split over space\n",
        "vocabulary = dict(enumerate(set(words)))  # Map storing the word to it's corresponding id\n",
        "\n",
        "print(vocabulary)\n",
        "\n",
        "# Problems: cat(1123) vs cats(1346)"
      ],
      "execution_count": null,
      "outputs": [
        {
          "output_type": "stream",
          "text": [
            "{0: 'corpus...', 1: 'very', 2: 'long'}\n"
          ],
          "name": "stdout"
        }
      ]
    },
    {
      "cell_type": "markdown",
      "metadata": {
        "id": "XMts2iRpCQ82"
      },
      "source": [
        "### Sub-tokenization\n",
        "\n",
        "- Why? : fast vs faster, cat vs cats\n",
        "- example: cats --**bold text**> [cat, ##s]\n",
        "- Image: https://nlp.fast.ai/images/multifit_vocabularies.png\n",
        "\n",
        "<img src=\"https://nlp.fast.ai/images/multifit_vocabularies.png\" alt=\"Smiley face\" height=\"75%\" width=\"75%\">\n"
      ]
    },
    {
      "cell_type": "markdown",
      "metadata": {
        "id": "GAg56L9zB7QY"
      },
      "source": [
        "\n",
        "\n"
      ]
    },
    {
      "cell_type": "markdown",
      "metadata": {
        "id": "N6JpUezDDLOw"
      },
      "source": [
        "### Tokenization in huggingface\n",
        "**bold text**"
      ]
    },
    {
      "cell_type": "code",
      "metadata": {
        "id": "8ug084UQCbM9",
        "outputId": "d31856be-2f48-4374-d25f-ab2180e41f61",
        "colab": {
          "base_uri": "https://localhost:8080/",
          "height": 67,
          "referenced_widgets": [
            "cea4e7dd45bf470a929daf99ef9f11c8",
            "b9fc9b625bb84366ab63591fff20314e",
            "4772da3260794d7ba2ad967f72e27120",
            "1942161bc8cb45529825cba44e4ce27c",
            "73e477ce83144fda8728cb508df8c419",
            "32fe01e95724406aa0577b2efe2aa177",
            "0cbcd0cc18714e038c9378b91d1372a2",
            "d09ea7b3d1cf44558d3ce2406f3e2127"
          ]
        }
      },
      "source": [
        "from transformers import BertTokenizer\n",
        "bert_tokenizer = BertTokenizer.from_pretrained(\"bert-base-cased\") "
      ],
      "execution_count": null,
      "outputs": [
        {
          "output_type": "display_data",
          "data": {
            "application/vnd.jupyter.widget-view+json": {
              "model_id": "cea4e7dd45bf470a929daf99ef9f11c8",
              "version_minor": 0,
              "version_major": 2
            },
            "text/plain": [
              "HBox(children=(FloatProgress(value=0.0, description='Downloading', max=213450.0, style=ProgressStyle(descripti…"
            ]
          },
          "metadata": {
            "tags": []
          }
        },
        {
          "output_type": "stream",
          "text": [
            "\n"
          ],
          "name": "stdout"
        }
      ]
    },
    {
      "cell_type": "code",
      "metadata": {
        "id": "ipBz-0-3p8c6",
        "outputId": "c3a35cf3-63b8-47af-895d-a391f51612e3",
        "colab": {
          "base_uri": "https://localhost:8080/",
          "height": 35
        }
      },
      "source": [
        "# Refer BERT architecture from the previous videos in the course.\n",
        "\n",
        "#https://huggingface.co/transformers/main_classes/tokenizer.html\n",
        "print(bert_tokenizer.cls_token)"
      ],
      "execution_count": null,
      "outputs": [
        {
          "output_type": "stream",
          "text": [
            "[CLS]\n"
          ],
          "name": "stdout"
        }
      ]
    },
    {
      "cell_type": "code",
      "metadata": {
        "id": "S6oLFVcu8iAK",
        "outputId": "7c69fec3-48bd-46c7-d6c0-a8db68a30cae",
        "colab": {
          "base_uri": "https://localhost:8080/",
          "height": 52
        }
      },
      "source": [
        "enc = bert_tokenizer.encode(\"Hi, I am James bond !\")\n",
        "print(enc)\n",
        "\n",
        "print(bert_tokenizer.decode(enc))"
      ],
      "execution_count": null,
      "outputs": [
        {
          "output_type": "stream",
          "text": [
            "[101, 8790, 117, 146, 1821, 1600, 7069, 106, 102]\n",
            "[CLS] Hi, I am James bond! [SEP]\n"
          ],
          "name": "stdout"
        }
      ]
    },
    {
      "cell_type": "code",
      "metadata": {
        "id": "vkaeZATw9DpI",
        "outputId": "b981a45d-866d-415b-df58-fb8a52272294",
        "colab": {
          "base_uri": "https://localhost:8080/",
          "height": 52
        }
      },
      "source": [
        "print(bert_tokenizer.decode([117]))\n",
        "print(bert_tokenizer.decode([106]))"
      ],
      "execution_count": null,
      "outputs": [
        {
          "output_type": "stream",
          "text": [
            ",\n",
            "!\n"
          ],
          "name": "stdout"
        }
      ]
    },
    {
      "cell_type": "code",
      "metadata": {
        "id": "k2qSy-ZB9ZOT",
        "outputId": "6e61d001-9429-41d5-aacd-ca9d96bc9bc7",
        "colab": {
          "base_uri": "https://localhost:8080/",
          "height": 52
        }
      },
      "source": [
        "enc = bert_tokenizer.encode(\"I see many cats and dogs\")\n",
        "print(enc)\n",
        "\n",
        "print(bert_tokenizer.decode(enc))"
      ],
      "execution_count": null,
      "outputs": [
        {
          "output_type": "stream",
          "text": [
            "[101, 146, 1267, 1242, 11771, 1105, 6363, 102]\n",
            "[CLS] I see many cats and dogs [SEP]\n"
          ],
          "name": "stdout"
        }
      ]
    },
    {
      "cell_type": "markdown",
      "metadata": {
        "id": "SPtLW4caAOo4"
      },
      "source": [
        ""
      ]
    },
    {
      "cell_type": "markdown",
      "metadata": {
        "id": "FK31Jni1-d5b"
      },
      "source": [
        "## BERT Models\n",
        "- DistillBERT\n",
        "- RoBERTa\n",
        "- https://miro.medium.com/max/2000/1*IFVX74cEe8U5D1GveL1uZA.png \n",
        "<img src=\"https://miro.medium.com/max/2000/1*IFVX74cEe8U5D1GveL1uZA.png \" alt=\"Smiley face\" height=\"75%\" width=\"75%\">\n",
        "\n",
        "- https://miro.medium.com/max/1400/1*bSUO_Qib4te1xQmBlQjWaw.png\n",
        "<img src=\"https://miro.medium.com/max/1400/1*bSUO_Qib4te1xQmBlQjWaw.png \" alt=\"Smiley face\" height=\"75%\" width=\"75%\">\n",
        "\n",
        "- General Language Understanding Evaluation (GLUE)  : https://gluebenchmark.com/\n"
      ]
    },
    {
      "cell_type": "code",
      "metadata": {
        "id": "OOLvZ1um-nLV",
        "outputId": "4574cc2f-929c-426a-c9df-63e5966ba065",
        "colab": {
          "base_uri": "https://localhost:8080/",
          "height": 275,
          "referenced_widgets": [
            "0de421e5fe734ae5b4de8ac3d7493a0a",
            "2db052bd0ffb4ef2bc125379d272c548",
            "7b1a4abf3cd14027b47b95fc4484fa8d",
            "7cca122e88db4ff0becde5bda8d1e500",
            "4a7375be7d024f8a9d8847f8b6588c60",
            "0c6a331d772b4c909cf2c20adc11572d",
            "9caa3d156d2c4892ac7fbcbbf6d3c53e",
            "3c68a24a9aa0416fb33142836814f44b",
            "1a9b5d5982bc422bbdaa02cf8cc22557",
            "e272941122a84ca8a9f5141ddccdf6cc",
            "0012389b0f8d4153a5eb2fa71996e342",
            "2752033efbc84b469d6ff2ad0fcb4d0b",
            "6c35328adf034e6292c6f0c5ea5fbc82",
            "adba1c0b3b754a9393f7ac78100803a9",
            "779572ab44f849e2a9154ffbf61d00a1",
            "581705c7f9894abb8e73d6eada1a7bdf",
            "5a577d5983ab4e87a401bee7c9986fb7",
            "819b6ade9ae549e48b497bbd5e7fc9be",
            "083a21cfd34043fd884a21259b97e96c",
            "92e9a4d0e77b4105a513144e01c6e7a2",
            "f3ea6c09bb624c84b2584afead1c9fa4",
            "a0945e0a049e4094b26276be592d5a8d",
            "a4b0c9cb80f844cf96c67003b8d83a06",
            "084cd570f21443bdba6e29a3e918788a"
          ]
        }
      },
      "source": [
        "import tensorflow as tf\n",
        "\n",
        "# Refer: https://huggingface.co/transformers/model_doc/distilbert.html#\n",
        "\n",
        "from transformers import DistilBertTokenizer, TFDistilBertModel\n",
        "\n",
        "distil_bert = 'distilbert-base-uncased' # Name of the pretrained models\n",
        "\n",
        "#DistilBERT \n",
        "tokenizer = DistilBertTokenizer.from_pretrained(distil_bert)\n",
        "model = TFDistilBertModel.from_pretrained(distil_bert)"
      ],
      "execution_count": null,
      "outputs": [
        {
          "output_type": "display_data",
          "data": {
            "application/vnd.jupyter.widget-view+json": {
              "model_id": "0de421e5fe734ae5b4de8ac3d7493a0a",
              "version_minor": 0,
              "version_major": 2
            },
            "text/plain": [
              "HBox(children=(FloatProgress(value=0.0, description='Downloading', max=231508.0, style=ProgressStyle(descripti…"
            ]
          },
          "metadata": {
            "tags": []
          }
        },
        {
          "output_type": "stream",
          "text": [
            "\n"
          ],
          "name": "stdout"
        },
        {
          "output_type": "display_data",
          "data": {
            "application/vnd.jupyter.widget-view+json": {
              "model_id": "1a9b5d5982bc422bbdaa02cf8cc22557",
              "version_minor": 0,
              "version_major": 2
            },
            "text/plain": [
              "HBox(children=(FloatProgress(value=0.0, description='Downloading', max=442.0, style=ProgressStyle(description_…"
            ]
          },
          "metadata": {
            "tags": []
          }
        },
        {
          "output_type": "stream",
          "text": [
            "\n"
          ],
          "name": "stdout"
        },
        {
          "output_type": "display_data",
          "data": {
            "application/vnd.jupyter.widget-view+json": {
              "model_id": "5a577d5983ab4e87a401bee7c9986fb7",
              "version_minor": 0,
              "version_major": 2
            },
            "text/plain": [
              "HBox(children=(FloatProgress(value=0.0, description='Downloading', max=363423424.0, style=ProgressStyle(descri…"
            ]
          },
          "metadata": {
            "tags": []
          }
        },
        {
          "output_type": "stream",
          "text": [
            "\n"
          ],
          "name": "stdout"
        },
        {
          "output_type": "stream",
          "text": [
            "Some weights of the model checkpoint at distilbert-base-uncased were not used when initializing TFDistilBertModel: ['vocab_layer_norm', 'vocab_transform', 'activation_13', 'vocab_projector']\n",
            "- This IS expected if you are initializing TFDistilBertModel from the checkpoint of a model trained on another task or with another architecture (e.g. initializing a BertForSequenceClassification model from a BertForPretraining model).\n",
            "- This IS NOT expected if you are initializing TFDistilBertModel from the checkpoint of a model that you expect to be exactly identical (initializing a BertForSequenceClassification model from a BertForSequenceClassification model).\n",
            "All the weights of TFDistilBertModel were initialized from the model checkpoint at distilbert-base-uncased.\n",
            "If your task is similar to the task the model of the checkpoint was trained on, you can already use TFDistilBertModel for predictions without further training.\n"
          ],
          "name": "stderr"
        }
      ]
    },
    {
      "cell_type": "markdown",
      "metadata": {
        "id": "YIKTHZgYozXV"
      },
      "source": [
        "### Extract features using BERT"
      ]
    },
    {
      "cell_type": "code",
      "metadata": {
        "id": "uGyAieE8JI1F",
        "outputId": "492b9cf7-6340-4bd3-ddfa-0cc41393656d",
        "colab": {
          "base_uri": "https://localhost:8080/",
          "height": 355
        }
      },
      "source": [
        "# obtain the 768-dim vector correpsoding to [CLS] which is a sentence vector\n",
        "\n",
        "e = tokenizer.encode(\"Hello, my dog is cute\")\n",
        "print(e)\n",
        "\n",
        "input = tf.constant(e)[None, :]  # Batch size 1 \n",
        "print(input)\n",
        "print(type(input)) # shape: [1,8]\n",
        "\n",
        "output = model(input)\n",
        "\n",
        "print(type(output))\n",
        "print(len(output))\n",
        "print(output) #shape[1,8,768]\n"
      ],
      "execution_count": null,
      "outputs": [
        {
          "output_type": "stream",
          "text": [
            "[101, 7592, 1010, 2026, 3899, 2003, 10140, 102]\n",
            "tf.Tensor([[  101  7592  1010  2026  3899  2003 10140   102]], shape=(1, 8), dtype=int32)\n",
            "<class 'tensorflow.python.framework.ops.EagerTensor'>\n",
            "<class 'tuple'>\n",
            "1\n",
            "(<tf.Tensor: shape=(1, 8, 768), dtype=float32, numpy=\n",
            "array([[[-1.8296401e-01, -7.4054271e-02,  5.0267667e-02, ...,\n",
            "         -1.1260690e-01,  4.4493100e-01,  4.0941307e-01],\n",
            "        [ 7.0589967e-04,  1.4825365e-01,  3.4328270e-01, ...,\n",
            "         -8.6039528e-02,  6.9474751e-01,  4.3353081e-02],\n",
            "        [-5.0720602e-01,  5.3085494e-01,  3.7162632e-01, ...,\n",
            "         -5.6287450e-01,  1.3755678e-01,  2.8475279e-01],\n",
            "        ...,\n",
            "        [-4.2251340e-01,  5.7314664e-02,  2.4338306e-01, ...,\n",
            "         -1.5222676e-01,  2.4462426e-01,  6.4154869e-01],\n",
            "        [-4.9384493e-01, -1.8895482e-01,  1.2640803e-01, ...,\n",
            "          6.3240677e-02,  3.6912847e-01, -5.8252141e-02],\n",
            "        [ 8.3268642e-01,  2.4948184e-01, -4.5439535e-01, ...,\n",
            "          1.1997543e-01, -3.9257327e-01, -2.7785364e-01]]], dtype=float32)>,)\n"
          ],
          "name": "stdout"
        }
      ]
    },
    {
      "cell_type": "code",
      "metadata": {
        "id": "ZO0dlA-hMXay",
        "outputId": "7485080e-fe50-4c55-fbde-2e7315d6d445",
        "colab": {
          "base_uri": "https://localhost:8080/",
          "height": 1000
        }
      },
      "source": [
        "#[CLS] corresponding vector\n",
        "print((output[0])[0,0,:])  # shape: 768 dim vector"
      ],
      "execution_count": null,
      "outputs": [
        {
          "output_type": "stream",
          "text": [
            "tf.Tensor(\n",
            "[-1.82964012e-01 -7.40542710e-02  5.02676666e-02 -3.49530607e-01\n",
            " -7.28534013e-02 -2.63872504e-01  2.39293277e-01  4.79842067e-01\n",
            " -2.14802593e-01 -1.89516276e-01  8.99827629e-02 -1.29189104e-01\n",
            " -1.11275986e-01  3.16634566e-01 -8.25904459e-02  9.26223695e-02\n",
            " -2.09082887e-02  4.74876106e-01  1.28833517e-01  3.18710878e-03\n",
            " -1.53505564e-01 -3.57001781e-01  9.89293680e-04 -3.92748415e-03\n",
            "  1.38444286e-02 -5.49408533e-02  8.45261663e-02  1.36564478e-01\n",
            "  2.18252212e-01 -1.96798772e-01  2.47996300e-02  1.75569296e-01\n",
            " -3.97217683e-02 -1.10776976e-01  5.48524447e-02  6.07529581e-02\n",
            "  1.71999224e-02 -1.07415311e-01 -8.76945704e-02  2.12041944e-01\n",
            " -4.05893549e-02 -3.17957923e-02  1.37657166e-01 -1.39004529e-01\n",
            " -4.68857959e-03 -3.97633344e-01 -2.60034633e+00 -1.08741574e-01\n",
            "  4.86704111e-02 -3.61387730e-01  3.71814460e-01 -7.61094838e-02\n",
            "  3.23910564e-02  2.31666416e-01  2.63016045e-01  3.18299681e-01\n",
            " -3.87970746e-01  2.98111200e-01 -4.93028834e-02 -3.59303094e-02\n",
            "  1.58540457e-01  6.64180666e-02 -1.98168069e-01  2.01572590e-02\n",
            " -3.06719393e-01  2.75268346e-01 -5.75724207e-02  1.99012339e-01\n",
            " -1.81322470e-01  5.15817344e-01 -2.86956355e-02 -1.18355811e-01\n",
            "  1.32884309e-01 -7.50623792e-02  1.13556951e-01 -4.68251333e-02\n",
            "  1.44347548e-02  2.31869966e-01 -1.80278152e-01  2.84715027e-01\n",
            " -1.01262532e-01  2.02373534e-01  4.91598070e-01  2.72795558e-01\n",
            "  4.77178767e-02  1.66064233e-01 -2.38973692e-01 -9.58863199e-02\n",
            "  2.39367589e-01  3.80263895e-01 -2.34181628e-01 -1.66364849e-01\n",
            " -4.13462147e-02  2.57076055e-01  4.31303620e-01 -3.15999329e-01\n",
            " -7.02401325e-02  1.14386365e-01  2.16973513e-01  1.96187302e-01\n",
            "  8.51509273e-02 -1.42221496e-01  2.56942898e-01 -2.17944831e-01\n",
            " -6.99577481e-03 -2.12191537e-01  1.43578276e-01 -4.75275278e-01\n",
            "  5.17551638e-02 -2.40377736e+00  2.53657550e-01  9.18112844e-02\n",
            " -9.21669453e-02 -4.41745520e-01 -5.84073067e-02  6.90732241e-01\n",
            "  4.17964697e-01 -8.59398395e-03 -1.34421512e-01  5.17782941e-02\n",
            " -1.08744070e-01  8.65206495e-02 -1.71954893e-02 -3.32326412e-01\n",
            "  1.51767179e-01  3.29324841e-01 -6.66766912e-02 -9.02033076e-02\n",
            "  2.35938638e-01  2.36410901e-01  3.33305240e-01  4.67729598e-01\n",
            "  4.28325385e-02 -1.42506316e-01 -1.08116396e-01  2.27771059e-01\n",
            "  2.94073641e-01 -1.39985159e-01 -1.00884683e-01 -4.09688056e-03\n",
            " -2.31504977e-01  1.21926539e-01 -2.90576935e+00  2.96339780e-01\n",
            "  4.99315381e-01  6.20901436e-02 -2.88699001e-01  5.02856746e-02\n",
            "  5.06068766e-03  1.55305892e-01  7.64143616e-02  1.15471311e-01\n",
            " -2.38395363e-01  4.13821004e-02 -3.14426422e-01  4.59133387e-02\n",
            " -3.75107259e-01  5.39002903e-02  2.24995047e-01  2.77922750e-01\n",
            "  1.78462327e-01 -9.54106525e-02 -1.94173023e-01  6.76062256e-02\n",
            " -1.60752311e-01  2.29953915e-01  5.06648481e-01  7.67757520e-02\n",
            "  4.87565249e-02  4.56532910e-02 -3.77923474e-02  3.41985039e-02\n",
            "  4.74492311e-01  2.37052627e-02  2.66929686e-01 -5.50254360e-02\n",
            "  3.91381860e-01  8.17275345e-02 -1.15859315e-01 -1.70160711e-01\n",
            " -5.73055148e-02  1.40599161e-01  1.23220854e-01  1.65379718e-01\n",
            "  9.10500139e-02 -1.43807717e-02  3.66103739e-01 -1.63923874e-01\n",
            " -8.08839947e-02  2.59248227e-01  2.10393071e-02 -2.05531687e-01\n",
            "  1.09672710e-01  1.14643946e-01  3.32335889e-01  7.59403557e-02\n",
            "  1.22674540e-01 -5.73982120e-01  1.60009682e-01  6.82830289e-02\n",
            " -1.73094064e-01 -1.99944273e-01  1.59826562e-01  2.52872229e-01\n",
            " -1.70128971e-01  3.64887691e+00 -1.38967574e-01  3.33110616e-02\n",
            "  1.82072490e-01  2.70485908e-01 -1.21637732e-01  1.05418079e-01\n",
            "  1.55244395e-03 -1.30046410e-02  3.18017527e-02  5.77495992e-02\n",
            "  3.96896422e-01 -6.14842884e-02 -1.15159795e-01 -1.08272567e-01\n",
            "  2.36326139e-02  1.32242471e-01 -3.08492571e-01  1.41128644e-01\n",
            "  1.90406181e-02  1.97923556e-01  2.07062513e-01  2.50906795e-01\n",
            "  5.68700358e-02 -1.19319999e+00  9.20889080e-02 -2.82066941e-01\n",
            " -2.16926858e-02  2.61803150e-01 -3.48175585e-01  1.96770187e-02\n",
            "  1.83203712e-01 -1.95327267e-01  2.11400449e-01  8.50236863e-02\n",
            " -1.28696829e-01  3.18605393e-01  2.86378533e-01  1.88539878e-01\n",
            " -2.98403919e-01  2.20937461e-01  1.31015494e-01 -1.02821440e-02\n",
            " -2.68581770e-02 -8.13294202e-02  2.68621206e-01 -1.62331492e-01\n",
            "  1.27714396e-01 -2.98873514e-01  7.01924637e-02 -4.89652269e-02\n",
            "  3.95200439e-02  2.76600420e-01 -3.53134394e-01 -2.21711531e-01\n",
            " -1.68480381e-01 -1.10793650e-01  2.35944599e-01  4.53583822e-02\n",
            " -4.02560681e-01  4.27887142e-02  7.54594505e-02 -2.55471319e-01\n",
            "  9.60168093e-02 -1.43930867e-01 -8.94933343e-02 -7.46150240e-02\n",
            " -3.30272049e-01 -3.46625090e+00  1.24228597e-02 -1.36048764e-01\n",
            "  3.26259911e-01  2.83859462e-01 -2.74550170e-02 -1.36380583e-01\n",
            "  1.31227791e-01  3.47973317e-01 -6.24993443e-01  3.13480079e-01\n",
            "  1.04717970e-01 -6.62788153e-02  1.48699239e-01 -3.66201848e-01\n",
            "  1.69892281e-01  1.43029708e-02 -1.90093428e-01 -5.20564318e-02\n",
            " -1.67159110e-01  8.08380619e-02  1.35975838e-01 -1.30081326e-01\n",
            "  3.54058743e-01  3.65889519e-02 -3.24269608e-02 -1.42222688e-01\n",
            " -1.36649787e-01 -6.62391260e-02 -4.30206805e-02 -1.54817384e-02\n",
            " -2.47256652e-01  2.64774740e-01 -1.90627575e-01 -5.61647713e-01\n",
            " -2.63370299e+00 -6.13705292e-02  7.83825945e-03 -2.00945258e-01\n",
            "  5.77971116e-02 -7.98274279e-02  3.88860971e-01 -1.92673862e-01\n",
            " -1.52788103e-01  2.18082190e-01  1.38541669e-01  5.15479855e-02\n",
            "  5.93836457e-02 -3.63189653e-02  2.52486110e-01 -1.68904454e-01\n",
            "  3.03935707e-01 -2.93073684e-01  9.53444839e-02  2.13944405e-01\n",
            "  7.78932944e-02  6.87416121e-02 -4.60773632e-02 -4.81725857e-02\n",
            "  1.31043583e-01  4.89196777e-01 -2.47310758e-01 -1.25176668e-01\n",
            " -2.68889070e-01  1.69905499e-02  3.04139964e-02 -2.75137484e-01\n",
            "  9.71506685e-02 -5.26914597e-02 -2.99963534e-01 -1.53513968e-01\n",
            "  1.30863413e-01  1.34220347e-01  3.82058531e-01  8.38409066e-02\n",
            "  6.31514192e-02  4.47511196e-01  1.67282730e-01 -7.88337365e-03\n",
            "  4.77932483e-01  8.44853222e-02 -3.11315618e-02 -2.30320334e-01\n",
            " -7.93986619e-02  1.05453342e-01 -6.53301179e-02  1.43372715e-01\n",
            "  1.18262124e+00 -4.21139225e-02  3.34063828e-01 -7.57571608e-02\n",
            "  3.29937786e-01  9.94220227e-02  6.47705048e-02  4.58270311e-03\n",
            "  4.66040373e-01 -5.74504882e-02  8.35537091e-02 -7.57399350e-02\n",
            "  2.60542855e-02 -3.39902341e-01  2.42830515e-02 -4.51531947e-01\n",
            " -1.08395651e-01  1.43879369e-01 -6.19192608e-04  2.22205762e-02\n",
            " -1.85181975e-01 -9.67315853e-01 -2.76358038e-01  2.32633948e-01\n",
            " -2.04712242e-01 -8.55462849e-02 -1.02017716e-01  3.67729925e-02\n",
            " -2.87895709e-01 -2.69007236e-01 -6.31036460e-02  4.66198564e-01\n",
            " -4.17007565e-01 -1.28478438e-01 -2.35913604e-01 -6.02072626e-02\n",
            " -3.66599053e-01  3.29860039e-02 -1.72639936e-01  1.16484329e-01\n",
            " -5.45547493e-02  2.00879663e-01  8.09610710e-02  6.14782237e-02\n",
            "  2.20724866e-01 -7.03784168e-01  1.63218468e-01 -2.42775902e-01\n",
            "  2.94261426e-02 -3.64929512e-02 -1.15544483e-01  1.19456783e-01\n",
            " -2.35306937e-02 -8.58265907e-02 -2.42628872e-01  3.13685626e-01\n",
            "  5.36966063e-02  2.81630993e-01 -1.55662328e-01 -3.08807671e-01\n",
            " -1.67348444e-01  1.49587452e-01  1.02405655e+00 -5.33011258e-02\n",
            "  2.61225924e-02  4.29241598e-01 -1.19602978e-02  3.26767594e-01\n",
            "  2.23125339e-01  1.57707930e-01 -2.33969852e-01 -3.87821272e-02\n",
            " -8.93775746e-02 -8.95165876e-02 -1.58062689e-02 -2.76408732e-01\n",
            " -2.30500355e-01  5.20575419e-02  2.42815346e-01 -1.51068531e-03\n",
            " -3.67174327e-01 -5.44695079e-01  1.83678925e-01 -2.98035741e-01\n",
            " -3.45235646e-01 -1.07845835e-01  3.23619068e-01  3.10016163e-02\n",
            "  1.72840819e-01  1.98269784e-01 -1.32516325e-01  3.18925470e-01\n",
            " -1.70470282e-01  4.16734815e-01 -1.78098101e-02 -5.34223095e-02\n",
            " -2.10133195e-02  1.33843854e-01 -1.26934305e-01 -3.35949421e-01\n",
            "  6.02968410e-02 -3.20586145e-01  2.28375509e-01  1.57170415e-01\n",
            "  1.07503220e-01  4.52579483e-02 -1.44067839e-01  1.25556886e-01\n",
            "  1.17120340e-01  3.68680023e-02 -1.44092870e+00  4.55319732e-01\n",
            "  2.65823118e-03  6.85982332e-02  1.79716542e-01 -5.60319833e-02\n",
            " -6.82102516e-02  2.66576588e-01  2.44327486e-01  1.17831722e-01\n",
            " -7.86482543e-02  1.50259599e-01 -1.98004752e-01  2.23428719e-02\n",
            "  5.40101267e-02 -6.52764216e-02  8.17406923e-02 -1.52527481e-01\n",
            " -2.41478682e-02 -3.05541381e-02  1.89114846e-02  3.25062901e-01\n",
            "  1.07241683e-01  2.36949697e-02  5.40226959e-02 -6.59270957e-02\n",
            "  1.45881936e-01  1.73729897e-01  3.97378616e-02  3.04216623e-01\n",
            "  2.57307626e-02 -2.33873814e-01 -7.23413467e-01 -2.36845270e-01\n",
            "  2.15696603e-01 -9.78178531e-02 -1.07707493e-02 -5.42446449e-02\n",
            "  1.60678625e-02  1.34032190e-01 -4.90798026e-01  2.40850925e-01\n",
            "  1.25754714e-01 -1.04106829e-01  5.20355940e-01  1.66526616e-01\n",
            " -1.65266067e-01  2.95299202e-01  1.62014365e-02 -2.91153014e-01\n",
            "  1.46822467e-01 -1.80530056e-01 -3.49397808e-02 -1.96046457e-01\n",
            " -7.67088495e-05 -1.21094525e-01 -8.96756202e-02  5.56595698e-02\n",
            " -3.61945838e-01 -1.90506652e-02  3.58557940e-01 -2.30404258e-01\n",
            " -3.64994317e-01  8.36469382e-02 -3.69088084e-01 -4.55816716e-01\n",
            " -2.51596063e-01 -2.95682251e-01  6.57208413e-02 -9.50318426e-02\n",
            "  4.98333067e-01  1.02289915e-01 -2.63921112e-01  2.01748595e-01\n",
            " -2.99779624e-01  1.08136907e-01  7.19923526e-02  3.94287586e-01\n",
            "  3.48317176e-01 -1.83384657e-01  1.04481161e-01 -3.31908345e-01\n",
            " -3.20174158e-01  3.27167749e-01 -1.68593556e-01  1.33825988e-01\n",
            " -2.06090361e-02  6.99827000e-02 -2.75660232e-02  1.54763728e-01\n",
            " -1.75365359e-01 -1.56792343e-01 -4.90045995e-02 -5.61797395e-02\n",
            " -2.34199941e-01  2.16859251e-01  5.50555065e-02 -1.01618409e-01\n",
            " -1.43520311e-01 -1.09907955e-01 -1.85715482e-01  4.40243363e-01\n",
            "  2.83944637e-01  1.27737567e-01  3.48632410e-02  1.28400028e-01\n",
            "  1.25560164e-01  1.79128692e-01 -3.51551920e-01 -1.79564312e-01\n",
            "  1.27473116e-01 -5.33760265e-02 -6.86721504e-02  9.85205267e-03\n",
            "  6.14890195e-02 -1.57977715e-01 -2.51014769e-01 -2.38530308e-01\n",
            "  1.99463809e+00  5.30797601e-01 -3.62981856e-02 -1.19774364e-01\n",
            "  3.54485214e-01 -1.36348382e-01 -1.06468230e-01  1.90662295e-01\n",
            " -1.81350544e-01  4.38782930e-01 -1.52346909e-01  2.97309995e-01\n",
            "  4.85182926e-03  1.84560612e-01  5.39814293e-01  2.61829019e-01\n",
            "  2.01008081e-01 -7.66812935e-02 -6.73805296e-01 -1.22319505e-01\n",
            " -3.35514784e-01  1.67748272e-01  3.59637201e-01 -1.95420440e-02\n",
            " -8.59108344e-02  1.83777034e-01  8.31620693e-02 -2.20169127e-02\n",
            " -1.09846175e-01  3.16786498e-01 -1.39384896e-01 -2.47808751e-02\n",
            "  1.76724106e-01  3.52304727e-01 -1.92155033e-01  1.35768324e-01\n",
            "  1.40878528e-01 -3.26478034e-01 -3.32516909e-01  2.78262459e-02\n",
            "  6.72173575e-02 -4.32632089e-01  2.43450359e-01  1.65119633e-01\n",
            " -1.40644491e-01  4.77837801e-01 -1.96697876e-01 -1.46622941e-01\n",
            "  4.71871436e-01  3.83241355e-01 -2.47310504e-01 -1.77689224e-01\n",
            " -2.20501378e-01  2.84740210e-01  5.84800504e-02 -3.75218801e-02\n",
            " -1.52472965e-02 -1.88273087e-01 -8.67711604e-02  2.55617201e-01\n",
            " -2.63450891e-01  2.89569885e-01  1.39412403e-01  7.61568770e-02\n",
            "  3.36094499e-01  6.99161589e-02 -3.14997494e-01  1.18950784e-01\n",
            "  2.26660952e-01 -3.60732883e-01 -5.41599467e-04  5.06484330e-01\n",
            "  2.20257729e-01  4.64701727e-02  1.89109504e-01  8.76348317e-02\n",
            "  2.78846055e-01 -1.29932269e-01 -1.64784446e-01 -2.74102378e+00\n",
            "  1.67531073e-02  1.83713213e-02  6.84272945e-02  1.71559080e-01\n",
            "  3.03114742e-01  3.01917821e-01  4.01071012e-02  2.54131913e-01\n",
            " -3.53495106e-02  2.71483988e-01  1.81621641e-01  4.48273003e-01\n",
            "  3.20003144e-02  4.39897299e-01 -5.78281693e-02  3.16759914e-01\n",
            " -1.94126233e-01 -2.04067126e-01 -4.19521108e-02 -2.94575542e-02\n",
            "  8.93061608e-02  2.27591306e-01 -3.44704956e-01 -4.46881056e-01\n",
            "  1.86223924e-01 -1.47318959e-01 -2.28073761e-01 -9.07054618e-02\n",
            "  1.94502771e-02 -1.23445988e-01  4.36208457e-01 -3.18929493e-01\n",
            " -1.00711379e-02 -4.69478145e-02 -7.06076771e-02 -2.75076419e-01\n",
            " -1.39117762e-02  1.31018996e-01  2.14772880e-01 -1.57196015e-01\n",
            "  5.24373770e-01  3.01640946e-03  2.12967098e-01  5.55371121e-03\n",
            "  4.07889150e-02  2.34339237e-01 -6.88108802e-02  2.27949247e-01\n",
            " -1.57655507e-01 -7.67240226e-02  6.78142086e-02  3.18949193e-01\n",
            "  1.98623240e-01  8.13000947e-02  1.77703649e-01 -3.74080986e-03\n",
            " -5.91539592e-03 -1.41101331e-02 -5.09403586e-01 -1.06277153e-01\n",
            "  2.34553844e-01 -1.86715554e-02  1.10224120e-01  2.10317999e-01\n",
            " -7.98709169e-02 -8.10481161e-02  3.20953131e-03 -1.42225474e-01\n",
            " -2.60842264e-01 -3.67441893e-01 -1.90869160e-02  4.14406329e-01\n",
            "  1.01791531e-01  1.76625103e-02 -9.82004702e-02  4.08166200e-01\n",
            "  2.69282997e-01  2.51792632e-02  3.05708319e-01 -1.29841432e-01\n",
            "  3.09757702e-03 -2.47817580e-02 -1.44122154e-01  1.71705335e-01\n",
            " -7.39391804e+00 -8.13185126e-02  2.41189580e-02 -2.42936000e-01\n",
            " -2.46015608e-01 -4.92817551e-01 -1.13992244e-01 -3.30207944e-01\n",
            "  1.46629453e-01 -1.87319204e-01  2.01923370e-01 -4.60678935e-02\n",
            " -2.09270865e-01 -1.12606898e-01  4.44931000e-01  4.09413069e-01], shape=(768,), dtype=float32)\n"
          ],
          "name": "stdout"
        }
      ]
    },
    {
      "cell_type": "code",
      "metadata": {
        "id": "kQTWhdSoOJMH",
        "outputId": "700affca-9b96-4169-9040-58f12d97b90e",
        "colab": {
          "base_uri": "https://localhost:8080/",
          "height": 535
        }
      },
      "source": [
        "# How about hidden layer outputs\n",
        "\n",
        "#https://huggingface.co/transformers/model_doc/distilbert.html#distilbertconfig\n",
        "from transformers import  DistilBertConfig\n",
        "\n",
        "config = DistilBertConfig.from_pretrained(distil_bert, output_hidden_states=True)\n",
        "\n",
        "\n",
        "e = tokenizer.encode(\"Hello, my dog is cute\")\n",
        "input = tf.constant(e)[None, :]  # Batch size 1 \n",
        "model = TFDistilBertModel.from_pretrained(distil_bert, config=config)\n",
        "print(model.config) # Every model has a config file \n",
        "\n"
      ],
      "execution_count": null,
      "outputs": [
        {
          "output_type": "stream",
          "text": [
            "Some weights of the model checkpoint at distilbert-base-uncased were not used when initializing TFDistilBertModel: ['vocab_layer_norm', 'vocab_transform', 'activation_13', 'vocab_projector']\n",
            "- This IS expected if you are initializing TFDistilBertModel from the checkpoint of a model trained on another task or with another architecture (e.g. initializing a BertForSequenceClassification model from a BertForPretraining model).\n",
            "- This IS NOT expected if you are initializing TFDistilBertModel from the checkpoint of a model that you expect to be exactly identical (initializing a BertForSequenceClassification model from a BertForSequenceClassification model).\n",
            "All the weights of TFDistilBertModel were initialized from the model checkpoint at distilbert-base-uncased.\n",
            "If your task is similar to the task the model of the checkpoint was trained on, you can already use TFDistilBertModel for predictions without further training.\n"
          ],
          "name": "stderr"
        },
        {
          "output_type": "stream",
          "text": [
            "DistilBertConfig {\n",
            "  \"activation\": \"gelu\",\n",
            "  \"architectures\": [\n",
            "    \"DistilBertForMaskedLM\"\n",
            "  ],\n",
            "  \"attention_dropout\": 0.1,\n",
            "  \"dim\": 768,\n",
            "  \"dropout\": 0.1,\n",
            "  \"hidden_dim\": 3072,\n",
            "  \"initializer_range\": 0.02,\n",
            "  \"max_position_embeddings\": 512,\n",
            "  \"model_type\": \"distilbert\",\n",
            "  \"n_heads\": 12,\n",
            "  \"n_layers\": 6,\n",
            "  \"output_hidden_states\": true,\n",
            "  \"pad_token_id\": 0,\n",
            "  \"qa_dropout\": 0.1,\n",
            "  \"seq_classif_dropout\": 0.2,\n",
            "  \"sinusoidal_pos_embds\": false,\n",
            "  \"tie_weights_\": true,\n",
            "  \"vocab_size\": 30522\n",
            "}\n",
            "\n"
          ],
          "name": "stdout"
        }
      ]
    },
    {
      "cell_type": "code",
      "metadata": {
        "id": "36Ot-PcHQLsA",
        "outputId": "7aed11b9-742b-4656-ad80-d3f36ecb321f",
        "colab": {
          "base_uri": "https://localhost:8080/",
          "height": 35
        }
      },
      "source": [
        "output = model(input)\n",
        "print(len(output))"
      ],
      "execution_count": null,
      "outputs": [
        {
          "output_type": "stream",
          "text": [
            "2\n"
          ],
          "name": "stdout"
        }
      ]
    },
    {
      "cell_type": "code",
      "metadata": {
        "id": "m20ikTgZRhgx",
        "outputId": "98bafdd1-992b-4903-ab7e-81948f83acb0",
        "colab": {
          "base_uri": "https://localhost:8080/",
          "height": 266
        }
      },
      "source": [
        "print(output[0])"
      ],
      "execution_count": null,
      "outputs": [
        {
          "output_type": "stream",
          "text": [
            "tf.Tensor(\n",
            "[[[-1.8296401e-01 -7.4054271e-02  5.0267667e-02 ... -1.1260690e-01\n",
            "    4.4493100e-01  4.0941307e-01]\n",
            "  [ 7.0589967e-04  1.4825365e-01  3.4328270e-01 ... -8.6039528e-02\n",
            "    6.9474751e-01  4.3353081e-02]\n",
            "  [-5.0720602e-01  5.3085494e-01  3.7162632e-01 ... -5.6287450e-01\n",
            "    1.3755678e-01  2.8475279e-01]\n",
            "  ...\n",
            "  [-4.2251340e-01  5.7314664e-02  2.4338306e-01 ... -1.5222676e-01\n",
            "    2.4462426e-01  6.4154869e-01]\n",
            "  [-4.9384493e-01 -1.8895482e-01  1.2640803e-01 ...  6.3240677e-02\n",
            "    3.6912847e-01 -5.8252141e-02]\n",
            "  [ 8.3268642e-01  2.4948184e-01 -4.5439535e-01 ...  1.1997543e-01\n",
            "   -3.9257327e-01 -2.7785364e-01]]], shape=(1, 8, 768), dtype=float32)\n"
          ],
          "name": "stdout"
        }
      ]
    },
    {
      "cell_type": "code",
      "metadata": {
        "id": "i46_6ipxZ7lw",
        "outputId": "0ee31a4b-1641-4632-f1fd-cd80fc0b6b1b",
        "colab": {
          "base_uri": "https://localhost:8080/",
          "height": 35
        }
      },
      "source": [
        "output[0].shape"
      ],
      "execution_count": null,
      "outputs": [
        {
          "output_type": "execute_result",
          "data": {
            "text/plain": [
              "TensorShape([1, 8, 768])"
            ]
          },
          "metadata": {
            "tags": []
          },
          "execution_count": 21
        }
      ]
    },
    {
      "cell_type": "code",
      "metadata": {
        "id": "UZb2pJGVaaqL",
        "outputId": "6935c438-7841-4b61-f96e-8f0426172d1d",
        "colab": {
          "base_uri": "https://localhost:8080/",
          "height": 35
        }
      },
      "source": [
        "output[1][0].shape"
      ],
      "execution_count": null,
      "outputs": [
        {
          "output_type": "execute_result",
          "data": {
            "text/plain": [
              "TensorShape([1, 8, 768])"
            ]
          },
          "metadata": {
            "tags": []
          },
          "execution_count": 23
        }
      ]
    },
    {
      "cell_type": "code",
      "metadata": {
        "id": "LKP1FJRSRkV0",
        "outputId": "2922f06e-6535-4d37-af96-046a9ba912bc",
        "colab": {
          "base_uri": "https://localhost:8080/",
          "height": 301
        }
      },
      "source": [
        "print(type(output[1]))\n",
        "print(len(output[1])) # 7 Why?\n",
        "print(output[1][6]) # Shape:(1,8,768)"
      ],
      "execution_count": null,
      "outputs": [
        {
          "output_type": "stream",
          "text": [
            "<class 'tuple'>\n",
            "7\n",
            "tf.Tensor(\n",
            "[[[-1.8296401e-01 -7.4054271e-02  5.0267667e-02 ... -1.1260690e-01\n",
            "    4.4493100e-01  4.0941307e-01]\n",
            "  [ 7.0589967e-04  1.4825365e-01  3.4328270e-01 ... -8.6039528e-02\n",
            "    6.9474751e-01  4.3353081e-02]\n",
            "  [-5.0720602e-01  5.3085494e-01  3.7162632e-01 ... -5.6287450e-01\n",
            "    1.3755678e-01  2.8475279e-01]\n",
            "  ...\n",
            "  [-4.2251340e-01  5.7314664e-02  2.4338306e-01 ... -1.5222676e-01\n",
            "    2.4462426e-01  6.4154869e-01]\n",
            "  [-4.9384493e-01 -1.8895482e-01  1.2640803e-01 ...  6.3240677e-02\n",
            "    3.6912847e-01 -5.8252141e-02]\n",
            "  [ 8.3268642e-01  2.4948184e-01 -4.5439535e-01 ...  1.1997543e-01\n",
            "   -3.9257327e-01 -2.7785364e-01]]], shape=(1, 8, 768), dtype=float32)\n"
          ],
          "name": "stdout"
        }
      ]
    },
    {
      "cell_type": "markdown",
      "metadata": {
        "id": "kHMQIaouS1r1"
      },
      "source": [
        " **Same steps as above, for any Transformer /BERT like model**"
      ]
    },
    {
      "cell_type": "markdown",
      "metadata": {
        "id": "MLodxBWwpIYw"
      },
      "source": [
        "### Fine-tuning for various tasks\n",
        "\n",
        "- Refer: https://arxiv.org/pdf/1810.04805.pdf\n",
        "\n",
        "-Next video"
      ]
    }
  ]
}