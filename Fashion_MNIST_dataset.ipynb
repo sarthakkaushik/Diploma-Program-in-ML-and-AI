{
  "nbformat": 4,
  "nbformat_minor": 0,
  "metadata": {
    "colab": {
      "name": "Fashion-MNIST dataset.ipynb",
      "provenance": [],
      "machine_shape": "hm",
      "authorship_tag": "ABX9TyNdON1FcyRgIykpUtXnWFWj",
      "include_colab_link": true
    },
    "kernelspec": {
      "name": "python3",
      "display_name": "Python 3"
    },
    "language_info": {
      "name": "python"
    },
    "accelerator": "GPU"
  },
  "cells": [
    {
      "cell_type": "markdown",
      "metadata": {
        "id": "view-in-github",
        "colab_type": "text"
      },
      "source": [
        "<a href=\"https://colab.research.google.com/github/sarthakkaushik/Diploma-Program-in-ML-and-AI/blob/main/Fashion_MNIST_dataset.ipynb\" target=\"_parent\"><img src=\"https://colab.research.google.com/assets/colab-badge.svg\" alt=\"Open In Colab\"/></a>"
      ]
    },
    {
      "cell_type": "code",
      "execution_count": 26,
      "metadata": {
        "id": "GRIz9B1jzKqt"
      },
      "outputs": [],
      "source": [
        "#Importing all the libraries\n",
        "import tensorflow as tf\n",
        "import numpy as np\n",
        "import pandas as pd\n",
        "from tensorflow.python.keras.layers.normalization.batch_normalization import BatchNormalization\n",
        "from tensorflow.python.keras.layers.core import Dropout\n",
        "#Creating the model\n",
        "from tensorflow import keras\n",
        "from tensorflow.keras import layers"
      ]
    },
    {
      "cell_type": "code",
      "source": [
        "#Import the data\n",
        "from tensorflow.keras.datasets import fashion_mnist"
      ],
      "metadata": {
        "id": "UuTn99K44qYs"
      },
      "execution_count": 3,
      "outputs": []
    },
    {
      "cell_type": "code",
      "source": [
        "(train_data, train_labels), (test_data,test_labels) = fashion_mnist.load_data()"
      ],
      "metadata": {
        "id": "G-s_nvek40ro"
      },
      "execution_count": 45,
      "outputs": []
    },
    {
      "cell_type": "code",
      "source": [
        "train_data[0].shape, train_labels[0]"
      ],
      "metadata": {
        "colab": {
          "base_uri": "https://localhost:8080/"
        },
        "id": "_InsuMnQ5C8r",
        "outputId": "831a13c6-396c-4d23-dac6-5d65d3c7887d"
      },
      "execution_count": 10,
      "outputs": [
        {
          "output_type": "execute_result",
          "data": {
            "text/plain": [
              "((28, 28), 9)"
            ]
          },
          "metadata": {},
          "execution_count": 10
        }
      ]
    },
    {
      "cell_type": "code",
      "source": [
        "#Plot a single sample\n",
        "import matplotlib.pyplot as plt\n",
        "plt.imshow(train_data[0])\n",
        "# Check lable\n",
        "train_labels[0]"
      ],
      "metadata": {
        "colab": {
          "base_uri": "https://localhost:8080/",
          "height": 282
        },
        "id": "xAzHXa085c2U",
        "outputId": "71eaed5c-c3d4-497c-f3e3-f95b355273de"
      },
      "execution_count": 16,
      "outputs": [
        {
          "output_type": "execute_result",
          "data": {
            "text/plain": [
              "9"
            ]
          },
          "metadata": {},
          "execution_count": 16
        },
        {
          "output_type": "display_data",
          "data": {
            "image/png": "[encoded data removed]",
            "text/plain": [
              "<Figure size 432x288 with 1 Axes>"
            ]
          },
          "metadata": {
            "needs_background": "light"
          }
        }
      ]
    },
    {
      "cell_type": "code",
      "source": [
        "class_names = ['T-shirt/top', 'Trouser', 'Pullover', 'Dress', 'Coat', \n",
        "               'Sandal', 'Shirt', 'Sneaker', 'Bag', 'Ankle boot']\n",
        "\n",
        "# How many classes are there (this'll be our output shape)?\n",
        "len(class_names)"
      ],
      "metadata": {
        "colab": {
          "base_uri": "https://localhost:8080/"
        },
        "id": "_B5X51uQ550z",
        "outputId": "5e9b5cd5-6e14-4909-c681-fa6d672c0ced"
      },
      "execution_count": 17,
      "outputs": [
        {
          "output_type": "execute_result",
          "data": {
            "text/plain": [
              "10"
            ]
          },
          "metadata": {},
          "execution_count": 17
        }
      ]
    },
    {
      "cell_type": "code",
      "source": [
        "# Plot an example image and its label\n",
        "plt.imshow(train_data[17], cmap=plt.cm.binary) # change the colours to black & white\n",
        "plt.title(class_names[train_labels[17]]);"
      ],
      "metadata": {
        "colab": {
          "base_uri": "https://localhost:8080/",
          "height": 281
        },
        "id": "KaH2Nvii5vBs",
        "outputId": "66797b28-6220-4bef-c287-74f3cb991325"
      },
      "execution_count": 18,
      "outputs": [
        {
          "output_type": "display_data",
          "data": {
            "image/png": "[encoded data removed]",
            "text/plain": [
              "<Figure size 432x288 with 1 Axes>"
            ]
          },
          "metadata": {
            "needs_background": "light"
          }
        }
      ]
    },
    {
      "cell_type": "code",
      "source": [
        "#Plot multiple random imgae\n",
        "import random\n",
        "plt.figure(figsize=(7,7))\n",
        "\n",
        "for i in range(4):\n",
        "  ax= plt.subplot(2,2,i+1)\n",
        "  rand_index=random.choice(range(len(train_data)))\n",
        "  plt.imshow(train_data[rand_index], cmap=plt.cm.binary)\n",
        "  plt.title(class_names[train_labels[rand_index]])\n",
        "  plt.axis(False)"
      ],
      "metadata": {
        "colab": {
          "base_uri": "https://localhost:8080/",
          "height": 427
        },
        "id": "cJgzau1M6Xvm",
        "outputId": "0ed4e0cf-3aca-4914-cc69-0d1f59474399"
      },
      "execution_count": 23,
      "outputs": [
        {
          "output_type": "display_data",
          "data": {
            "image/png": "[encoded data removed]",
            "text/plain": [
              "<Figure size 504x504 with 4 Axes>"
            ]
          },
          "metadata": {
            "needs_background": "light"
          }
        }
      ]
    },
    {
      "cell_type": "code",
      "source": [
        "#Building a multo- class classification model\n",
        "\n",
        "model= tf.keras.Sequential([\n",
        "                            layers.Flatten(input_shape=(28,28)),\n",
        "                            layers.Dense(4,activation='relu'),\n",
        "                            layers.Dense(4,activation='relu'),\n",
        "                            layers.Dense(10,activation='softmax')\n",
        "])\n",
        "\n",
        "#Compile the model\n",
        "\n",
        "model.compile(\n",
        "    loss=tf.keras.losses.SparseCategoricalCrossentropy(),\n",
        "    optimizer=tf.keras.optimizers.Adam(),\n",
        "    metrics=['accuracy']\n",
        "    )\n",
        "\n",
        "non_norm_history= model.fit(train_data,train_labels,epochs=50,\n",
        "                            validation_data=(test_data, test_labels))"
      ],
      "metadata": {
        "colab": {
          "base_uri": "https://localhost:8080/"
        },
        "id": "spFusl1G7epN",
        "outputId": "5391f59d-f826-4501-af19-47d8f0cc9ce7"
      },
      "execution_count": 34,
      "outputs": [
        {
          "output_type": "stream",
          "name": "stdout",
          "text": [
            "Epoch 1/50\n",
            "1875/1875 [==============================] - 5s 3ms/step - loss: 2.3423 - accuracy: 0.0987 - val_loss: 2.3023 - val_accuracy: 0.0985\n",
            "Epoch 2/50\n",
            "1875/1875 [==============================] - 5s 3ms/step - loss: 1.9790 - accuracy: 0.1962 - val_loss: 1.7548 - val_accuracy: 0.2424\n",
            "Epoch 3/50\n",
            "1875/1875 [==============================] - 5s 3ms/step - loss: 1.6832 - accuracy: 0.2745 - val_loss: 1.6244 - val_accuracy: 0.3080\n",
            "Epoch 4/50\n",
            "1875/1875 [==============================] - 5s 3ms/step - loss: 1.5989 - accuracy: 0.3053 - val_loss: 1.5722 - val_accuracy: 0.3200\n",
            "Epoch 5/50\n",
            "1875/1875 [==============================] - 5s 3ms/step - loss: 1.5631 - accuracy: 0.3106 - val_loss: 1.5481 - val_accuracy: 0.3192\n",
            "Epoch 6/50\n",
            "1875/1875 [==============================] - 5s 3ms/step - loss: 1.5424 - accuracy: 0.3144 - val_loss: 1.5331 - val_accuracy: 0.3102\n",
            "Epoch 7/50\n",
            "1875/1875 [==============================] - 5s 3ms/step - loss: 1.5267 - accuracy: 0.3140 - val_loss: 1.5183 - val_accuracy: 0.3221\n",
            "Epoch 8/50\n",
            "1875/1875 [==============================] - 5s 3ms/step - loss: 1.5169 - accuracy: 0.3129 - val_loss: 1.5077 - val_accuracy: 0.3242\n",
            "Epoch 9/50\n",
            "1875/1875 [==============================] - 5s 3ms/step - loss: 1.5025 - accuracy: 0.3273 - val_loss: 1.4881 - val_accuracy: 0.3555\n",
            "Epoch 10/50\n",
            "1875/1875 [==============================] - 5s 3ms/step - loss: 1.4865 - accuracy: 0.3405 - val_loss: 1.4884 - val_accuracy: 0.3503\n",
            "Epoch 11/50\n",
            "1875/1875 [==============================] - 5s 3ms/step - loss: 1.4766 - accuracy: 0.3526 - val_loss: 1.4760 - val_accuracy: 0.3562\n",
            "Epoch 12/50\n",
            "1875/1875 [==============================] - 5s 3ms/step - loss: 1.4644 - accuracy: 0.3603 - val_loss: 1.4620 - val_accuracy: 0.3701\n",
            "Epoch 13/50\n",
            "1875/1875 [==============================] - 5s 3ms/step - loss: 1.4554 - accuracy: 0.3662 - val_loss: 1.4515 - val_accuracy: 0.3744\n",
            "Epoch 14/50\n",
            "1875/1875 [==============================] - 6s 3ms/step - loss: 1.4501 - accuracy: 0.3670 - val_loss: 1.4744 - val_accuracy: 0.3485\n",
            "Epoch 15/50\n",
            "1875/1875 [==============================] - 5s 3ms/step - loss: 1.4475 - accuracy: 0.3659 - val_loss: 1.4543 - val_accuracy: 0.3745\n",
            "Epoch 16/50\n",
            "1875/1875 [==============================] - 6s 3ms/step - loss: 1.4448 - accuracy: 0.3677 - val_loss: 1.4466 - val_accuracy: 0.3730\n",
            "Epoch 17/50\n",
            "1875/1875 [==============================] - 5s 3ms/step - loss: 1.4389 - accuracy: 0.3681 - val_loss: 1.4414 - val_accuracy: 0.3741\n",
            "Epoch 18/50\n",
            "1875/1875 [==============================] - 5s 3ms/step - loss: 1.4373 - accuracy: 0.3717 - val_loss: 1.4337 - val_accuracy: 0.3795\n",
            "Epoch 19/50\n",
            "1875/1875 [==============================] - 5s 3ms/step - loss: 1.4350 - accuracy: 0.3707 - val_loss: 1.4389 - val_accuracy: 0.3796\n",
            "Epoch 20/50\n",
            "1875/1875 [==============================] - 5s 3ms/step - loss: 1.4335 - accuracy: 0.3702 - val_loss: 1.4494 - val_accuracy: 0.3577\n",
            "Epoch 21/50\n",
            "1875/1875 [==============================] - 5s 3ms/step - loss: 1.4329 - accuracy: 0.3703 - val_loss: 1.4309 - val_accuracy: 0.3783\n",
            "Epoch 22/50\n",
            "1875/1875 [==============================] - 5s 3ms/step - loss: 1.4294 - accuracy: 0.3708 - val_loss: 1.4335 - val_accuracy: 0.3796\n",
            "Epoch 23/50\n",
            "1875/1875 [==============================] - 5s 3ms/step - loss: 1.4281 - accuracy: 0.3725 - val_loss: 1.4296 - val_accuracy: 0.3823\n",
            "Epoch 24/50\n",
            "1875/1875 [==============================] - 5s 3ms/step - loss: 1.4286 - accuracy: 0.3710 - val_loss: 1.4320 - val_accuracy: 0.3802\n",
            "Epoch 25/50\n",
            "1875/1875 [==============================] - 5s 3ms/step - loss: 1.4256 - accuracy: 0.3722 - val_loss: 1.4297 - val_accuracy: 0.3778\n",
            "Epoch 26/50\n",
            "1875/1875 [==============================] - 5s 3ms/step - loss: 1.4244 - accuracy: 0.3741 - val_loss: 1.4283 - val_accuracy: 0.3811\n",
            "Epoch 27/50\n",
            "1875/1875 [==============================] - 5s 3ms/step - loss: 1.4252 - accuracy: 0.3705 - val_loss: 1.4310 - val_accuracy: 0.3778\n",
            "Epoch 28/50\n",
            "1875/1875 [==============================] - 5s 3ms/step - loss: 1.4251 - accuracy: 0.3713 - val_loss: 1.4260 - val_accuracy: 0.3773\n",
            "Epoch 29/50\n",
            "1875/1875 [==============================] - 5s 3ms/step - loss: 1.4233 - accuracy: 0.3740 - val_loss: 1.4394 - val_accuracy: 0.3726\n",
            "Epoch 30/50\n",
            "1875/1875 [==============================] - 5s 3ms/step - loss: 1.4242 - accuracy: 0.3738 - val_loss: 1.4306 - val_accuracy: 0.3771\n",
            "Epoch 31/50\n",
            "1875/1875 [==============================] - 5s 3ms/step - loss: 1.4239 - accuracy: 0.3722 - val_loss: 1.4291 - val_accuracy: 0.3742\n",
            "Epoch 32/50\n",
            "1875/1875 [==============================] - 5s 3ms/step - loss: 1.4202 - accuracy: 0.3726 - val_loss: 1.4270 - val_accuracy: 0.3709\n",
            "Epoch 33/50\n",
            "1875/1875 [==============================] - 5s 3ms/step - loss: 1.4215 - accuracy: 0.3723 - val_loss: 1.4259 - val_accuracy: 0.3745\n",
            "Epoch 34/50\n",
            "1875/1875 [==============================] - 5s 3ms/step - loss: 1.4208 - accuracy: 0.3725 - val_loss: 1.4269 - val_accuracy: 0.3758\n",
            "Epoch 35/50\n",
            "1875/1875 [==============================] - 5s 3ms/step - loss: 1.4192 - accuracy: 0.3722 - val_loss: 1.4259 - val_accuracy: 0.3780\n",
            "Epoch 36/50\n",
            "1875/1875 [==============================] - 5s 3ms/step - loss: 1.4189 - accuracy: 0.3721 - val_loss: 1.4218 - val_accuracy: 0.3841\n",
            "Epoch 37/50\n",
            "1875/1875 [==============================] - 5s 3ms/step - loss: 1.4196 - accuracy: 0.3748 - val_loss: 1.4324 - val_accuracy: 0.3778\n",
            "Epoch 38/50\n",
            "1875/1875 [==============================] - 5s 3ms/step - loss: 1.4174 - accuracy: 0.3742 - val_loss: 1.4216 - val_accuracy: 0.3808\n",
            "Epoch 39/50\n",
            "1875/1875 [==============================] - 5s 3ms/step - loss: 1.4182 - accuracy: 0.3736 - val_loss: 1.4227 - val_accuracy: 0.3800\n",
            "Epoch 40/50\n",
            "1875/1875 [==============================] - 6s 3ms/step - loss: 1.4175 - accuracy: 0.3753 - val_loss: 1.4235 - val_accuracy: 0.3810\n",
            "Epoch 41/50\n",
            "1875/1875 [==============================] - 6s 3ms/step - loss: 1.4176 - accuracy: 0.3749 - val_loss: 1.4655 - val_accuracy: 0.3539\n",
            "Epoch 42/50\n",
            "1875/1875 [==============================] - 6s 3ms/step - loss: 1.4182 - accuracy: 0.3732 - val_loss: 1.4363 - val_accuracy: 0.3744\n",
            "Epoch 43/50\n",
            "1875/1875 [==============================] - 6s 3ms/step - loss: 1.4151 - accuracy: 0.3760 - val_loss: 1.4391 - val_accuracy: 0.3714\n",
            "Epoch 44/50\n",
            "1875/1875 [==============================] - 5s 3ms/step - loss: 1.4171 - accuracy: 0.3747 - val_loss: 1.4257 - val_accuracy: 0.3773\n",
            "Epoch 45/50\n",
            "1875/1875 [==============================] - 5s 3ms/step - loss: 1.4159 - accuracy: 0.3750 - val_loss: 1.4229 - val_accuracy: 0.3791\n",
            "Epoch 46/50\n",
            "1875/1875 [==============================] - 5s 3ms/step - loss: 1.4165 - accuracy: 0.3749 - val_loss: 1.4317 - val_accuracy: 0.3713\n",
            "Epoch 47/50\n",
            "1875/1875 [==============================] - 5s 3ms/step - loss: 1.4168 - accuracy: 0.3726 - val_loss: 1.4497 - val_accuracy: 0.3601\n",
            "Epoch 48/50\n",
            "1875/1875 [==============================] - 6s 3ms/step - loss: 1.4159 - accuracy: 0.3751 - val_loss: 1.4228 - val_accuracy: 0.3814\n",
            "Epoch 49/50\n",
            "1875/1875 [==============================] - 6s 3ms/step - loss: 1.4158 - accuracy: 0.3741 - val_loss: 1.4358 - val_accuracy: 0.3706\n",
            "Epoch 50/50\n",
            "1875/1875 [==============================] - 6s 3ms/step - loss: 1.4153 - accuracy: 0.3751 - val_loss: 1.4382 - val_accuracy: 0.3733\n"
          ]
        }
      ]
    },
    {
      "cell_type": "code",
      "source": [
        "#Check th model summary\n",
        "model.summary()"
      ],
      "metadata": {
        "colab": {
          "base_uri": "https://localhost:8080/"
        },
        "id": "gifD0m6H-rg6",
        "outputId": "e0ecd09e-d8e9-4f21-ea52-4e728a929a6e"
      },
      "execution_count": 35,
      "outputs": [
        {
          "output_type": "stream",
          "name": "stdout",
          "text": [
            "Model: \"sequential_5\"\n",
            "_________________________________________________________________\n",
            " Layer (type)                Output Shape              Param #   \n",
            "=================================================================\n",
            " flatten_3 (Flatten)         (None, 784)               0         \n",
            "                                                                 \n",
            " dense_16 (Dense)            (None, 4)                 3140      \n",
            "                                                                 \n",
            " dense_17 (Dense)            (None, 4)                 20        \n",
            "                                                                 \n",
            " dense_18 (Dense)            (None, 10)                50        \n",
            "                                                                 \n",
            "=================================================================\n",
            "Total params: 3,210\n",
            "Trainable params: 3,210\n",
            "Non-trainable params: 0\n",
            "_________________________________________________________________\n"
          ]
        }
      ]
    },
    {
      "cell_type": "code",
      "source": [
        "# CHeck the min and max value of yor train and test data\n",
        "train_data.min(), train_data.max()"
      ],
      "metadata": {
        "colab": {
          "base_uri": "https://localhost:8080/"
        },
        "id": "yXTyci-b_MtP",
        "outputId": "440b3a7c-fc00-4e21-b83c-58f0a421fa5a"
      },
      "execution_count": 37,
      "outputs": [
        {
          "output_type": "execute_result",
          "data": {
            "text/plain": [
              "(0, 255)"
            ]
          },
          "metadata": {},
          "execution_count": 37
        }
      ]
    },
    {
      "cell_type": "code",
      "source": [
        "#Scaling your input data between 0 and 1\n",
        "train_data_norm=train_data/255.0\n",
        "test_data_norm=test_data/255.0"
      ],
      "metadata": {
        "id": "DWaLJMav_Tqy"
      },
      "execution_count": 46,
      "outputs": []
    },
    {
      "cell_type": "code",
      "source": [
        "# CHeck the min and max value of yor train and test data\n",
        "train_data_norm.min(), train_data_norm.max()"
      ],
      "metadata": {
        "colab": {
          "base_uri": "https://localhost:8080/"
        },
        "id": "a0S9H-u6_l2U",
        "outputId": "cfcea02c-7cfe-4072-f40b-4fdbb510be46"
      },
      "execution_count": 47,
      "outputs": [
        {
          "output_type": "execute_result",
          "data": {
            "text/plain": [
              "(0.0, 1.0)"
            ]
          },
          "metadata": {},
          "execution_count": 47
        }
      ]
    },
    {
      "cell_type": "code",
      "source": [
        "#Now are data is notmalized lets train the data again on the model\n",
        "\n",
        "model_2= tf.keras.Sequential([\n",
        "                              layers.Flatten(input_shape=(28,28)),\n",
        "                              layers.Dense(100, activation='relu'),\n",
        "                              layers.Dense(100, activation='relu'),\n",
        "                              layers.Dense(10, activation = 'softmax')\n",
        "])\n",
        "\n",
        "#Lets compile the model agan\n",
        "\n",
        "model_2.compile(\n",
        "    loss=tf.keras.losses.SparseCategoricalCrossentropy(),\n",
        "    optimizer=tf.keras.optimizers.Adam(),\n",
        "    metrics=['accuracy']\n",
        ")\n",
        "\n",
        "#Lets fit the model\n",
        "\n",
        "norm_history=model_2.fit(train_data_norm, train_labels,\n",
        "            epochs=10,\n",
        "            validation_data=(test_data_norm,test_labels))"
      ],
      "metadata": {
        "colab": {
          "base_uri": "https://localhost:8080/"
        },
        "id": "gyDuh5oT_zyW",
        "outputId": "944d3c8b-b3ea-4a4c-80e1-85403f01955e"
      },
      "execution_count": 51,
      "outputs": [
        {
          "output_type": "stream",
          "name": "stdout",
          "text": [
            "Epoch 1/10\n",
            "1875/1875 [==============================] - 6s 3ms/step - loss: 0.4969 - accuracy: 0.8221 - val_loss: 0.4131 - val_accuracy: 0.8530\n",
            "Epoch 2/10\n",
            "1875/1875 [==============================] - 5s 3ms/step - loss: 0.3702 - accuracy: 0.8647 - val_loss: 0.4339 - val_accuracy: 0.8365\n",
            "Epoch 3/10\n",
            "1875/1875 [==============================] - 5s 3ms/step - loss: 0.3361 - accuracy: 0.8766 - val_loss: 0.3776 - val_accuracy: 0.8648\n",
            "Epoch 4/10\n",
            "1875/1875 [==============================] - 5s 3ms/step - loss: 0.3143 - accuracy: 0.8834 - val_loss: 0.3607 - val_accuracy: 0.8671\n",
            "Epoch 5/10\n",
            "1875/1875 [==============================] - 5s 3ms/step - loss: 0.2954 - accuracy: 0.8903 - val_loss: 0.3438 - val_accuracy: 0.8749\n",
            "Epoch 6/10\n",
            "1875/1875 [==============================] - 5s 3ms/step - loss: 0.2823 - accuracy: 0.8952 - val_loss: 0.3626 - val_accuracy: 0.8701\n",
            "Epoch 7/10\n",
            "1875/1875 [==============================] - 6s 3ms/step - loss: 0.2692 - accuracy: 0.8986 - val_loss: 0.3361 - val_accuracy: 0.8816\n",
            "Epoch 8/10\n",
            "1875/1875 [==============================] - 8s 4ms/step - loss: 0.2607 - accuracy: 0.9029 - val_loss: 0.3365 - val_accuracy: 0.8809\n",
            "Epoch 9/10\n",
            "1875/1875 [==============================] - 7s 3ms/step - loss: 0.2496 - accuracy: 0.9068 - val_loss: 0.3289 - val_accuracy: 0.8863\n",
            "Epoch 10/10\n",
            "1875/1875 [==============================] - 6s 3ms/step - loss: 0.2397 - accuracy: 0.9107 - val_loss: 0.3353 - val_accuracy: 0.8820\n"
          ]
        }
      ]
    },
    {
      "cell_type": "code",
      "source": [
        "#Lets plot the result.\n",
        "pd.DataFrame(non_norm_history.history).plot(title='\"Non-Normalized data')\n",
        "#Lets plot the result.\n",
        "pd.DataFrame(norm_history.history).plot(title='\"Normalized data')"
      ],
      "metadata": {
        "colab": {
          "base_uri": "https://localhost:8080/",
          "height": 562
        },
        "id": "SlADt-UOBgIt",
        "outputId": "ca071f44-31be-4309-e23d-101c4b5969d6"
      },
      "execution_count": 53,
      "outputs": [
        {
          "output_type": "execute_result",
          "data": {
            "text/plain": [
              "<matplotlib.axes._subplots.AxesSubplot at 0x7f2736162b50>"
            ]
          },
          "metadata": {},
          "execution_count": 53
        },
        {
          "output_type": "display_data",
          "data": {
            "image/png": "[encoded data removed]",
            "text/plain": [
              "<Figure size 432x288 with 1 Axes>"
            ]
          },
          "metadata": {
            "needs_background": "light"
          }
        },
        {
          "output_type": "display_data",
          "data": {
            "image/png": "[encoded data removed]",
            "text/plain": [
              "<Figure size 432x288 with 1 Axes>"
            ]
          },
          "metadata": {
            "needs_background": "light"
          }
        }
      ]
    },
    {
      "cell_type": "code",
      "source": [
        ""
      ],
      "metadata": {
        "id": "TOnXxINFGlx3"
      },
      "execution_count": null,
      "outputs": []
    },
    {
      "cell_type": "code",
      "source": [
        "#Fiding the ideal learning rate\n",
        "\n",
        "#create model\n",
        "\n",
        "model_3= tf.keras.Sequential([\n",
        "                              layers.Flatten(input_shape=(28,28)),\n",
        "                              layers.Dense(20,activation='relu'),\n",
        "                              layers.Dense(20,activation='relu'),\n",
        "                              layers.Dense(10,activation='softmax')\n",
        "])\n",
        "\n",
        "#Compile the model\n",
        "\n",
        "model_3.compile(\n",
        "    loss=tf.keras.losses.SparseCategoricalCrossentropy(),\n",
        "    optimizer=tf.keras.optimizers.Adam(),\n",
        "    metrics=['accuracy']\n",
        ")\n",
        "\n",
        "#Create a callback to find the best learning rate\n",
        "lr_scheduler= tf.keras.callbacks.LearningRateScheduler(lambda epoch : 1e-3 *10**(epoch/20))\n",
        "\n",
        "#Fit the model\n",
        "\n",
        "find_lr_histroy=model_3.fit(train_data_norm,train_labels,\n",
        "                           epochs=40,\n",
        "                           validation_data=(test_data_norm,test_labels),\n",
        "                           callbacks=[lr_scheduler]\n",
        ")"
      ],
      "metadata": {
        "colab": {
          "base_uri": "https://localhost:8080/"
        },
        "id": "KpqtYX9NCX3J",
        "outputId": "1b9c43a4-8071-485c-abde-2427e2b6d6e1"
      },
      "execution_count": 57,
      "outputs": [
        {
          "output_type": "stream",
          "name": "stdout",
          "text": [
            "Epoch 1/40\n",
            "1875/1875 [==============================] - 6s 3ms/step - loss: 0.5983 - accuracy: 0.7922 - val_loss: 0.4731 - val_accuracy: 0.8353 - lr: 0.0010\n",
            "Epoch 2/40\n",
            "1875/1875 [==============================] - 5s 3ms/step - loss: 0.4325 - accuracy: 0.8475 - val_loss: 0.4606 - val_accuracy: 0.8352 - lr: 0.0011\n",
            "Epoch 3/40\n",
            "1875/1875 [==============================] - 5s 3ms/step - loss: 0.4007 - accuracy: 0.8581 - val_loss: 0.4199 - val_accuracy: 0.8525 - lr: 0.0013\n",
            "Epoch 4/40\n",
            "1875/1875 [==============================] - 5s 3ms/step - loss: 0.3836 - accuracy: 0.8623 - val_loss: 0.4134 - val_accuracy: 0.8559 - lr: 0.0014\n",
            "Epoch 5/40\n",
            "1875/1875 [==============================] - 6s 3ms/step - loss: 0.3687 - accuracy: 0.8673 - val_loss: 0.4075 - val_accuracy: 0.8554 - lr: 0.0016\n",
            "Epoch 6/40\n",
            "1875/1875 [==============================] - 5s 3ms/step - loss: 0.3585 - accuracy: 0.8711 - val_loss: 0.3976 - val_accuracy: 0.8643 - lr: 0.0018\n",
            "Epoch 7/40\n",
            "1875/1875 [==============================] - 5s 3ms/step - loss: 0.3526 - accuracy: 0.8719 - val_loss: 0.4092 - val_accuracy: 0.8553 - lr: 0.0020\n",
            "Epoch 8/40\n",
            "1875/1875 [==============================] - 5s 3ms/step - loss: 0.3478 - accuracy: 0.8727 - val_loss: 0.3865 - val_accuracy: 0.8653 - lr: 0.0022\n",
            "Epoch 9/40\n",
            "1875/1875 [==============================] - 5s 3ms/step - loss: 0.3466 - accuracy: 0.8726 - val_loss: 0.4257 - val_accuracy: 0.8476 - lr: 0.0025\n",
            "Epoch 10/40\n",
            "1875/1875 [==============================] - 5s 3ms/step - loss: 0.3416 - accuracy: 0.8737 - val_loss: 0.4075 - val_accuracy: 0.8569 - lr: 0.0028\n",
            "Epoch 11/40\n",
            "1875/1875 [==============================] - 6s 3ms/step - loss: 0.3405 - accuracy: 0.8753 - val_loss: 0.3804 - val_accuracy: 0.8642 - lr: 0.0032\n",
            "Epoch 12/40\n",
            "1875/1875 [==============================] - 5s 3ms/step - loss: 0.3439 - accuracy: 0.8728 - val_loss: 0.4084 - val_accuracy: 0.8525 - lr: 0.0035\n",
            "Epoch 13/40\n",
            "1875/1875 [==============================] - 5s 3ms/step - loss: 0.3444 - accuracy: 0.8737 - val_loss: 0.3932 - val_accuracy: 0.8582 - lr: 0.0040\n",
            "Epoch 14/40\n",
            "1875/1875 [==============================] - 5s 3ms/step - loss: 0.3445 - accuracy: 0.8737 - val_loss: 0.3916 - val_accuracy: 0.8600 - lr: 0.0045\n",
            "Epoch 15/40\n",
            "1875/1875 [==============================] - 5s 3ms/step - loss: 0.3450 - accuracy: 0.8735 - val_loss: 0.3885 - val_accuracy: 0.8611 - lr: 0.0050\n",
            "Epoch 16/40\n",
            "1875/1875 [==============================] - 5s 3ms/step - loss: 0.3539 - accuracy: 0.8704 - val_loss: 0.4264 - val_accuracy: 0.8545 - lr: 0.0056\n",
            "Epoch 17/40\n",
            "1875/1875 [==============================] - 5s 3ms/step - loss: 0.3566 - accuracy: 0.8708 - val_loss: 0.4026 - val_accuracy: 0.8529 - lr: 0.0063\n",
            "Epoch 18/40\n",
            "1875/1875 [==============================] - 5s 3ms/step - loss: 0.3663 - accuracy: 0.8682 - val_loss: 0.4006 - val_accuracy: 0.8578 - lr: 0.0071\n",
            "Epoch 19/40\n",
            "1875/1875 [==============================] - 5s 3ms/step - loss: 0.3710 - accuracy: 0.8670 - val_loss: 0.4051 - val_accuracy: 0.8598 - lr: 0.0079\n",
            "Epoch 20/40\n",
            "1875/1875 [==============================] - 5s 3ms/step - loss: 0.3795 - accuracy: 0.8646 - val_loss: 0.4356 - val_accuracy: 0.8450 - lr: 0.0089\n",
            "Epoch 21/40\n",
            "1875/1875 [==============================] - 5s 3ms/step - loss: 0.3929 - accuracy: 0.8609 - val_loss: 0.4432 - val_accuracy: 0.8434 - lr: 0.0100\n",
            "Epoch 22/40\n",
            "1875/1875 [==============================] - 5s 3ms/step - loss: 0.4013 - accuracy: 0.8595 - val_loss: 0.4488 - val_accuracy: 0.8475 - lr: 0.0112\n",
            "Epoch 23/40\n",
            "1875/1875 [==============================] - 5s 3ms/step - loss: 0.4129 - accuracy: 0.8576 - val_loss: 0.5223 - val_accuracy: 0.8259 - lr: 0.0126\n",
            "Epoch 24/40\n",
            "1875/1875 [==============================] - 5s 3ms/step - loss: 0.4249 - accuracy: 0.8551 - val_loss: 0.4667 - val_accuracy: 0.8428 - lr: 0.0141\n",
            "Epoch 25/40\n",
            "1875/1875 [==============================] - 5s 3ms/step - loss: 0.4416 - accuracy: 0.8512 - val_loss: 0.5796 - val_accuracy: 0.8228 - lr: 0.0158\n",
            "Epoch 26/40\n",
            "1875/1875 [==============================] - 5s 3ms/step - loss: 0.4588 - accuracy: 0.8464 - val_loss: 0.5787 - val_accuracy: 0.8089 - lr: 0.0178\n",
            "Epoch 27/40\n",
            "1875/1875 [==============================] - 5s 3ms/step - loss: 0.4856 - accuracy: 0.8383 - val_loss: 0.5945 - val_accuracy: 0.8077 - lr: 0.0200\n",
            "Epoch 28/40\n",
            "1875/1875 [==============================] - 5s 3ms/step - loss: 0.5184 - accuracy: 0.8263 - val_loss: 0.6579 - val_accuracy: 0.7889 - lr: 0.0224\n",
            "Epoch 29/40\n",
            "1875/1875 [==============================] - 5s 3ms/step - loss: 0.5685 - accuracy: 0.8144 - val_loss: 0.6044 - val_accuracy: 0.7961 - lr: 0.0251\n",
            "Epoch 30/40\n",
            "1875/1875 [==============================] - 5s 3ms/step - loss: 0.6254 - accuracy: 0.8015 - val_loss: 0.8232 - val_accuracy: 0.7274 - lr: 0.0282\n",
            "Epoch 31/40\n",
            "1875/1875 [==============================] - 5s 3ms/step - loss: 0.6451 - accuracy: 0.7938 - val_loss: 1.0194 - val_accuracy: 0.7193 - lr: 0.0316\n",
            "Epoch 32/40\n",
            "1875/1875 [==============================] - 5s 3ms/step - loss: 0.8802 - accuracy: 0.6957 - val_loss: 0.9334 - val_accuracy: 0.6603 - lr: 0.0355\n",
            "Epoch 33/40\n",
            "1875/1875 [==============================] - 5s 3ms/step - loss: 0.9485 - accuracy: 0.6407 - val_loss: 0.9493 - val_accuracy: 0.6168 - lr: 0.0398\n",
            "Epoch 34/40\n",
            "1875/1875 [==============================] - 5s 3ms/step - loss: 1.0947 - accuracy: 0.5333 - val_loss: 0.9564 - val_accuracy: 0.6106 - lr: 0.0447\n",
            "Epoch 35/40\n",
            "1875/1875 [==============================] - 5s 3ms/step - loss: 1.1372 - accuracy: 0.5289 - val_loss: 1.2077 - val_accuracy: 0.4728 - lr: 0.0501\n",
            "Epoch 36/40\n",
            "1875/1875 [==============================] - 5s 3ms/step - loss: 1.4653 - accuracy: 0.3705 - val_loss: 1.5064 - val_accuracy: 0.3279 - lr: 0.0562\n",
            "Epoch 37/40\n",
            "1875/1875 [==============================] - 5s 3ms/step - loss: 1.4972 - accuracy: 0.3282 - val_loss: 1.7912 - val_accuracy: 0.3004 - lr: 0.0631\n",
            "Epoch 38/40\n",
            "1875/1875 [==============================] - 5s 3ms/step - loss: 1.4830 - accuracy: 0.3406 - val_loss: 1.6031 - val_accuracy: 0.3071 - lr: 0.0708\n",
            "Epoch 39/40\n",
            "1875/1875 [==============================] - 5s 3ms/step - loss: 1.4383 - accuracy: 0.3363 - val_loss: 1.4877 - val_accuracy: 0.3044 - lr: 0.0794\n",
            "Epoch 40/40\n",
            "1875/1875 [==============================] - 5s 3ms/step - loss: 2.1292 - accuracy: 0.1620 - val_loss: 2.3012 - val_accuracy: 0.1151 - lr: 0.0891\n"
          ]
        }
      ]
    },
    {
      "cell_type": "code",
      "source": [
        "# Plot the learning rate decay curve\n",
        "import numpy as np\n",
        "import matplotlib.pyplot as plt\n",
        "lrs = 1e-3 * (10**(np.arange(40)/20))\n",
        "plt.semilogx(lrs, find_lr_histroy.history[\"loss\"]) # want the x-axis to be log-scale\n",
        "plt.xlabel(\"Learning rate\")\n",
        "plt.ylabel(\"Loss\")\n",
        "plt.title(\"Finding the ideal learning rate\");"
      ],
      "metadata": {
        "colab": {
          "base_uri": "https://localhost:8080/",
          "height": 299
        },
        "id": "o-Eqa2_WEIzM",
        "outputId": "cfaea8dc-991b-45af-b7b5-2d3fd8e95f81"
      },
      "execution_count": 59,
      "outputs": [
        {
          "output_type": "display_data",
          "data": {
            "image/png": "[encoded data removed]",
            "text/plain": [
              "<Figure size 432x288 with 1 Axes>"
            ]
          },
          "metadata": {
            "needs_background": "light"
          }
        }
      ]
    },
    {
      "cell_type": "code",
      "source": [
        "#ideal learning rate = lr: 0.0045\n",
        "# train the mdoel with same learning rate \n",
        "\n",
        "#Fiding the ideal learning rate\n",
        "\n",
        "#create model\n",
        "\n",
        "model_4= tf.keras.Sequential([\n",
        "                              layers.Flatten(input_shape=(28,28)),\n",
        "                              layers.Dense(20,activation='relu'),\n",
        "                              layers.Dense(20,activation='relu'),\n",
        "                              layers.Dense(10,activation='softmax')\n",
        "])\n",
        "\n",
        "#Compile the model\n",
        "\n",
        "model_4.compile(\n",
        "    loss=tf.keras.losses.SparseCategoricalCrossentropy(),\n",
        "    optimizer=tf.keras.optimizers.Adam(0.0045 ),\n",
        "    metrics=['accuracy']\n",
        ")\n",
        "\n",
        "#Create a callback to find the best learning rate\n",
        "# lr_scheduler= tf.keras.callbacks.LearningRateScheduler(lambda epoch : 1e-3 *10**(epoch/20))\n",
        "\n",
        "#Fit the model\n",
        "\n",
        "ideal_lr_histroy=model_4.fit(train_data_norm,train_labels,\n",
        "                           epochs=40,\n",
        "                           validation_data=(test_data_norm,test_labels),\n",
        "                          #  callbacks=[lr_scheduler]\n",
        ")"
      ],
      "metadata": {
        "colab": {
          "base_uri": "https://localhost:8080/"
        },
        "id": "L3HbUVAyE_Mm",
        "outputId": "7b3bf564-734b-439c-a45e-d15cc4d5cf19"
      },
      "execution_count": 62,
      "outputs": [
        {
          "output_type": "stream",
          "name": "stdout",
          "text": [
            "Epoch 1/40\n",
            "1875/1875 [==============================] - 5s 3ms/step - loss: 0.5848 - accuracy: 0.7911 - val_loss: 0.4812 - val_accuracy: 0.8312\n",
            "Epoch 2/40\n",
            "1875/1875 [==============================] - 5s 3ms/step - loss: 0.4574 - accuracy: 0.8380 - val_loss: 0.4899 - val_accuracy: 0.8228\n",
            "Epoch 3/40\n",
            "1875/1875 [==============================] - 5s 3ms/step - loss: 0.4343 - accuracy: 0.8453 - val_loss: 0.4787 - val_accuracy: 0.8353\n",
            "Epoch 4/40\n",
            "1875/1875 [==============================] - 5s 3ms/step - loss: 0.4205 - accuracy: 0.8505 - val_loss: 0.4683 - val_accuracy: 0.8313\n",
            "Epoch 5/40\n",
            "1875/1875 [==============================] - 5s 3ms/step - loss: 0.4092 - accuracy: 0.8519 - val_loss: 0.4460 - val_accuracy: 0.8420\n",
            "Epoch 6/40\n",
            "1875/1875 [==============================] - 5s 3ms/step - loss: 0.4027 - accuracy: 0.8556 - val_loss: 0.4417 - val_accuracy: 0.8420\n",
            "Epoch 7/40\n",
            "1875/1875 [==============================] - 5s 3ms/step - loss: 0.3949 - accuracy: 0.8563 - val_loss: 0.4344 - val_accuracy: 0.8404\n",
            "Epoch 8/40\n",
            "1875/1875 [==============================] - 5s 3ms/step - loss: 0.3910 - accuracy: 0.8587 - val_loss: 0.4189 - val_accuracy: 0.8502\n",
            "Epoch 9/40\n",
            "1875/1875 [==============================] - 5s 3ms/step - loss: 0.3867 - accuracy: 0.8594 - val_loss: 0.4303 - val_accuracy: 0.8507\n",
            "Epoch 10/40\n",
            "1875/1875 [==============================] - 5s 3ms/step - loss: 0.3831 - accuracy: 0.8620 - val_loss: 0.4237 - val_accuracy: 0.8491\n",
            "Epoch 11/40\n",
            "1875/1875 [==============================] - 5s 3ms/step - loss: 0.3805 - accuracy: 0.8633 - val_loss: 0.4235 - val_accuracy: 0.8497\n",
            "Epoch 12/40\n",
            "1875/1875 [==============================] - 5s 3ms/step - loss: 0.3790 - accuracy: 0.8624 - val_loss: 0.4594 - val_accuracy: 0.8381\n",
            "Epoch 13/40\n",
            "1875/1875 [==============================] - 5s 3ms/step - loss: 0.3748 - accuracy: 0.8643 - val_loss: 0.4579 - val_accuracy: 0.8411\n",
            "Epoch 14/40\n",
            "1875/1875 [==============================] - 5s 3ms/step - loss: 0.3711 - accuracy: 0.8662 - val_loss: 0.4221 - val_accuracy: 0.8479\n",
            "Epoch 15/40\n",
            "1875/1875 [==============================] - 5s 3ms/step - loss: 0.3708 - accuracy: 0.8649 - val_loss: 0.4354 - val_accuracy: 0.8505\n",
            "Epoch 16/40\n",
            "1875/1875 [==============================] - 5s 3ms/step - loss: 0.3667 - accuracy: 0.8674 - val_loss: 0.4270 - val_accuracy: 0.8472\n",
            "Epoch 17/40\n",
            "1875/1875 [==============================] - 5s 3ms/step - loss: 0.3679 - accuracy: 0.8662 - val_loss: 0.4406 - val_accuracy: 0.8483\n",
            "Epoch 18/40\n",
            "1875/1875 [==============================] - 5s 3ms/step - loss: 0.3661 - accuracy: 0.8670 - val_loss: 0.4369 - val_accuracy: 0.8480\n",
            "Epoch 19/40\n",
            "1875/1875 [==============================] - 5s 3ms/step - loss: 0.3613 - accuracy: 0.8696 - val_loss: 0.4194 - val_accuracy: 0.8535\n",
            "Epoch 20/40\n",
            "1875/1875 [==============================] - 5s 3ms/step - loss: 0.3600 - accuracy: 0.8697 - val_loss: 0.4290 - val_accuracy: 0.8498\n",
            "Epoch 21/40\n",
            "1875/1875 [==============================] - 5s 3ms/step - loss: 0.3573 - accuracy: 0.8698 - val_loss: 0.4376 - val_accuracy: 0.8455\n",
            "Epoch 22/40\n",
            "1875/1875 [==============================] - 5s 3ms/step - loss: 0.3577 - accuracy: 0.8704 - val_loss: 0.4223 - val_accuracy: 0.8519\n",
            "Epoch 23/40\n",
            "1875/1875 [==============================] - 5s 3ms/step - loss: 0.3545 - accuracy: 0.8713 - val_loss: 0.4291 - val_accuracy: 0.8488\n",
            "Epoch 24/40\n",
            "1875/1875 [==============================] - 5s 3ms/step - loss: 0.3532 - accuracy: 0.8703 - val_loss: 0.4418 - val_accuracy: 0.8459\n",
            "Epoch 25/40\n",
            "1875/1875 [==============================] - 5s 3ms/step - loss: 0.3539 - accuracy: 0.8696 - val_loss: 0.4482 - val_accuracy: 0.8431\n",
            "Epoch 26/40\n",
            "1875/1875 [==============================] - 5s 3ms/step - loss: 0.3494 - accuracy: 0.8716 - val_loss: 0.4353 - val_accuracy: 0.8487\n",
            "Epoch 27/40\n",
            "1875/1875 [==============================] - 5s 3ms/step - loss: 0.3491 - accuracy: 0.8720 - val_loss: 0.4376 - val_accuracy: 0.8476\n",
            "Epoch 28/40\n",
            "1875/1875 [==============================] - 5s 3ms/step - loss: 0.3485 - accuracy: 0.8706 - val_loss: 0.4416 - val_accuracy: 0.8489\n",
            "Epoch 29/40\n",
            "1875/1875 [==============================] - 5s 3ms/step - loss: 0.3473 - accuracy: 0.8723 - val_loss: 0.4449 - val_accuracy: 0.8422\n",
            "Epoch 30/40\n",
            "1875/1875 [==============================] - 5s 3ms/step - loss: 0.3475 - accuracy: 0.8724 - val_loss: 0.4476 - val_accuracy: 0.8499\n",
            "Epoch 31/40\n",
            "1875/1875 [==============================] - 5s 3ms/step - loss: 0.3419 - accuracy: 0.8734 - val_loss: 0.4370 - val_accuracy: 0.8495\n",
            "Epoch 32/40\n",
            "1875/1875 [==============================] - 5s 3ms/step - loss: 0.3454 - accuracy: 0.8723 - val_loss: 0.4592 - val_accuracy: 0.8424\n",
            "Epoch 33/40\n",
            "1875/1875 [==============================] - 5s 3ms/step - loss: 0.3438 - accuracy: 0.8747 - val_loss: 0.4555 - val_accuracy: 0.8455\n",
            "Epoch 34/40\n",
            "1875/1875 [==============================] - 5s 3ms/step - loss: 0.3415 - accuracy: 0.8745 - val_loss: 0.4406 - val_accuracy: 0.8499\n",
            "Epoch 35/40\n",
            "1875/1875 [==============================] - 5s 3ms/step - loss: 0.3391 - accuracy: 0.8747 - val_loss: 0.4672 - val_accuracy: 0.8403\n",
            "Epoch 36/40\n",
            "1875/1875 [==============================] - 5s 3ms/step - loss: 0.3399 - accuracy: 0.8748 - val_loss: 0.4443 - val_accuracy: 0.8483\n",
            "Epoch 37/40\n",
            "1875/1875 [==============================] - 5s 3ms/step - loss: 0.3400 - accuracy: 0.8753 - val_loss: 0.4424 - val_accuracy: 0.8505\n",
            "Epoch 38/40\n",
            "1875/1875 [==============================] - 5s 3ms/step - loss: 0.3389 - accuracy: 0.8754 - val_loss: 0.4475 - val_accuracy: 0.8469\n",
            "Epoch 39/40\n",
            "1875/1875 [==============================] - 5s 3ms/step - loss: 0.3392 - accuracy: 0.8758 - val_loss: 0.4599 - val_accuracy: 0.8419\n",
            "Epoch 40/40\n",
            "1875/1875 [==============================] - 5s 3ms/step - loss: 0.3385 - accuracy: 0.8751 - val_loss: 0.4362 - val_accuracy: 0.8537\n"
          ]
        }
      ]
    },
    {
      "cell_type": "code",
      "source": [
        "#Lets plot the result.\n",
        "pd.DataFrame(ideal_lr_histroy.history).plot(title='Optimize learing rate ')"
      ],
      "metadata": {
        "colab": {
          "base_uri": "https://localhost:8080/",
          "height": 298
        },
        "id": "1qTAktQfGmyL",
        "outputId": "abdd44b0-e8aa-43f7-f6b1-111911380103"
      },
      "execution_count": 63,
      "outputs": [
        {
          "output_type": "execute_result",
          "data": {
            "text/plain": [
              "<matplotlib.axes._subplots.AxesSubplot at 0x7f272e3f3290>"
            ]
          },
          "metadata": {},
          "execution_count": 63
        },
        {
          "output_type": "display_data",
          "data": {
            "image/png": "[encoded data removed]",
            "text/plain": [
              "<Figure size 432x288 with 1 Axes>"
            ]
          },
          "metadata": {
            "needs_background": "light"
          }
        }
      ]
    }
  ]
}