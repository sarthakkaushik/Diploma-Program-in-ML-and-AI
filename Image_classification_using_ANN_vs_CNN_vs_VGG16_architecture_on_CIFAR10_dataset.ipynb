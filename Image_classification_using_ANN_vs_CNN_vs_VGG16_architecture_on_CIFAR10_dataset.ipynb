{
  "nbformat": 4,
  "nbformat_minor": 0,
  "metadata": {
    "colab": {
      "name": "Image classification using ANN vs CNN vs VGG16 architecture on CIFAR10 dataset.ipynb",
      "provenance": [],
      "collapsed_sections": [
        "rTFO8pFeSl0f"
      ],
      "authorship_tag": "ABX9TyOOTOLNNIKvlNhQ/PHEyR/X",
      "include_colab_link": true
    },
    "kernelspec": {
      "name": "python3",
      "display_name": "Python 3"
    },
    "language_info": {
      "name": "python"
    },
    "accelerator": "GPU"
  },
  "cells": [
    {
      "cell_type": "markdown",
      "metadata": {
        "id": "view-in-github",
        "colab_type": "text"
      },
      "source": [
        "<a href=\"https://colab.research.google.com/github/sarthakkaushik/Diploma-Program-in-ML-and-AI/blob/main/Image_classification_using_ANN_vs_CNN_vs_VGG16_architecture_on_CIFAR10_dataset.ipynb\" target=\"_parent\"><img src=\"https://colab.research.google.com/assets/colab-badge.svg\" alt=\"Open In Colab\"/></a>"
      ]
    },
    {
      "cell_type": "code",
      "metadata": {
        "id": "CGXtQxx_Px1-"
      },
      "source": [
        "import tensorflow as tf\n",
        "from tensorflow.keras import datasets, layers, models\n",
        "from keras.layers.convolutional import Conv2D, MaxPooling2D\n",
        "from keras.models import Sequential\n",
        "from keras.layers import Dense, Activation, Flatten,Dropout\n",
        "import matplotlib.pyplot as plt\n",
        "import numpy as np\n",
        "import tensorflow as tf\n",
        "from tensorflow import keras"
      ],
      "execution_count": 46,
      "outputs": []
    },
    {
      "cell_type": "markdown",
      "metadata": {
        "id": "L7kVGgG0QUcz"
      },
      "source": [
        "#Loading the data set"
      ]
    },
    {
      "cell_type": "code",
      "metadata": {
        "colab": {
          "base_uri": "https://localhost:8080/"
        },
        "id": "pQvIgZ2oQj0M",
        "outputId": "ab379112-8172-4233-9472-73ea1b4ae17a"
      },
      "source": [
        "(X_train,y_train),(X_test,y_test)=datasets.cifar10.load_data()"
      ],
      "execution_count": 2,
      "outputs": [
        {
          "output_type": "stream",
          "name": "stdout",
          "text": [
            "Downloading data from https://www.cs.toronto.edu/~kriz/cifar-10-python.tar.gz\n",
            "170500096/170498071 [==============================] - 6s 0us/step\n",
            "170508288/170498071 [==============================] - 6s 0us/step\n"
          ]
        }
      ]
    },
    {
      "cell_type": "code",
      "metadata": {
        "colab": {
          "base_uri": "https://localhost:8080/"
        },
        "id": "lhxsbzUnQyUA",
        "outputId": "7beb31d8-2811-4632-d8cf-34f1118c2400"
      },
      "source": [
        " print('X_train shape',X_train.shape)\n",
        "print('X_test shape',X_test.shape)\n",
        " "
      ],
      "execution_count": 3,
      "outputs": [
        {
          "output_type": "stream",
          "name": "stdout",
          "text": [
            "X_train shape (50000, 32, 32, 3)\n",
            "X_test shape (10000, 32, 32, 3)\n"
          ]
        }
      ]
    },
    {
      "cell_type": "code",
      "metadata": {
        "colab": {
          "base_uri": "https://localhost:8080/"
        },
        "id": "EwWQ59T_RE6A",
        "outputId": "0d5e7399-5d13-4cc1-a6cd-ea713daeab61"
      },
      "source": [
        " print('y_train shape',y_train.shape)\n",
        " print('y_test shape',y_test.shape)\n",
        " "
      ],
      "execution_count": 4,
      "outputs": [
        {
          "output_type": "stream",
          "name": "stdout",
          "text": [
            "y_train shape (50000, 1)\n",
            "y_test shape (10000, 1)\n"
          ]
        }
      ]
    },
    {
      "cell_type": "code",
      "metadata": {
        "colab": {
          "base_uri": "https://localhost:8080/"
        },
        "id": "4vWhuX6eRMYb",
        "outputId": "f33c119b-b765-4d02-fb9d-7fae0a7b5dad"
      },
      "source": [
        "y_train[:5] # its a 2D array, for classification it would be easy to operate on 1d array, hence we will convert it in 1D array"
      ],
      "execution_count": 5,
      "outputs": [
        {
          "output_type": "execute_result",
          "data": {
            "text/plain": [
              "array([[6],\n",
              "       [9],\n",
              "       [9],\n",
              "       [4],\n",
              "       [1]], dtype=uint8)"
            ]
          },
          "metadata": {},
          "execution_count": 5
        }
      ]
    },
    {
      "cell_type": "code",
      "metadata": {
        "colab": {
          "base_uri": "https://localhost:8080/"
        },
        "id": "PzJJGN9YRoRs",
        "outputId": "bc3af14f-94ba-49ad-ede8-aa1e5e3545f4"
      },
      "source": [
        "y_train=y_train.reshape(-1,) #-1 beacuse if we dont want to change the 1st dimension, 2nd dim we want to flatten it hence we will leave it blank\n",
        "print(y_train[:5])\n",
        "y_test=y_test.reshape(-1,)\n",
        "print(y_test[:5])"
      ],
      "execution_count": 6,
      "outputs": [
        {
          "output_type": "stream",
          "name": "stdout",
          "text": [
            "[6 9 9 4 1]\n",
            "[3 8 8 0 6]\n"
          ]
        }
      ]
    },
    {
      "cell_type": "code",
      "metadata": {
        "id": "A2QYtFl1SjoL"
      },
      "source": [
        "classes = [\"airplane\",\"automobile\",\"bird\",\"cat\",\"deer\",\"dog\",\"frog\",\"horse\",\"ship\",\"truck\"]"
      ],
      "execution_count": 7,
      "outputs": []
    },
    {
      "cell_type": "markdown",
      "metadata": {
        "id": "rTFO8pFeSl0f"
      },
      "source": [
        "#Plotting some of the images"
      ]
    },
    {
      "cell_type": "code",
      "metadata": {
        "id": "olQZLUsUSpFL"
      },
      "source": [
        "def plotsample(X,y, index):\n",
        "  plt.figure(figsize=(15,2))\n",
        "  plt.imshow(X[index])\n",
        "  plt.xlabel(classes[y[index]])"
      ],
      "execution_count": 8,
      "outputs": []
    },
    {
      "cell_type": "code",
      "metadata": {
        "colab": {
          "base_uri": "https://localhost:8080/",
          "height": 485
        },
        "id": "uR-B_oH9Skhh",
        "outputId": "59a03294-9003-4b44-ca23-5383bf5002f7"
      },
      "source": [
        "plotsample(X_train,y_train,0)\n",
        "plotsample(X_train,y_train,5)\n",
        "plotsample(X_train,y_train,10)\n"
      ],
      "execution_count": 9,
      "outputs": [
        {
          "output_type": "display_data",
          "data": {
            "image/png": "[encoded data removed]",
            "text/plain": [
              "<Figure size 1080x144 with 1 Axes>"
            ]
          },
          "metadata": {
            "needs_background": "light"
          }
        },
        {
          "output_type": "display_data",
          "data": {
            "image/png": "[encoded data removed]",
            "text/plain": [
              "<Figure size 1080x144 with 1 Axes>"
            ]
          },
          "metadata": {
            "needs_background": "light"
          }
        },
        {
          "output_type": "display_data",
          "data": {
            "image/png": "[encoded data removed]",
            "text/plain": [
              "<Figure size 1080x144 with 1 Axes>"
            ]
          },
          "metadata": {
            "needs_background": "light"
          }
        }
      ]
    },
    {
      "cell_type": "markdown",
      "metadata": {
        "id": "DQHUShxvTZ6e"
      },
      "source": [
        "Normalize the images to a number from 0 to 1. Image has 3 channels (R,G,B) and each value in the channel can range from 0 to 255. Hence to normalize in 0-->1 range, we need to divide it by 255"
      ]
    },
    {
      "cell_type": "markdown",
      "metadata": {
        "id": "aNwaDcIHTh5_"
      },
      "source": [
        "**Normalizing the training data**"
      ]
    },
    {
      "cell_type": "code",
      "metadata": {
        "id": "s3nqOHtgTrEY"
      },
      "source": [
        "X_train=X_train/255.0\n",
        "X_test=X_test/255.0"
      ],
      "execution_count": 10,
      "outputs": []
    },
    {
      "cell_type": "markdown",
      "metadata": {
        "id": "KB22aERMT2ZI"
      },
      "source": [
        "**Case I:** Build artificial Neural Netwok"
      ]
    },
    {
      "cell_type": "code",
      "metadata": {
        "id": "UFex6uQHT-TK"
      },
      "source": [
        "ann = models.Sequential([\n",
        "        layers.Flatten(input_shape=(32,32,3)),\n",
        "        layers.Dense(1000, activation='relu'),\n",
        "        layers.Dense(500, activation='relu'),\n",
        "        layers.Dense(10, activation='softmax')    \n",
        "    ])\n"
      ],
      "execution_count": 11,
      "outputs": []
    },
    {
      "cell_type": "code",
      "metadata": {
        "id": "NzMEftPbUWo2"
      },
      "source": [
        "ann.compile(optimizer='adam',\n",
        "            loss='sparse_categorical_crossentropy',\n",
        "            metrics=['accuracy']\n",
        "            )"
      ],
      "execution_count": 12,
      "outputs": []
    },
    {
      "cell_type": "code",
      "metadata": {
        "colab": {
          "base_uri": "https://localhost:8080/"
        },
        "id": "ZFciEKj_UKi3",
        "outputId": "3d2c6caa-f1bd-4ef6-d2ef-a0e541a4662f"
      },
      "source": [
        "ann.fit(X_train,y_train,epochs=10,verbose=2,validation_data=(X_test,y_test))"
      ],
      "execution_count": 13,
      "outputs": [
        {
          "output_type": "stream",
          "name": "stdout",
          "text": [
            "Epoch 1/10\n",
            "1563/1563 - 10s - loss: 1.8612 - accuracy: 0.3278 - val_loss: 1.6914 - val_accuracy: 0.3976 - 10s/epoch - 6ms/step\n",
            "Epoch 2/10\n",
            "1563/1563 - 7s - loss: 1.6493 - accuracy: 0.4056 - val_loss: 1.6856 - val_accuracy: 0.3938 - 7s/epoch - 4ms/step\n",
            "Epoch 3/10\n",
            "1563/1563 - 7s - loss: 1.5752 - accuracy: 0.4375 - val_loss: 1.5820 - val_accuracy: 0.4308 - 7s/epoch - 5ms/step\n",
            "Epoch 4/10\n",
            "1563/1563 - 7s - loss: 1.5271 - accuracy: 0.4550 - val_loss: 1.5119 - val_accuracy: 0.4576 - 7s/epoch - 5ms/step\n",
            "Epoch 5/10\n",
            "1563/1563 - 7s - loss: 1.4878 - accuracy: 0.4682 - val_loss: 1.5079 - val_accuracy: 0.4567 - 7s/epoch - 5ms/step\n",
            "Epoch 6/10\n",
            "1563/1563 - 7s - loss: 1.4550 - accuracy: 0.4798 - val_loss: 1.4696 - val_accuracy: 0.4767 - 7s/epoch - 4ms/step\n",
            "Epoch 7/10\n",
            "1563/1563 - 7s - loss: 1.4249 - accuracy: 0.4911 - val_loss: 1.4694 - val_accuracy: 0.4834 - 7s/epoch - 4ms/step\n",
            "Epoch 8/10\n",
            "1563/1563 - 7s - loss: 1.4090 - accuracy: 0.4950 - val_loss: 1.4645 - val_accuracy: 0.4806 - 7s/epoch - 5ms/step\n",
            "Epoch 9/10\n",
            "1563/1563 - 7s - loss: 1.3856 - accuracy: 0.5041 - val_loss: 1.4753 - val_accuracy: 0.4778 - 7s/epoch - 4ms/step\n",
            "Epoch 10/10\n",
            "1563/1563 - 7s - loss: 1.3698 - accuracy: 0.5118 - val_loss: 1.4555 - val_accuracy: 0.4911 - 7s/epoch - 5ms/step\n"
          ]
        },
        {
          "output_type": "execute_result",
          "data": {
            "text/plain": [
              "<keras.callbacks.History at 0x7fd4a028d290>"
            ]
          },
          "metadata": {},
          "execution_count": 13
        }
      ]
    },
    {
      "cell_type": "code",
      "metadata": {
        "colab": {
          "base_uri": "https://localhost:8080/"
        },
        "id": "69_6CTFYZo9L",
        "outputId": "9b75f327-e581-49ac-aae2-4630331a82df"
      },
      "source": [
        "score=ann.evaluate(X_test,y_test,verbose=0)\n",
        "print('Test Loss', score[0])\n",
        "print('Train Loss', score[1])\n"
      ],
      "execution_count": 14,
      "outputs": [
        {
          "output_type": "stream",
          "name": "stdout",
          "text": [
            "Test Loss 1.455464482307434\n",
            "Train Loss 0.491100013256073\n"
          ]
        }
      ]
    },
    {
      "cell_type": "markdown",
      "metadata": {
        "id": "2ZW4EmwBW2BK"
      },
      "source": [
        "**You can see that at the end of 10 epochs, accuracy is at around 47%**"
      ]
    },
    {
      "cell_type": "code",
      "metadata": {
        "colab": {
          "base_uri": "https://localhost:8080/"
        },
        "id": "9PHErMy4T1Oj",
        "outputId": "9252a2ab-d122-4428-a623-a6ba70f45554"
      },
      "source": [
        "from sklearn.metrics import confusion_matrix, classification_report\n",
        "import numpy as np\n",
        "y_pred=ann.predict(X_test)\n",
        "y_pred_classes=[np.argmax(elements) for elements in y_pred]\n",
        "\n",
        "print('Classification Report: \\n', classification_report(y_test,y_pred_classes))\n"
      ],
      "execution_count": 15,
      "outputs": [
        {
          "output_type": "stream",
          "name": "stdout",
          "text": [
            "Classification Report: \n",
            "               precision    recall  f1-score   support\n",
            "\n",
            "           0       0.53      0.59      0.56      1000\n",
            "           1       0.59      0.65      0.62      1000\n",
            "           2       0.36      0.39      0.38      1000\n",
            "           3       0.34      0.34      0.34      1000\n",
            "           4       0.47      0.32      0.38      1000\n",
            "           5       0.39      0.41      0.40      1000\n",
            "           6       0.55      0.49      0.52      1000\n",
            "           7       0.46      0.64      0.54      1000\n",
            "           8       0.68      0.56      0.61      1000\n",
            "           9       0.59      0.52      0.55      1000\n",
            "\n",
            "    accuracy                           0.49     10000\n",
            "   macro avg       0.50      0.49      0.49     10000\n",
            "weighted avg       0.50      0.49      0.49     10000\n",
            "\n"
          ]
        }
      ]
    },
    {
      "cell_type": "markdown",
      "metadata": {
        "id": "_EDv-WvMaip0"
      },
      "source": [
        "**Case-2 :** Lets see the CNN performance on Image data"
      ]
    },
    {
      "cell_type": "code",
      "metadata": {
        "id": "RH5dxVI0aqcY"
      },
      "source": [
        "cnn=models.Sequential([\n",
        "                       \n",
        "                       layers.Conv2D(filters=32,kernel_size=(3,3),activation='relu', input_shape=(32,32,3)),\n",
        "                       layers.MaxPooling2D((2,2)),\n",
        "\n",
        "                       layers.Conv2D(filters=32,kernel_size=(3,3),activation='relu', input_shape=(32,32,3)),\n",
        "                       layers.MaxPooling2D((2,2)),\n",
        "                       layers.Dropout(0.25),\n",
        "\n",
        "                       layers.Flatten(),\n",
        "                       layers.Dense(64,activation='relu'),\n",
        "                       layers.Dense(10, activation='softmax')\n",
        "])"
      ],
      "execution_count": 16,
      "outputs": []
    },
    {
      "cell_type": "code",
      "metadata": {
        "id": "6UDCpOwATljr"
      },
      "source": [
        "cnn.compile(optimizer='adam',\n",
        "            loss='sparse_categorical_crossentropy',\n",
        "            metrics=['accuracy']\n",
        "            )"
      ],
      "execution_count": 17,
      "outputs": []
    },
    {
      "cell_type": "code",
      "metadata": {
        "colab": {
          "base_uri": "https://localhost:8080/"
        },
        "id": "4WYNsZ6LTalB",
        "outputId": "201b7c94-e8c6-477a-a747-90f76ed10cdb"
      },
      "source": [
        "cnn.fit(X_train,y_train,epochs=10,verbose=2,validation_data=(X_test,y_test))"
      ],
      "execution_count": 18,
      "outputs": [
        {
          "output_type": "stream",
          "name": "stdout",
          "text": [
            "Epoch 1/10\n",
            "1563/1563 - 16s - loss: 1.5261 - accuracy: 0.4517 - val_loss: 1.2524 - val_accuracy: 0.5526 - 16s/epoch - 10ms/step\n",
            "Epoch 2/10\n",
            "1563/1563 - 8s - loss: 1.2223 - accuracy: 0.5668 - val_loss: 1.1124 - val_accuracy: 0.6109 - 8s/epoch - 5ms/step\n",
            "Epoch 3/10\n",
            "1563/1563 - 7s - loss: 1.1142 - accuracy: 0.6106 - val_loss: 1.0667 - val_accuracy: 0.6272 - 7s/epoch - 5ms/step\n",
            "Epoch 4/10\n",
            "1563/1563 - 8s - loss: 1.0429 - accuracy: 0.6355 - val_loss: 1.0005 - val_accuracy: 0.6527 - 8s/epoch - 5ms/step\n",
            "Epoch 5/10\n",
            "1563/1563 - 8s - loss: 0.9882 - accuracy: 0.6563 - val_loss: 0.9782 - val_accuracy: 0.6596 - 8s/epoch - 5ms/step\n",
            "Epoch 6/10\n",
            "1563/1563 - 8s - loss: 0.9429 - accuracy: 0.6691 - val_loss: 0.9505 - val_accuracy: 0.6687 - 8s/epoch - 5ms/step\n",
            "Epoch 7/10\n",
            "1563/1563 - 8s - loss: 0.9059 - accuracy: 0.6817 - val_loss: 0.9234 - val_accuracy: 0.6790 - 8s/epoch - 5ms/step\n",
            "Epoch 8/10\n",
            "1563/1563 - 8s - loss: 0.8746 - accuracy: 0.6932 - val_loss: 0.9096 - val_accuracy: 0.6796 - 8s/epoch - 5ms/step\n",
            "Epoch 9/10\n",
            "1563/1563 - 8s - loss: 0.8430 - accuracy: 0.7030 - val_loss: 0.8812 - val_accuracy: 0.6948 - 8s/epoch - 5ms/step\n",
            "Epoch 10/10\n",
            "1563/1563 - 8s - loss: 0.8207 - accuracy: 0.7146 - val_loss: 0.8829 - val_accuracy: 0.6953 - 8s/epoch - 5ms/step\n"
          ]
        },
        {
          "output_type": "execute_result",
          "data": {
            "text/plain": [
              "<keras.callbacks.History at 0x7fd434f89350>"
            ]
          },
          "metadata": {},
          "execution_count": 18
        }
      ]
    },
    {
      "cell_type": "code",
      "metadata": {
        "colab": {
          "base_uri": "https://localhost:8080/"
        },
        "id": "CSnMTYoifaBB",
        "outputId": "d7df7941-8ba0-45c2-a835-77010f80bd30"
      },
      "source": [
        "score=ann.evaluate(X_test,y_test,verbose=0)\n",
        "print('Test Loss', score[0])\n",
        "print('Train Loss', score[1])\n"
      ],
      "execution_count": 19,
      "outputs": [
        {
          "output_type": "stream",
          "name": "stdout",
          "text": [
            "Test Loss 1.455464482307434\n",
            "Train Loss 0.491100013256073\n"
          ]
        }
      ]
    },
    {
      "cell_type": "code",
      "metadata": {
        "colab": {
          "base_uri": "https://localhost:8080/"
        },
        "id": "Pzg0_IqufhKx",
        "outputId": "5c626f8b-6469-4806-97dc-e0973373bb1e"
      },
      "source": [
        "y_pred=ann.predict(X_test)\n",
        "y_pred_classes=[np.argmax(elements) for elements in y_pred]\n",
        "\n",
        "print('Classification Report: \\n', classification_report(y_test,y_pred_classes))"
      ],
      "execution_count": 20,
      "outputs": [
        {
          "output_type": "stream",
          "name": "stdout",
          "text": [
            "Classification Report: \n",
            "               precision    recall  f1-score   support\n",
            "\n",
            "           0       0.53      0.59      0.56      1000\n",
            "           1       0.59      0.65      0.62      1000\n",
            "           2       0.36      0.39      0.38      1000\n",
            "           3       0.34      0.34      0.34      1000\n",
            "           4       0.47      0.32      0.38      1000\n",
            "           5       0.39      0.41      0.40      1000\n",
            "           6       0.55      0.49      0.52      1000\n",
            "           7       0.46      0.64      0.54      1000\n",
            "           8       0.68      0.56      0.61      1000\n",
            "           9       0.59      0.52      0.55      1000\n",
            "\n",
            "    accuracy                           0.49     10000\n",
            "   macro avg       0.50      0.49      0.49     10000\n",
            "weighted avg       0.50      0.49      0.49     10000\n",
            "\n"
          ]
        }
      ]
    },
    {
      "cell_type": "markdown",
      "metadata": {
        "id": "sL9XfEWhg-8F"
      },
      "source": [
        "#Using Tranfer Learning : VGG16"
      ]
    },
    {
      "cell_type": "code",
      "metadata": {
        "colab": {
          "base_uri": "https://localhost:8080/",
          "height": 1000
        },
        "id": "5G2nt1f-fiF2",
        "outputId": "2cce0ffe-e6e1-4355-cce7-e0dbc4cbebaa"
      },
      "source": [
        "from keras.applications.vgg16 import VGG16\n",
        "from keras.utils.vis_utils import  plot_model\n",
        "model = VGG16()\n",
        "plot_model(model)"
      ],
      "execution_count": 34,
      "outputs": [
        {
          "output_type": "execute_result",
          "data": {
            "image/png": "[encoded data removed]",
            "text/plain": [
              "<IPython.core.display.Image object>"
            ]
          },
          "metadata": {},
          "execution_count": 34
        }
      ]
    },
    {
      "cell_type": "code",
      "metadata": {
        "colab": {
          "base_uri": "https://localhost:8080/"
        },
        "id": "30J7ZTgVj1j6",
        "outputId": "41dcd330-5b9a-4c95-ba87-3f7776cd3159"
      },
      "source": [
        "# VGG-16 model summary\n",
        "model.summary()"
      ],
      "execution_count": 35,
      "outputs": [
        {
          "output_type": "stream",
          "name": "stdout",
          "text": [
            "Model: \"vgg16\"\n",
            "_________________________________________________________________\n",
            " Layer (type)                Output Shape              Param #   \n",
            "=================================================================\n",
            " input_3 (InputLayer)        [(None, 224, 224, 3)]     0         \n",
            "                                                                 \n",
            " block1_conv1 (Conv2D)       (None, 224, 224, 64)      1792      \n",
            "                                                                 \n",
            " block1_conv2 (Conv2D)       (None, 224, 224, 64)      36928     \n",
            "                                                                 \n",
            " block1_pool (MaxPooling2D)  (None, 112, 112, 64)      0         \n",
            "                                                                 \n",
            " block2_conv1 (Conv2D)       (None, 112, 112, 128)     73856     \n",
            "                                                                 \n",
            " block2_conv2 (Conv2D)       (None, 112, 112, 128)     147584    \n",
            "                                                                 \n",
            " block2_pool (MaxPooling2D)  (None, 56, 56, 128)       0         \n",
            "                                                                 \n",
            " block3_conv1 (Conv2D)       (None, 56, 56, 256)       295168    \n",
            "                                                                 \n",
            " block3_conv2 (Conv2D)       (None, 56, 56, 256)       590080    \n",
            "                                                                 \n",
            " block3_conv3 (Conv2D)       (None, 56, 56, 256)       590080    \n",
            "                                                                 \n",
            " block3_pool (MaxPooling2D)  (None, 28, 28, 256)       0         \n",
            "                                                                 \n",
            " block4_conv1 (Conv2D)       (None, 28, 28, 512)       1180160   \n",
            "                                                                 \n",
            " block4_conv2 (Conv2D)       (None, 28, 28, 512)       2359808   \n",
            "                                                                 \n",
            " block4_conv3 (Conv2D)       (None, 28, 28, 512)       2359808   \n",
            "                                                                 \n",
            " block4_pool (MaxPooling2D)  (None, 14, 14, 512)       0         \n",
            "                                                                 \n",
            " block5_conv1 (Conv2D)       (None, 14, 14, 512)       2359808   \n",
            "                                                                 \n",
            " block5_conv2 (Conv2D)       (None, 14, 14, 512)       2359808   \n",
            "                                                                 \n",
            " block5_conv3 (Conv2D)       (None, 14, 14, 512)       2359808   \n",
            "                                                                 \n",
            " block5_pool (MaxPooling2D)  (None, 7, 7, 512)         0         \n",
            "                                                                 \n",
            " flatten (Flatten)           (None, 25088)             0         \n",
            "                                                                 \n",
            " fc1 (Dense)                 (None, 4096)              102764544 \n",
            "                                                                 \n",
            " fc2 (Dense)                 (None, 4096)              16781312  \n",
            "                                                                 \n",
            " predictions (Dense)         (None, 1000)              4097000   \n",
            "                                                                 \n",
            "=================================================================\n",
            "Total params: 138,357,544\n",
            "Trainable params: 138,357,544\n",
            "Non-trainable params: 0\n",
            "_________________________________________________________________\n"
          ]
        }
      ]
    },
    {
      "cell_type": "markdown",
      "metadata": {
        "id": "NsMbxds6kKsb"
      },
      "source": [
        "The following code section will cut the VGG model after the final convolutional layer:"
      ]
    },
    {
      "cell_type": "code",
      "metadata": {
        "id": "AT2UCNAnkFIv"
      },
      "source": [
        "base_model_VGG16=VGG16(weights='imagenet',include_top=False,input_shape=(32,32,3))"
      ],
      "execution_count": 36,
      "outputs": []
    },
    {
      "cell_type": "code",
      "metadata": {
        "colab": {
          "base_uri": "https://localhost:8080/"
        },
        "id": "w1LTlvFbkwwR",
        "outputId": "61880503-5a2c-4d34-8ff3-e9394a7b9a16"
      },
      "source": [
        "base_model_VGG16.summary()"
      ],
      "execution_count": 37,
      "outputs": [
        {
          "output_type": "stream",
          "name": "stdout",
          "text": [
            "Model: \"vgg16\"\n",
            "_________________________________________________________________\n",
            " Layer (type)                Output Shape              Param #   \n",
            "=================================================================\n",
            " input_4 (InputLayer)        [(None, 32, 32, 3)]       0         \n",
            "                                                                 \n",
            " block1_conv1 (Conv2D)       (None, 32, 32, 64)        1792      \n",
            "                                                                 \n",
            " block1_conv2 (Conv2D)       (None, 32, 32, 64)        36928     \n",
            "                                                                 \n",
            " block1_pool (MaxPooling2D)  (None, 16, 16, 64)        0         \n",
            "                                                                 \n",
            " block2_conv1 (Conv2D)       (None, 16, 16, 128)       73856     \n",
            "                                                                 \n",
            " block2_conv2 (Conv2D)       (None, 16, 16, 128)       147584    \n",
            "                                                                 \n",
            " block2_pool (MaxPooling2D)  (None, 8, 8, 128)         0         \n",
            "                                                                 \n",
            " block3_conv1 (Conv2D)       (None, 8, 8, 256)         295168    \n",
            "                                                                 \n",
            " block3_conv2 (Conv2D)       (None, 8, 8, 256)         590080    \n",
            "                                                                 \n",
            " block3_conv3 (Conv2D)       (None, 8, 8, 256)         590080    \n",
            "                                                                 \n",
            " block3_pool (MaxPooling2D)  (None, 4, 4, 256)         0         \n",
            "                                                                 \n",
            " block4_conv1 (Conv2D)       (None, 4, 4, 512)         1180160   \n",
            "                                                                 \n",
            " block4_conv2 (Conv2D)       (None, 4, 4, 512)         2359808   \n",
            "                                                                 \n",
            " block4_conv3 (Conv2D)       (None, 4, 4, 512)         2359808   \n",
            "                                                                 \n",
            " block4_pool (MaxPooling2D)  (None, 2, 2, 512)         0         \n",
            "                                                                 \n",
            " block5_conv1 (Conv2D)       (None, 2, 2, 512)         2359808   \n",
            "                                                                 \n",
            " block5_conv2 (Conv2D)       (None, 2, 2, 512)         2359808   \n",
            "                                                                 \n",
            " block5_conv3 (Conv2D)       (None, 2, 2, 512)         2359808   \n",
            "                                                                 \n",
            " block5_pool (MaxPooling2D)  (None, 1, 1, 512)         0         \n",
            "                                                                 \n",
            "=================================================================\n",
            "Total params: 14,714,688\n",
            "Trainable params: 14,714,688\n",
            "Non-trainable params: 0\n",
            "_________________________________________________________________\n"
          ]
        }
      ]
    },
    {
      "cell_type": "code",
      "metadata": {
        "id": "3ewq7tU53bDg"
      },
      "source": [
        "#Dont train the the exisiting  weights\n",
        "for layers in base_model_VGG16.layers:\n",
        "\n",
        "  layers.trainable=False"
      ],
      "execution_count": 38,
      "outputs": []
    },
    {
      "cell_type": "code",
      "metadata": {
        "colab": {
          "base_uri": "https://localhost:8080/"
        },
        "id": "1mwwHc52lYqy",
        "outputId": "2bf8573f-38ab-432e-8a74-a7d5c901adf2"
      },
      "source": [
        "#create vectore representation for our data using VGG16\n",
        "X_train_vgg_output=base_model_VGG16.predict(X_train,verbose=2)\n",
        "X_test_vgg_output=base_model_VGG16.predict(X_test,verbose=2)\n"
      ],
      "execution_count": 39,
      "outputs": [
        {
          "output_type": "stream",
          "name": "stdout",
          "text": [
            "1563/1563 - 23s - 23s/epoch - 14ms/step\n",
            "313/313 - 5s - 5s/epoch - 15ms/step\n"
          ]
        }
      ]
    },
    {
      "cell_type": "code",
      "metadata": {
        "colab": {
          "base_uri": "https://localhost:8080/"
        },
        "id": "yYvAkF29oefx",
        "outputId": "a13a7021-0b6a-4866-f58c-60ae2cf03348"
      },
      "source": [
        "print ('shape of X_train_vegg_output: ',X_train_vgg_output.shape)\n",
        "print ('shape of X_test_vegg_output: ',X_test_vgg_output.shape)"
      ],
      "execution_count": 40,
      "outputs": [
        {
          "output_type": "stream",
          "name": "stdout",
          "text": [
            "shape of X_train_vegg_output:  (50000, 1, 1, 512)\n",
            "shape of X_test_vegg_output:  (10000, 1, 1, 512)\n"
          ]
        }
      ]
    },
    {
      "cell_type": "code",
      "metadata": {
        "colab": {
          "base_uri": "https://localhost:8080/"
        },
        "id": "0LV-ECDfpUig",
        "outputId": "7bae89f0-abce-4fc6-aec2-a856260ecaed"
      },
      "source": [
        "X_train[0].shape"
      ],
      "execution_count": 41,
      "outputs": [
        {
          "output_type": "execute_result",
          "data": {
            "text/plain": [
              "(32, 32, 3)"
            ]
          },
          "metadata": {},
          "execution_count": 41
        }
      ]
    },
    {
      "cell_type": "code",
      "metadata": {
        "colab": {
          "base_uri": "https://localhost:8080/"
        },
        "id": "nFt6a-71pac0",
        "outputId": "96db2a98-46ac-4025-be1b-2d8a1c5315f0"
      },
      "source": [
        "X_test_vgg_output[0].shape"
      ],
      "execution_count": 42,
      "outputs": [
        {
          "output_type": "execute_result",
          "data": {
            "text/plain": [
              "(1, 1, 512)"
            ]
          },
          "metadata": {},
          "execution_count": 42
        }
      ]
    },
    {
      "cell_type": "code",
      "metadata": {
        "colab": {
          "base_uri": "https://localhost:8080/"
        },
        "id": "xpKozxGjmTTG",
        "outputId": "b7059653-224c-4c02-fc17-027bd3f92fc9"
      },
      "source": [
        "#Flatten the output\n",
        "X_train_new_1 = np.reshape(X_train_vgg_output,(50000,1*1*512))\n",
        "X_test_new_1=np.reshape(X_test_vgg_output,(10000,512))\n",
        "print('New shape train:', X_train_new_1.shape)\n",
        "print('New_shape_test',X_test_new_1.shape)\n",
        "\n",
        "\n"
      ],
      "execution_count": 43,
      "outputs": [
        {
          "output_type": "stream",
          "name": "stdout",
          "text": [
            "New shape train: (50000, 512)\n",
            "New_shape_test (10000, 512)\n"
          ]
        }
      ]
    },
    {
      "cell_type": "code",
      "metadata": {
        "id": "iMia-hl6B-aY"
      },
      "source": [
        "#Lets train a new ann model on our output feature form VGG16\n",
        "ann_new_model2 = models.Sequential([\n",
        "        # layers.Flatten(input_shape=(32,32,3)),\n",
        "        keras.layers.Dense(1000, activation='relu', input_dim=1*1*512),\n",
        "        keras.layers.Dropout(0.5),\n",
        "        keras.layers.Dense(500, activation='relu'),\n",
        "        keras.layers.Dense(10, activation='softmax')    \n",
        "    ])\n"
      ],
      "execution_count": 47,
      "outputs": []
    },
    {
      "cell_type": "code",
      "metadata": {
        "id": "B9LrufStCEnR"
      },
      "source": [
        "ann_new_model2.compile(optimizer='adam',\n",
        "              loss=tf.keras.losses.SparseCategoricalCrossentropy(from_logits=True),\n",
        "              metrics=['accuracy'])"
      ],
      "execution_count": 48,
      "outputs": []
    },
    {
      "cell_type": "code",
      "metadata": {
        "colab": {
          "base_uri": "https://localhost:8080/"
        },
        "id": "jSyp0jI0CLV4",
        "outputId": "a0b28a48-9f39-4d78-e1f8-9a4b3ceab520"
      },
      "source": [
        "ann_history=ann_new_model2.fit(X_train_new_1,y_train,epochs=10,verbose=2,validation_data=(X_test_new_1,y_test))"
      ],
      "execution_count": 49,
      "outputs": [
        {
          "output_type": "stream",
          "name": "stdout",
          "text": [
            "Epoch 1/10\n"
          ]
        },
        {
          "output_type": "stream",
          "name": "stderr",
          "text": [
            "/usr/local/lib/python3.7/dist-packages/tensorflow/python/util/dispatch.py:1096: UserWarning: \"`sparse_categorical_crossentropy` received `from_logits=True`, but the `output` argument was produced by a sigmoid or softmax activation and thus does not represent logits. Was this intended?\"\n",
            "  return dispatch_target(*args, **kwargs)\n"
          ]
        },
        {
          "output_type": "stream",
          "name": "stdout",
          "text": [
            "1563/1563 - 7s - loss: 1.4321 - accuracy: 0.4941 - val_loss: 1.2427 - val_accuracy: 0.5620 - 7s/epoch - 4ms/step\n",
            "Epoch 2/10\n",
            "1563/1563 - 6s - loss: 1.2755 - accuracy: 0.5499 - val_loss: 1.2077 - val_accuracy: 0.5736 - 6s/epoch - 4ms/step\n",
            "Epoch 3/10\n",
            "1563/1563 - 6s - loss: 1.2188 - accuracy: 0.5693 - val_loss: 1.1812 - val_accuracy: 0.5909 - 6s/epoch - 4ms/step\n",
            "Epoch 4/10\n",
            "1563/1563 - 6s - loss: 1.1835 - accuracy: 0.5851 - val_loss: 1.1613 - val_accuracy: 0.5898 - 6s/epoch - 4ms/step\n",
            "Epoch 5/10\n",
            "1563/1563 - 6s - loss: 1.1524 - accuracy: 0.5971 - val_loss: 1.1372 - val_accuracy: 0.6054 - 6s/epoch - 4ms/step\n",
            "Epoch 6/10\n",
            "1563/1563 - 6s - loss: 1.1254 - accuracy: 0.6036 - val_loss: 1.1353 - val_accuracy: 0.6025 - 6s/epoch - 4ms/step\n",
            "Epoch 7/10\n",
            "1563/1563 - 6s - loss: 1.1035 - accuracy: 0.6114 - val_loss: 1.1219 - val_accuracy: 0.6102 - 6s/epoch - 4ms/step\n",
            "Epoch 8/10\n",
            "1563/1563 - 6s - loss: 1.0788 - accuracy: 0.6170 - val_loss: 1.1128 - val_accuracy: 0.6100 - 6s/epoch - 4ms/step\n",
            "Epoch 9/10\n",
            "1563/1563 - 6s - loss: 1.0650 - accuracy: 0.6249 - val_loss: 1.1110 - val_accuracy: 0.6098 - 6s/epoch - 4ms/step\n",
            "Epoch 10/10\n",
            "1563/1563 - 6s - loss: 1.0456 - accuracy: 0.6311 - val_loss: 1.1045 - val_accuracy: 0.6188 - 6s/epoch - 4ms/step\n"
          ]
        }
      ]
    },
    {
      "cell_type": "code",
      "metadata": {
        "id": "0HJejrfwtRFW"
      },
      "source": [
        "# #Lets train a new ann model -network withh VGG16 as a part NN layer\n",
        "\n",
        "#tf.keras.backend.clear_session() - this will clear out session in the notebook\n",
        "\n",
        "network= models.Sequential()\n",
        "network.add(base_model_VGG16)\n",
        "# network.add(Flatten())\n",
        "\n",
        "network.add(Dense(1000,activation='relu'))\n",
        "network.add(Dropout(0.3))\n",
        "network.add(Dense(500,activation='relu'))\n",
        "network.add(Dropout(0.3))\n",
        "network.add(Dense(128,activation='relu'))\n",
        "network.add(Dropout(0.3))\n",
        "network.add(Dense(64,activation='relu'))\n",
        "network.add(Dropout(0.3))\n",
        "\n",
        "network.add(Dense(10, activation='softmax'))"
      ],
      "execution_count": 53,
      "outputs": []
    },
    {
      "cell_type": "code",
      "metadata": {
        "id": "pVjgTUqQuOhX",
        "colab": {
          "base_uri": "https://localhost:8080/"
        },
        "outputId": "a02eb50e-155a-4366-f798-859f7fbd4af3"
      },
      "source": [
        "network.summary()\n",
        "# network.compile(optimizer='adam',\n",
        "#             loss='sparse_categorical_crossentropy',\n",
        "#             metrics=['accuracy']\n",
        "#             )\n",
        "network.compile(optimizer='adam',\n",
        "              loss=tf.keras.losses.SparseCategoricalCrossentropy(from_logits=True),\n",
        "              metrics=['accuracy'])"
      ],
      "execution_count": 54,
      "outputs": [
        {
          "output_type": "stream",
          "name": "stdout",
          "text": [
            "Model: \"sequential_5\"\n",
            "_________________________________________________________________\n",
            " Layer (type)                Output Shape              Param #   \n",
            "=================================================================\n",
            " vgg16 (Functional)          (None, 1, 1, 512)         14714688  \n",
            "                                                                 \n",
            " dense_16 (Dense)            (None, 1, 1, 1000)        513000    \n",
            "                                                                 \n",
            " dropout_8 (Dropout)         (None, 1, 1, 1000)        0         \n",
            "                                                                 \n",
            " dense_17 (Dense)            (None, 1, 1, 500)         500500    \n",
            "                                                                 \n",
            " dropout_9 (Dropout)         (None, 1, 1, 500)         0         \n",
            "                                                                 \n",
            " dense_18 (Dense)            (None, 1, 1, 128)         64128     \n",
            "                                                                 \n",
            " dropout_10 (Dropout)        (None, 1, 1, 128)         0         \n",
            "                                                                 \n",
            " dense_19 (Dense)            (None, 1, 1, 64)          8256      \n",
            "                                                                 \n",
            " dropout_11 (Dropout)        (None, 1, 1, 64)          0         \n",
            "                                                                 \n",
            " dense_20 (Dense)            (None, 1, 1, 10)          650       \n",
            "                                                                 \n",
            "=================================================================\n",
            "Total params: 15,801,222\n",
            "Trainable params: 1,086,534\n",
            "Non-trainable params: 14,714,688\n",
            "_________________________________________________________________\n"
          ]
        }
      ]
    },
    {
      "cell_type": "code",
      "metadata": {
        "colab": {
          "base_uri": "https://localhost:8080/"
        },
        "id": "KM0u9qmEuSTr",
        "outputId": "01306173-4e1e-4f1e-ee10-3413c4c9ff72"
      },
      "source": [
        "history=network.fit(X_train,y_train,epochs=10,verbose=2,validation_data=(X_test,y_test))"
      ],
      "execution_count": 55,
      "outputs": [
        {
          "metadata": {
            "tags": null
          },
          "name": "stdout",
          "output_type": "stream",
          "text": [
            "Epoch 1/10\n"
          ]
        },
        {
          "metadata": {
            "tags": null
          },
          "name": "stderr",
          "output_type": "stream",
          "text": [
            "/usr/local/lib/python3.7/dist-packages/tensorflow/python/util/dispatch.py:1096: UserWarning: \"`sparse_categorical_crossentropy` received `from_logits=True`, but the `output` argument was produced by a sigmoid or softmax activation and thus does not represent logits. Was this intended?\"\n",
            "  return dispatch_target(*args, **kwargs)\n"
          ]
        },
        {
          "metadata": {
            "tags": null
          },
          "name": "stdout",
          "output_type": "stream",
          "text": [
            "1563/1563 - 40s - loss: 1.6258 - accuracy: 0.1106 - val_loss: 1.3393 - val_accuracy: 0.1138 - 40s/epoch - 25ms/step\n",
            "Epoch 2/10\n",
            "1563/1563 - 38s - loss: 1.3942 - accuracy: 0.1134 - val_loss: 1.2908 - val_accuracy: 0.1148 - 38s/epoch - 24ms/step\n",
            "Epoch 3/10\n",
            "1563/1563 - 38s - loss: 1.3215 - accuracy: 0.1140 - val_loss: 1.2450 - val_accuracy: 0.1152 - 38s/epoch - 24ms/step\n",
            "Epoch 4/10\n",
            "1563/1563 - 38s - loss: 1.2752 - accuracy: 0.1148 - val_loss: 1.2359 - val_accuracy: 0.1154 - 38s/epoch - 24ms/step\n",
            "Epoch 5/10\n",
            "1563/1563 - 38s - loss: 1.2469 - accuracy: 0.1146 - val_loss: 1.1825 - val_accuracy: 0.1159 - 38s/epoch - 24ms/step\n",
            "Epoch 6/10\n",
            "1563/1563 - 38s - loss: 1.2151 - accuracy: 0.1155 - val_loss: 1.2008 - val_accuracy: 0.1153 - 38s/epoch - 24ms/step\n",
            "Epoch 7/10\n",
            "1563/1563 - 38s - loss: 1.1915 - accuracy: 0.1155 - val_loss: 1.1717 - val_accuracy: 0.1160 - 38s/epoch - 24ms/step\n",
            "Epoch 8/10\n",
            "1563/1563 - 38s - loss: 1.1630 - accuracy: 0.1156 - val_loss: 1.1648 - val_accuracy: 0.1164 - 38s/epoch - 24ms/step\n",
            "Epoch 9/10\n",
            "1563/1563 - 38s - loss: 1.1492 - accuracy: 0.1162 - val_loss: 1.1571 - val_accuracy: 0.1162 - 38s/epoch - 24ms/step\n",
            "Epoch 10/10\n",
            "1563/1563 - 38s - loss: 1.1273 - accuracy: 0.1162 - val_loss: 1.1423 - val_accuracy: 0.1159 - 38s/epoch - 24ms/step\n"
          ]
        }
      ]
    },
    {
      "cell_type": "code",
      "metadata": {
        "colab": {
          "base_uri": "https://localhost:8080/",
          "height": 573
        },
        "id": "lf65BDCTvgr3",
        "outputId": "43e25ba2-5cb4-4728-efdb-f659035a54da"
      },
      "source": [
        "#Summary history of accuracy\n",
        "plt.plot(history.history['accuracy'])\n",
        "plt.plot(history.history['val_accuracy'])\n",
        "plt.title('Model_Accuracy')\n",
        "plt.xlabel('epoch')\n",
        "plt.ylabel('accuracy')\n",
        "plt.legend(['train','validation'], loc='upper left')\n",
        "plt.show()\n",
        "\n",
        "#Summary history of loss\n",
        "plt.plot(history.history['loss'])\n",
        "plt.plot(history.history['val_loss'])\n",
        "plt.title('Model_loss')\n",
        "plt.xlabel('epoch')\n",
        "plt.ylabel('loss')\n",
        "plt.legend(['train','validation'], loc='upper left')\n",
        "plt.show()\n"
      ],
      "execution_count": 56,
      "outputs": [
        {
          "output_type": "display_data",
          "data": {
            "image/png": "[encoded data removed]",
            "text/plain": [
              "<Figure size 432x288 with 1 Axes>"
            ]
          },
          "metadata": {
            "needs_background": "light"
          }
        },
        {
          "output_type": "display_data",
          "data": {
            "image/png": "[encoded data removed]",
            "text/plain": [
              "<Figure size 432x288 with 1 Axes>"
            ]
          },
          "metadata": {
            "needs_background": "light"
          }
        }
      ]
    },
    {
      "cell_type": "code",
      "metadata": {
        "id": "DGteyBdUkI4t"
      },
      "source": [
        "X_train_new_1.shape"
      ],
      "execution_count": null,
      "outputs": []
    }
  ]
}