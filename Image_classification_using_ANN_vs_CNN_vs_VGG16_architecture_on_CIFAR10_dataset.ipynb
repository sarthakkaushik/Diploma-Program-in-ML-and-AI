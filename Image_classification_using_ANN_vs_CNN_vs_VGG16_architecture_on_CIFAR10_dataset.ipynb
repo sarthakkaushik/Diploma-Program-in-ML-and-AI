{
  "nbformat": 4,
  "nbformat_minor": 0,
  "metadata": {
    "colab": {
      "name": "Image classification using ANN vs CNN vs VGG16 architecture on CIFAR10 dataset.ipynb",
      "provenance": [],
      "authorship_tag": "ABX9TyPh702lknzNGIKjO/vJFw13",
      "include_colab_link": true
    },
    "kernelspec": {
      "name": "python3",
      "display_name": "Python 3"
    },
    "language_info": {
      "name": "python"
    },
    "accelerator": "GPU"
  },
  "cells": [
    {
      "cell_type": "markdown",
      "metadata": {
        "id": "view-in-github",
        "colab_type": "text"
      },
      "source": [
        "<a href=\"https://colab.research.google.com/github/sarthakkaushik/Diploma-Program-in-ML-and-AI/blob/main/Image_classification_using_ANN_vs_CNN_vs_VGG16_architecture_on_CIFAR10_dataset.ipynb\" target=\"_parent\"><img src=\"https://colab.research.google.com/assets/colab-badge.svg\" alt=\"Open In Colab\"/></a>"
      ]
    },
    {
      "cell_type": "code",
      "metadata": {
        "id": "CGXtQxx_Px1-"
      },
      "source": [
        "import tensorflow as tf\n",
        "from tensorflow.keras import datasets, layers, models\n",
        "import matplotlib.pyplot as plt\n",
        "import numpy as np"
      ],
      "execution_count": 4,
      "outputs": []
    },
    {
      "cell_type": "markdown",
      "metadata": {
        "id": "L7kVGgG0QUcz"
      },
      "source": [
        "#Loading the data set"
      ]
    },
    {
      "cell_type": "code",
      "metadata": {
        "colab": {
          "base_uri": "https://localhost:8080/"
        },
        "id": "pQvIgZ2oQj0M",
        "outputId": "999c509c-0672-4cce-cea0-f0308083d903"
      },
      "source": [
        "(X_train,y_train),(X_test,y_test)=datasets.cifar10.load_data()"
      ],
      "execution_count": 5,
      "outputs": [
        {
          "output_type": "stream",
          "name": "stdout",
          "text": [
            "Downloading data from https://www.cs.toronto.edu/~kriz/cifar-10-python.tar.gz\n",
            "170500096/170498071 [==============================] - 2s 0us/step\n",
            "170508288/170498071 [==============================] - 2s 0us/step\n"
          ]
        }
      ]
    },
    {
      "cell_type": "code",
      "metadata": {
        "colab": {
          "base_uri": "https://localhost:8080/"
        },
        "id": "lhxsbzUnQyUA",
        "outputId": "e346da71-7d11-40cf-9acf-a9242b5a8c68"
      },
      "source": [
        " print('X_train shape',X_train.shape)\n",
        "print('X_test shape',X_test.shape)\n",
        " "
      ],
      "execution_count": 6,
      "outputs": [
        {
          "output_type": "stream",
          "name": "stdout",
          "text": [
            "X_train shape (50000, 32, 32, 3)\n",
            "X_test shape (10000, 32, 32, 3)\n"
          ]
        }
      ]
    },
    {
      "cell_type": "code",
      "metadata": {
        "colab": {
          "base_uri": "https://localhost:8080/"
        },
        "id": "EwWQ59T_RE6A",
        "outputId": "d0a87b6e-3432-4b7b-cf2c-03decbc69ef5"
      },
      "source": [
        " print('y_train shape',y_train.shape)\n",
        " print('y_test shape',y_test.shape)\n",
        " "
      ],
      "execution_count": 7,
      "outputs": [
        {
          "output_type": "stream",
          "name": "stdout",
          "text": [
            "y_train shape (50000, 1)\n",
            "y_test shape (10000, 1)\n"
          ]
        }
      ]
    },
    {
      "cell_type": "code",
      "metadata": {
        "colab": {
          "base_uri": "https://localhost:8080/"
        },
        "id": "4vWhuX6eRMYb",
        "outputId": "425ee325-8a7a-42f2-e7b5-59d67eafb366"
      },
      "source": [
        "y_train[:5] # its a 2D array, for classification it would be easy to operate on 1d array, hence we will convert it in 1D array"
      ],
      "execution_count": 8,
      "outputs": [
        {
          "output_type": "execute_result",
          "data": {
            "text/plain": [
              "array([[6],\n",
              "       [9],\n",
              "       [9],\n",
              "       [4],\n",
              "       [1]], dtype=uint8)"
            ]
          },
          "metadata": {},
          "execution_count": 8
        }
      ]
    },
    {
      "cell_type": "code",
      "metadata": {
        "colab": {
          "base_uri": "https://localhost:8080/"
        },
        "id": "PzJJGN9YRoRs",
        "outputId": "c1101387-2474-4afb-daf8-380a34abb147"
      },
      "source": [
        "y_train=y_train.reshape(-1,) #-1 beacuse if we dont want to change the 1st dimension, 2nd dim we want to flatten it hence we will leave it blank\n",
        "print(y_train[:5])\n",
        "y_test=y_test.reshape(-1,)\n",
        "print(y_test[:5])"
      ],
      "execution_count": 9,
      "outputs": [
        {
          "output_type": "stream",
          "name": "stdout",
          "text": [
            "[6 9 9 4 1]\n",
            "[3 8 8 0 6]\n"
          ]
        }
      ]
    },
    {
      "cell_type": "code",
      "metadata": {
        "id": "A2QYtFl1SjoL"
      },
      "source": [
        "classes = [\"airplane\",\"automobile\",\"bird\",\"cat\",\"deer\",\"dog\",\"frog\",\"horse\",\"ship\",\"truck\"]"
      ],
      "execution_count": 10,
      "outputs": []
    },
    {
      "cell_type": "markdown",
      "metadata": {
        "id": "rTFO8pFeSl0f"
      },
      "source": [
        "#Plotting some of the images"
      ]
    },
    {
      "cell_type": "code",
      "metadata": {
        "id": "olQZLUsUSpFL"
      },
      "source": [
        "def plotsample(X,y, index):\n",
        "  plt.figure(figsize=(15,2))\n",
        "  plt.imshow(X[index])\n",
        "  plt.xlabel(classes[y[index]])"
      ],
      "execution_count": 11,
      "outputs": []
    },
    {
      "cell_type": "code",
      "metadata": {
        "colab": {
          "base_uri": "https://localhost:8080/",
          "height": 485
        },
        "id": "uR-B_oH9Skhh",
        "outputId": "4405ee6b-d502-4924-b395-235fbb02da21"
      },
      "source": [
        "plotsample(X_train,y_train,0)\n",
        "plotsample(X_train,y_train,5)\n",
        "plotsample(X_train,y_train,10)\n"
      ],
      "execution_count": 12,
      "outputs": [
        {
          "output_type": "display_data",
          "data": {
            "image/png": "[encoded data removed]",
            "text/plain": [
              "<Figure size 1080x144 with 1 Axes>"
            ]
          },
          "metadata": {
            "needs_background": "light"
          }
        },
        {
          "output_type": "display_data",
          "data": {
            "image/png": "[encoded data removed]",
            "text/plain": [
              "<Figure size 1080x144 with 1 Axes>"
            ]
          },
          "metadata": {
            "needs_background": "light"
          }
        },
        {
          "output_type": "display_data",
          "data": {
            "image/png": "[encoded data removed]",
            "text/plain": [
              "<Figure size 1080x144 with 1 Axes>"
            ]
          },
          "metadata": {
            "needs_background": "light"
          }
        }
      ]
    },
    {
      "cell_type": "markdown",
      "metadata": {
        "id": "DQHUShxvTZ6e"
      },
      "source": [
        "Normalize the images to a number from 0 to 1. Image has 3 channels (R,G,B) and each value in the channel can range from 0 to 255. Hence to normalize in 0-->1 range, we need to divide it by 255"
      ]
    },
    {
      "cell_type": "markdown",
      "metadata": {
        "id": "aNwaDcIHTh5_"
      },
      "source": [
        "**Normalizing the training data**"
      ]
    },
    {
      "cell_type": "code",
      "metadata": {
        "id": "s3nqOHtgTrEY"
      },
      "source": [
        "X_train=X_train/255.0\n",
        "X_test=X_test/255.0"
      ],
      "execution_count": 13,
      "outputs": []
    },
    {
      "cell_type": "markdown",
      "metadata": {
        "id": "KB22aERMT2ZI"
      },
      "source": [
        "**Case I:** Build artificial Neural Netwok"
      ]
    },
    {
      "cell_type": "code",
      "metadata": {
        "id": "UFex6uQHT-TK"
      },
      "source": [
        "ann = models.Sequential([\n",
        "        layers.Flatten(input_shape=(32,32,3)),\n",
        "        layers.Dense(1000, activation='relu'),\n",
        "        layers.Dense(500, activation='relu'),\n",
        "        layers.Dense(10, activation='softmax')    \n",
        "    ])\n"
      ],
      "execution_count": 14,
      "outputs": []
    },
    {
      "cell_type": "code",
      "metadata": {
        "id": "NzMEftPbUWo2"
      },
      "source": [
        "ann.compile(optimizer='adam',\n",
        "            loss='sparse_categorical_crossentropy',\n",
        "            metrics=['accuracy']\n",
        "            )"
      ],
      "execution_count": 15,
      "outputs": []
    },
    {
      "cell_type": "code",
      "metadata": {
        "colab": {
          "base_uri": "https://localhost:8080/"
        },
        "id": "ZFciEKj_UKi3",
        "outputId": "ef3db380-4375-46d0-e2df-b6f5478a4028"
      },
      "source": [
        "ann.fit(X_train,y_train,epochs=10,verbose=2,validation_data=(X_test,y_test))"
      ],
      "execution_count": 16,
      "outputs": [
        {
          "output_type": "stream",
          "name": "stdout",
          "text": [
            "Epoch 1/10\n",
            "1563/1563 - 10s - loss: 1.8667 - accuracy: 0.3264 - val_loss: 1.7257 - val_accuracy: 0.3730 - 10s/epoch - 7ms/step\n",
            "Epoch 2/10\n",
            "1563/1563 - 7s - loss: 1.6600 - accuracy: 0.4062 - val_loss: 1.6690 - val_accuracy: 0.4026 - 7s/epoch - 5ms/step\n",
            "Epoch 3/10\n",
            "1563/1563 - 7s - loss: 1.5762 - accuracy: 0.4346 - val_loss: 1.5921 - val_accuracy: 0.4404 - 7s/epoch - 5ms/step\n",
            "Epoch 4/10\n",
            "1563/1563 - 7s - loss: 1.5234 - accuracy: 0.4533 - val_loss: 1.5229 - val_accuracy: 0.4646 - 7s/epoch - 5ms/step\n",
            "Epoch 5/10\n",
            "1563/1563 - 7s - loss: 1.4881 - accuracy: 0.4688 - val_loss: 1.5084 - val_accuracy: 0.4742 - 7s/epoch - 5ms/step\n",
            "Epoch 6/10\n",
            "1563/1563 - 8s - loss: 1.4566 - accuracy: 0.4785 - val_loss: 1.5108 - val_accuracy: 0.4663 - 8s/epoch - 5ms/step\n",
            "Epoch 7/10\n",
            "1563/1563 - 7s - loss: 1.4273 - accuracy: 0.4872 - val_loss: 1.4702 - val_accuracy: 0.4739 - 7s/epoch - 5ms/step\n",
            "Epoch 8/10\n",
            "1563/1563 - 7s - loss: 1.4050 - accuracy: 0.4951 - val_loss: 1.5199 - val_accuracy: 0.4574 - 7s/epoch - 5ms/step\n",
            "Epoch 9/10\n",
            "1563/1563 - 7s - loss: 1.3798 - accuracy: 0.5027 - val_loss: 1.4438 - val_accuracy: 0.4881 - 7s/epoch - 5ms/step\n",
            "Epoch 10/10\n",
            "1563/1563 - 8s - loss: 1.3609 - accuracy: 0.5106 - val_loss: 1.5136 - val_accuracy: 0.4616 - 8s/epoch - 5ms/step\n"
          ]
        },
        {
          "output_type": "execute_result",
          "data": {
            "text/plain": [
              "<keras.callbacks.History at 0x7f1dd0620e90>"
            ]
          },
          "metadata": {},
          "execution_count": 16
        }
      ]
    },
    {
      "cell_type": "code",
      "metadata": {
        "colab": {
          "base_uri": "https://localhost:8080/"
        },
        "id": "69_6CTFYZo9L",
        "outputId": "4b7dfab4-4d1b-47df-82ee-1c52aefed900"
      },
      "source": [
        "score=ann.evaluate(X_test,y_test,verbose=0)\n",
        "print('Test Loss', score[0])\n",
        "print('Train Loss', score[1])\n"
      ],
      "execution_count": 17,
      "outputs": [
        {
          "output_type": "stream",
          "name": "stdout",
          "text": [
            "Test Loss 1.5136494636535645\n",
            "Train Loss 0.46160000562667847\n"
          ]
        }
      ]
    },
    {
      "cell_type": "markdown",
      "metadata": {
        "id": "2ZW4EmwBW2BK"
      },
      "source": [
        "**You can see that at the end of 10 epochs, accuracy is at around 47%**"
      ]
    },
    {
      "cell_type": "code",
      "metadata": {
        "colab": {
          "base_uri": "https://localhost:8080/"
        },
        "id": "9PHErMy4T1Oj",
        "outputId": "34c6f38f-96ac-4f71-93fa-bfacbb6f935e"
      },
      "source": [
        "from sklearn.metrics import confusion_matrix, classification_report\n",
        "import numpy as np\n",
        "y_pred=ann.predict(X_test)\n",
        "y_pred_classes=[np.argmax(elements) for elements in y_pred]\n",
        "\n",
        "print('Classification Report: \\n', classification_report(y_test,y_pred_classes))\n"
      ],
      "execution_count": 18,
      "outputs": [
        {
          "output_type": "stream",
          "name": "stdout",
          "text": [
            "Classification Report: \n",
            "               precision    recall  f1-score   support\n",
            "\n",
            "           0       0.57      0.52      0.54      1000\n",
            "           1       0.49      0.73      0.59      1000\n",
            "           2       0.31      0.49      0.38      1000\n",
            "           3       0.41      0.16      0.23      1000\n",
            "           4       0.42      0.35      0.38      1000\n",
            "           5       0.37      0.49      0.42      1000\n",
            "           6       0.42      0.63      0.50      1000\n",
            "           7       0.75      0.31      0.44      1000\n",
            "           8       0.59      0.63      0.61      1000\n",
            "           9       0.63      0.32      0.43      1000\n",
            "\n",
            "    accuracy                           0.46     10000\n",
            "   macro avg       0.50      0.46      0.45     10000\n",
            "weighted avg       0.50      0.46      0.45     10000\n",
            "\n"
          ]
        }
      ]
    },
    {
      "cell_type": "markdown",
      "metadata": {
        "id": "_EDv-WvMaip0"
      },
      "source": [
        "**Case-2 :** Lets see the CNN performance on Image data"
      ]
    },
    {
      "cell_type": "code",
      "metadata": {
        "id": "RH5dxVI0aqcY"
      },
      "source": [
        "cnn=models.Sequential([\n",
        "                       \n",
        "                       layers.Conv2D(filters=32,kernel_size=(3,3),activation='relu', input_shape=(32,32,3)),\n",
        "                       layers.MaxPooling2D((2,2)),\n",
        "\n",
        "                       layers.Conv2D(filters=32,kernel_size=(3,3),activation='relu', input_shape=(32,32,3)),\n",
        "                       layers.MaxPooling2D((2,2)),\n",
        "                       layers.Dropout(0.25),\n",
        "\n",
        "                       layers.Flatten(),\n",
        "                       layers.Dense(64,activation='relu'),\n",
        "                       layers.Dense(10, activation='softmax')\n",
        "])"
      ],
      "execution_count": 19,
      "outputs": []
    },
    {
      "cell_type": "code",
      "metadata": {
        "id": "6UDCpOwATljr"
      },
      "source": [
        "cnn.compile(optimizer='adam',\n",
        "            loss='sparse_categorical_crossentropy',\n",
        "            metrics=['accuracy']\n",
        "            )"
      ],
      "execution_count": 20,
      "outputs": []
    },
    {
      "cell_type": "code",
      "metadata": {
        "colab": {
          "base_uri": "https://localhost:8080/"
        },
        "id": "4WYNsZ6LTalB",
        "outputId": "e09999bd-0b26-4799-92d7-33dc2413d148"
      },
      "source": [
        "cnn.fit(X_train,y_train,epochs=10,verbose=2,validation_data=(X_test,y_test))"
      ],
      "execution_count": 21,
      "outputs": [
        {
          "output_type": "stream",
          "name": "stdout",
          "text": [
            "Epoch 1/10\n",
            "1563/1563 - 36s - loss: 1.5392 - accuracy: 0.4438 - val_loss: 1.2612 - val_accuracy: 0.5446 - 36s/epoch - 23ms/step\n",
            "Epoch 2/10\n",
            "1563/1563 - 8s - loss: 1.2412 - accuracy: 0.5611 - val_loss: 1.1119 - val_accuracy: 0.6129 - 8s/epoch - 5ms/step\n",
            "Epoch 3/10\n",
            "1563/1563 - 8s - loss: 1.1179 - accuracy: 0.6066 - val_loss: 1.0544 - val_accuracy: 0.6319 - 8s/epoch - 5ms/step\n",
            "Epoch 4/10\n",
            "1563/1563 - 8s - loss: 1.0270 - accuracy: 0.6394 - val_loss: 0.9828 - val_accuracy: 0.6577 - 8s/epoch - 5ms/step\n",
            "Epoch 5/10\n",
            "1563/1563 - 8s - loss: 0.9737 - accuracy: 0.6603 - val_loss: 0.9577 - val_accuracy: 0.6729 - 8s/epoch - 5ms/step\n",
            "Epoch 6/10\n",
            "1563/1563 - 8s - loss: 0.9253 - accuracy: 0.6760 - val_loss: 0.9128 - val_accuracy: 0.6799 - 8s/epoch - 5ms/step\n",
            "Epoch 7/10\n",
            "1563/1563 - 8s - loss: 0.8905 - accuracy: 0.6886 - val_loss: 0.8944 - val_accuracy: 0.6949 - 8s/epoch - 5ms/step\n",
            "Epoch 8/10\n",
            "1563/1563 - 8s - loss: 0.8559 - accuracy: 0.7004 - val_loss: 0.9284 - val_accuracy: 0.6836 - 8s/epoch - 5ms/step\n",
            "Epoch 9/10\n",
            "1563/1563 - 8s - loss: 0.8243 - accuracy: 0.7129 - val_loss: 0.8930 - val_accuracy: 0.6917 - 8s/epoch - 5ms/step\n",
            "Epoch 10/10\n",
            "1563/1563 - 8s - loss: 0.7986 - accuracy: 0.7183 - val_loss: 0.8548 - val_accuracy: 0.7090 - 8s/epoch - 5ms/step\n"
          ]
        },
        {
          "output_type": "execute_result",
          "data": {
            "text/plain": [
              "<keras.callbacks.History at 0x7f1d62baed90>"
            ]
          },
          "metadata": {},
          "execution_count": 21
        }
      ]
    },
    {
      "cell_type": "code",
      "metadata": {
        "colab": {
          "base_uri": "https://localhost:8080/"
        },
        "id": "CSnMTYoifaBB",
        "outputId": "81047c22-4ce6-40b3-b3a2-647b21134b48"
      },
      "source": [
        "score=ann.evaluate(X_test,y_test,verbose=0)\n",
        "print('Test Loss', score[0])\n",
        "print('Train Loss', score[1])\n"
      ],
      "execution_count": 22,
      "outputs": [
        {
          "output_type": "stream",
          "name": "stdout",
          "text": [
            "Test Loss 1.5136494636535645\n",
            "Train Loss 0.46160000562667847\n"
          ]
        }
      ]
    },
    {
      "cell_type": "code",
      "metadata": {
        "colab": {
          "base_uri": "https://localhost:8080/"
        },
        "id": "Pzg0_IqufhKx",
        "outputId": "036c7de1-79de-4ca4-ae0c-01baae22b789"
      },
      "source": [
        "y_pred=ann.predict(X_test)\n",
        "y_pred_classes=[np.argmax(elements) for elements in y_pred]\n",
        "\n",
        "print('Classification Report: \\n', classification_report(y_test,y_pred_classes))"
      ],
      "execution_count": 23,
      "outputs": [
        {
          "output_type": "stream",
          "name": "stdout",
          "text": [
            "Classification Report: \n",
            "               precision    recall  f1-score   support\n",
            "\n",
            "           0       0.57      0.52      0.54      1000\n",
            "           1       0.49      0.73      0.59      1000\n",
            "           2       0.31      0.49      0.38      1000\n",
            "           3       0.41      0.16      0.23      1000\n",
            "           4       0.42      0.35      0.38      1000\n",
            "           5       0.37      0.49      0.42      1000\n",
            "           6       0.42      0.63      0.50      1000\n",
            "           7       0.75      0.31      0.44      1000\n",
            "           8       0.59      0.63      0.61      1000\n",
            "           9       0.63      0.32      0.43      1000\n",
            "\n",
            "    accuracy                           0.46     10000\n",
            "   macro avg       0.50      0.46      0.45     10000\n",
            "weighted avg       0.50      0.46      0.45     10000\n",
            "\n"
          ]
        }
      ]
    },
    {
      "cell_type": "markdown",
      "metadata": {
        "id": "sL9XfEWhg-8F"
      },
      "source": [
        "#Using Tranfer Learning : VGG16"
      ]
    },
    {
      "cell_type": "code",
      "metadata": {
        "colab": {
          "base_uri": "https://localhost:8080/",
          "height": 1000
        },
        "id": "5G2nt1f-fiF2",
        "outputId": "df00e26a-33b2-4c37-f197-57e7adc6e67a"
      },
      "source": [
        "from keras.applications.vgg16 import VGG16\n",
        "from keras.utils.vis_utils import  plot_model\n",
        "model = VGG16()\n",
        "plot_model(model)"
      ],
      "execution_count": 24,
      "outputs": [
        {
          "output_type": "stream",
          "name": "stdout",
          "text": [
            "Downloading data from https://storage.googleapis.com/tensorflow/keras-applications/vgg16/vgg16_weights_tf_dim_ordering_tf_kernels.h5\n",
            "553467904/553467096 [==============================] - 6s 0us/step\n",
            "553476096/553467096 [==============================] - 6s 0us/step\n"
          ]
        },
        {
          "output_type": "execute_result",
          "data": {
            "image/png": "[encoded data removed]",
            "text/plain": [
              "<IPython.core.display.Image object>"
            ]
          },
          "metadata": {},
          "execution_count": 24
        }
      ]
    },
    {
      "cell_type": "code",
      "metadata": {
        "colab": {
          "base_uri": "https://localhost:8080/"
        },
        "id": "30J7ZTgVj1j6",
        "outputId": "ad29a4ed-0314-479c-8bc7-3d078273c016"
      },
      "source": [
        "# VGG-16 model summary\n",
        "model.summary()"
      ],
      "execution_count": 25,
      "outputs": [
        {
          "output_type": "stream",
          "name": "stdout",
          "text": [
            "Model: \"vgg16\"\n",
            "_________________________________________________________________\n",
            " Layer (type)                Output Shape              Param #   \n",
            "=================================================================\n",
            " input_1 (InputLayer)        [(None, 224, 224, 3)]     0         \n",
            "                                                                 \n",
            " block1_conv1 (Conv2D)       (None, 224, 224, 64)      1792      \n",
            "                                                                 \n",
            " block1_conv2 (Conv2D)       (None, 224, 224, 64)      36928     \n",
            "                                                                 \n",
            " block1_pool (MaxPooling2D)  (None, 112, 112, 64)      0         \n",
            "                                                                 \n",
            " block2_conv1 (Conv2D)       (None, 112, 112, 128)     73856     \n",
            "                                                                 \n",
            " block2_conv2 (Conv2D)       (None, 112, 112, 128)     147584    \n",
            "                                                                 \n",
            " block2_pool (MaxPooling2D)  (None, 56, 56, 128)       0         \n",
            "                                                                 \n",
            " block3_conv1 (Conv2D)       (None, 56, 56, 256)       295168    \n",
            "                                                                 \n",
            " block3_conv2 (Conv2D)       (None, 56, 56, 256)       590080    \n",
            "                                                                 \n",
            " block3_conv3 (Conv2D)       (None, 56, 56, 256)       590080    \n",
            "                                                                 \n",
            " block3_pool (MaxPooling2D)  (None, 28, 28, 256)       0         \n",
            "                                                                 \n",
            " block4_conv1 (Conv2D)       (None, 28, 28, 512)       1180160   \n",
            "                                                                 \n",
            " block4_conv2 (Conv2D)       (None, 28, 28, 512)       2359808   \n",
            "                                                                 \n",
            " block4_conv3 (Conv2D)       (None, 28, 28, 512)       2359808   \n",
            "                                                                 \n",
            " block4_pool (MaxPooling2D)  (None, 14, 14, 512)       0         \n",
            "                                                                 \n",
            " block5_conv1 (Conv2D)       (None, 14, 14, 512)       2359808   \n",
            "                                                                 \n",
            " block5_conv2 (Conv2D)       (None, 14, 14, 512)       2359808   \n",
            "                                                                 \n",
            " block5_conv3 (Conv2D)       (None, 14, 14, 512)       2359808   \n",
            "                                                                 \n",
            " block5_pool (MaxPooling2D)  (None, 7, 7, 512)         0         \n",
            "                                                                 \n",
            " flatten (Flatten)           (None, 25088)             0         \n",
            "                                                                 \n",
            " fc1 (Dense)                 (None, 4096)              102764544 \n",
            "                                                                 \n",
            " fc2 (Dense)                 (None, 4096)              16781312  \n",
            "                                                                 \n",
            " predictions (Dense)         (None, 1000)              4097000   \n",
            "                                                                 \n",
            "=================================================================\n",
            "Total params: 138,357,544\n",
            "Trainable params: 138,357,544\n",
            "Non-trainable params: 0\n",
            "_________________________________________________________________\n"
          ]
        }
      ]
    },
    {
      "cell_type": "markdown",
      "metadata": {
        "id": "NsMbxds6kKsb"
      },
      "source": [
        "The following code section will cut the VGG model after the final convolutional layer:"
      ]
    },
    {
      "cell_type": "code",
      "metadata": {
        "colab": {
          "base_uri": "https://localhost:8080/"
        },
        "id": "AT2UCNAnkFIv",
        "outputId": "f7ae2e7c-455a-490b-fd8f-ee30aa021bad"
      },
      "source": [
        "base_model_VGG16=VGG16(weights='imagenet',include_top=False,input_shape=(32,32,3))"
      ],
      "execution_count": 26,
      "outputs": [
        {
          "output_type": "stream",
          "name": "stdout",
          "text": [
            "Downloading data from https://storage.googleapis.com/tensorflow/keras-applications/vgg16/vgg16_weights_tf_dim_ordering_tf_kernels_notop.h5\n",
            "58892288/58889256 [==============================] - 1s 0us/step\n",
            "58900480/58889256 [==============================] - 1s 0us/step\n"
          ]
        }
      ]
    },
    {
      "cell_type": "code",
      "metadata": {
        "colab": {
          "base_uri": "https://localhost:8080/"
        },
        "id": "w1LTlvFbkwwR",
        "outputId": "2ade06b2-de8f-46ac-b952-c322875b7a05"
      },
      "source": [
        "base_model_VGG16.summary()"
      ],
      "execution_count": 27,
      "outputs": [
        {
          "output_type": "stream",
          "name": "stdout",
          "text": [
            "Model: \"vgg16\"\n",
            "_________________________________________________________________\n",
            " Layer (type)                Output Shape              Param #   \n",
            "=================================================================\n",
            " input_2 (InputLayer)        [(None, 32, 32, 3)]       0         \n",
            "                                                                 \n",
            " block1_conv1 (Conv2D)       (None, 32, 32, 64)        1792      \n",
            "                                                                 \n",
            " block1_conv2 (Conv2D)       (None, 32, 32, 64)        36928     \n",
            "                                                                 \n",
            " block1_pool (MaxPooling2D)  (None, 16, 16, 64)        0         \n",
            "                                                                 \n",
            " block2_conv1 (Conv2D)       (None, 16, 16, 128)       73856     \n",
            "                                                                 \n",
            " block2_conv2 (Conv2D)       (None, 16, 16, 128)       147584    \n",
            "                                                                 \n",
            " block2_pool (MaxPooling2D)  (None, 8, 8, 128)         0         \n",
            "                                                                 \n",
            " block3_conv1 (Conv2D)       (None, 8, 8, 256)         295168    \n",
            "                                                                 \n",
            " block3_conv2 (Conv2D)       (None, 8, 8, 256)         590080    \n",
            "                                                                 \n",
            " block3_conv3 (Conv2D)       (None, 8, 8, 256)         590080    \n",
            "                                                                 \n",
            " block3_pool (MaxPooling2D)  (None, 4, 4, 256)         0         \n",
            "                                                                 \n",
            " block4_conv1 (Conv2D)       (None, 4, 4, 512)         1180160   \n",
            "                                                                 \n",
            " block4_conv2 (Conv2D)       (None, 4, 4, 512)         2359808   \n",
            "                                                                 \n",
            " block4_conv3 (Conv2D)       (None, 4, 4, 512)         2359808   \n",
            "                                                                 \n",
            " block4_pool (MaxPooling2D)  (None, 2, 2, 512)         0         \n",
            "                                                                 \n",
            " block5_conv1 (Conv2D)       (None, 2, 2, 512)         2359808   \n",
            "                                                                 \n",
            " block5_conv2 (Conv2D)       (None, 2, 2, 512)         2359808   \n",
            "                                                                 \n",
            " block5_conv3 (Conv2D)       (None, 2, 2, 512)         2359808   \n",
            "                                                                 \n",
            " block5_pool (MaxPooling2D)  (None, 1, 1, 512)         0         \n",
            "                                                                 \n",
            "=================================================================\n",
            "Total params: 14,714,688\n",
            "Trainable params: 14,714,688\n",
            "Non-trainable params: 0\n",
            "_________________________________________________________________\n"
          ]
        }
      ]
    },
    {
      "cell_type": "code",
      "metadata": {
        "colab": {
          "base_uri": "https://localhost:8080/"
        },
        "id": "1mwwHc52lYqy",
        "outputId": "e151f8ed-9a3d-4079-b566-bbbae2d0338d"
      },
      "source": [
        "#create vectore representation for our data using VGG16\n",
        "X_train_vgg_output=base_model_VGG16.predict(X_train,verbose=2)\n",
        "X_test_vgg_output=base_model_VGG16.predict(X_test,verbose=2)\n"
      ],
      "execution_count": 28,
      "outputs": [
        {
          "output_type": "stream",
          "name": "stdout",
          "text": [
            "1563/1563 - 23s - 23s/epoch - 15ms/step\n",
            "313/313 - 4s - 4s/epoch - 14ms/step\n"
          ]
        }
      ]
    },
    {
      "cell_type": "code",
      "metadata": {
        "colab": {
          "base_uri": "https://localhost:8080/"
        },
        "id": "yYvAkF29oefx",
        "outputId": "1dfb0fd3-20b8-4761-d06d-1e29a97712ed"
      },
      "source": [
        "print ('shape of X_train_vegg_output: ',X_train_vgg_output.shape)\n",
        "print ('shape of X_test_vegg_output: ',X_test_vgg_output.shape)"
      ],
      "execution_count": 31,
      "outputs": [
        {
          "output_type": "stream",
          "name": "stdout",
          "text": [
            "shape of X_train_vegg_output:  (50000, 1, 1, 512)\n",
            "shape of X_test_vegg_output:  (10000, 1, 1, 512)\n"
          ]
        }
      ]
    },
    {
      "cell_type": "code",
      "metadata": {
        "colab": {
          "base_uri": "https://localhost:8080/"
        },
        "id": "0LV-ECDfpUig",
        "outputId": "e600d4bd-c842-4ccd-9175-f8c8b232e40b"
      },
      "source": [
        "X_train[0].shape"
      ],
      "execution_count": 34,
      "outputs": [
        {
          "output_type": "execute_result",
          "data": {
            "text/plain": [
              "(32, 32, 3)"
            ]
          },
          "metadata": {},
          "execution_count": 34
        }
      ]
    },
    {
      "cell_type": "code",
      "metadata": {
        "colab": {
          "base_uri": "https://localhost:8080/"
        },
        "id": "nFt6a-71pac0",
        "outputId": "062b870c-ef1b-4991-9ca1-78a42c8fe5ef"
      },
      "source": [
        "X_test_vgg_output[0].shape"
      ],
      "execution_count": 41,
      "outputs": [
        {
          "output_type": "execute_result",
          "data": {
            "text/plain": [
              "(1, 1, 512)"
            ]
          },
          "metadata": {},
          "execution_count": 41
        }
      ]
    },
    {
      "cell_type": "code",
      "metadata": {
        "colab": {
          "base_uri": "https://localhost:8080/"
        },
        "id": "xpKozxGjmTTG",
        "outputId": "e6e5508d-054b-4fa7-f3aa-8404f5104819"
      },
      "source": [
        "#Flatten the output\n",
        "X_train_new_1 = np.reshape(X_train_vgg_output,(50000,1*1*512))\n",
        "X_test_new_1=np.reshape(X_test_vgg_output,(10000,512))\n",
        "print('New shape train:', X_train_new_1.shape)\n",
        "print('New_shape_test',X_test_new_1.shape)\n",
        "\n",
        "\n"
      ],
      "execution_count": 47,
      "outputs": [
        {
          "output_type": "stream",
          "name": "stdout",
          "text": [
            "New shape train: (50000, 512)\n",
            "New_shape_test (10000, 512)\n"
          ]
        }
      ]
    },
    {
      "cell_type": "code",
      "metadata": {
        "id": "0HJejrfwtRFW"
      },
      "source": [
        "#Lets train a new ann model on our output feature form VGG16\n",
        "ann_new_model2 = models.Sequential([\n",
        "        # layers.Flatten(input_shape=(32,32,3)),\n",
        "        layers.Dense(1000, activation='relu', input_dim=1*1*512),\n",
        "        layers.Dropout(0.5),\n",
        "        layers.Dense(500, activation='relu'),\n",
        "        layers.Dense(10, activation='softmax')    \n",
        "    ])"
      ],
      "execution_count": 57,
      "outputs": []
    },
    {
      "cell_type": "code",
      "metadata": {
        "id": "pVjgTUqQuOhX"
      },
      "source": [
        "ann_new_model2.compile(optimizer='adam',\n",
        "            loss='sparse_categorical_crossentropy',\n",
        "            metrics=['accuracy']\n",
        "            )"
      ],
      "execution_count": 58,
      "outputs": []
    },
    {
      "cell_type": "code",
      "metadata": {
        "colab": {
          "base_uri": "https://localhost:8080/"
        },
        "id": "KM0u9qmEuSTr",
        "outputId": "e8e42fd8-0a73-4692-9c6c-ccce4a52087f"
      },
      "source": [
        "history=ann_new_model2.fit(X_train_new_1,y_train,epochs=20,verbose=2,validation_data=(X_test_new_1,y_test))"
      ],
      "execution_count": 59,
      "outputs": [
        {
          "output_type": "stream",
          "name": "stdout",
          "text": [
            "Epoch 1/20\n",
            "1563/1563 - 7s - loss: 1.4312 - accuracy: 0.4951 - val_loss: 1.2568 - val_accuracy: 0.5571 - 7s/epoch - 4ms/step\n",
            "Epoch 2/20\n",
            "1563/1563 - 6s - loss: 1.2757 - accuracy: 0.5505 - val_loss: 1.2253 - val_accuracy: 0.5692 - 6s/epoch - 4ms/step\n",
            "Epoch 3/20\n",
            "1563/1563 - 6s - loss: 1.2236 - accuracy: 0.5697 - val_loss: 1.1869 - val_accuracy: 0.5853 - 6s/epoch - 4ms/step\n",
            "Epoch 4/20\n",
            "1563/1563 - 6s - loss: 1.1832 - accuracy: 0.5834 - val_loss: 1.1657 - val_accuracy: 0.5896 - 6s/epoch - 4ms/step\n",
            "Epoch 5/20\n",
            "1563/1563 - 6s - loss: 1.1570 - accuracy: 0.5933 - val_loss: 1.1515 - val_accuracy: 0.6027 - 6s/epoch - 4ms/step\n",
            "Epoch 6/20\n",
            "1563/1563 - 6s - loss: 1.1246 - accuracy: 0.6028 - val_loss: 1.1551 - val_accuracy: 0.5973 - 6s/epoch - 4ms/step\n",
            "Epoch 7/20\n",
            "1563/1563 - 6s - loss: 1.1025 - accuracy: 0.6110 - val_loss: 1.1191 - val_accuracy: 0.6055 - 6s/epoch - 4ms/step\n",
            "Epoch 8/20\n",
            "1563/1563 - 6s - loss: 1.0798 - accuracy: 0.6173 - val_loss: 1.1241 - val_accuracy: 0.6081 - 6s/epoch - 4ms/step\n",
            "Epoch 9/20\n",
            "1563/1563 - 6s - loss: 1.0661 - accuracy: 0.6254 - val_loss: 1.1178 - val_accuracy: 0.6107 - 6s/epoch - 4ms/step\n",
            "Epoch 10/20\n",
            "1563/1563 - 6s - loss: 1.0398 - accuracy: 0.6291 - val_loss: 1.1187 - val_accuracy: 0.6131 - 6s/epoch - 4ms/step\n",
            "Epoch 11/20\n",
            "1563/1563 - 6s - loss: 1.0285 - accuracy: 0.6356 - val_loss: 1.1035 - val_accuracy: 0.6209 - 6s/epoch - 4ms/step\n",
            "Epoch 12/20\n",
            "1563/1563 - 6s - loss: 1.0080 - accuracy: 0.6430 - val_loss: 1.1035 - val_accuracy: 0.6198 - 6s/epoch - 4ms/step\n",
            "Epoch 13/20\n",
            "1563/1563 - 6s - loss: 0.9921 - accuracy: 0.6482 - val_loss: 1.0918 - val_accuracy: 0.6208 - 6s/epoch - 4ms/step\n",
            "Epoch 14/20\n",
            "1563/1563 - 6s - loss: 0.9780 - accuracy: 0.6507 - val_loss: 1.0850 - val_accuracy: 0.6289 - 6s/epoch - 4ms/step\n",
            "Epoch 15/20\n",
            "1563/1563 - 6s - loss: 0.9663 - accuracy: 0.6558 - val_loss: 1.0857 - val_accuracy: 0.6241 - 6s/epoch - 4ms/step\n",
            "Epoch 16/20\n",
            "1563/1563 - 6s - loss: 0.9527 - accuracy: 0.6614 - val_loss: 1.0827 - val_accuracy: 0.6236 - 6s/epoch - 4ms/step\n",
            "Epoch 17/20\n",
            "1563/1563 - 6s - loss: 0.9401 - accuracy: 0.6653 - val_loss: 1.0841 - val_accuracy: 0.6261 - 6s/epoch - 4ms/step\n",
            "Epoch 18/20\n",
            "1563/1563 - 6s - loss: 0.9210 - accuracy: 0.6694 - val_loss: 1.0879 - val_accuracy: 0.6253 - 6s/epoch - 4ms/step\n",
            "Epoch 19/20\n",
            "1563/1563 - 6s - loss: 0.9149 - accuracy: 0.6720 - val_loss: 1.0933 - val_accuracy: 0.6296 - 6s/epoch - 4ms/step\n",
            "Epoch 20/20\n",
            "1563/1563 - 6s - loss: 0.8987 - accuracy: 0.6763 - val_loss: 1.0876 - val_accuracy: 0.6244 - 6s/epoch - 4ms/step\n"
          ]
        }
      ]
    },
    {
      "cell_type": "code",
      "metadata": {
        "colab": {
          "base_uri": "https://localhost:8080/",
          "height": 295
        },
        "id": "lf65BDCTvgr3",
        "outputId": "a7cac018-ad7e-400e-e97c-201879077e75"
      },
      "source": [
        "plt.plot(history.history['accuracy'])\n",
        "plt.plot(history.history['val_accuracy'])\n",
        "plt.title('Model_Accuracy')\n",
        "plt.xlabel('epoch')\n",
        "plt.ylabel('accuracy')\n",
        "plt.legend(['train','validation'], loc='upper left')\n",
        "plt.show()\n"
      ],
      "execution_count": 60,
      "outputs": [
        {
          "output_type": "display_data",
          "data": {
            "image/png": "[encoded data removed]",
            "text/plain": [
              "<Figure size 432x288 with 1 Axes>"
            ]
          },
          "metadata": {
            "needs_background": "light"
          }
        }
      ]
    }
  ]
}