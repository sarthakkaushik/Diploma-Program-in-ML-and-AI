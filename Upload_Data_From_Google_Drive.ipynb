{
  "nbformat": 4,
  "nbformat_minor": 0,
  "metadata": {
    "colab": {
      "name": "Upload Data From Google Drive.ipynb",
      "provenance": [],
      "authorship_tag": "ABX9TyNnlmxhY9v89I4dmEceHzcO",
      "include_colab_link": true
    },
    "kernelspec": {
      "name": "python3",
      "display_name": "Python 3"
    },
    "language_info": {
      "name": "python"
    }
  },
  "cells": [
    {
      "cell_type": "markdown",
      "metadata": {
        "id": "view-in-github",
        "colab_type": "text"
      },
      "source": [
        "<a href=\"https://colab.research.google.com/github/sarthakkaushik/Diploma-Program-in-ML-and-AI/blob/main/Upload_Data_From_Google_Drive.ipynb\" target=\"_parent\"><img src=\"https://colab.research.google.com/assets/colab-badge.svg\" alt=\"Open In Colab\"/></a>"
      ]
    },
    {
      "cell_type": "code",
      "execution_count": null,
      "metadata": {
        "id": "ZLKRg0r1FfQI"
      },
      "outputs": [],
      "source": [
        "# Code to mount google drive in case you are loading the data from your google drive\n",
        "from google.colab import drive\n",
        "drive.mount('/gdrive')\n",
        "%cd /gdrive"
      ]
    },
    {
      "cell_type": "code",
      "source": [
        "# Loading data from csv file\n",
        "data_path1 = '/gdrive/MyDrive/UOH Assignment Dataset/Backpropagation_from_Scratch_Assignment_Data.pkl'"
      ],
      "metadata": {
        "id": "ccFHKm2NFoUG"
      },
      "execution_count": null,
      "outputs": []
    }
  ]
}